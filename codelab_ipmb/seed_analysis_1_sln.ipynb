{
 "cells": [
  {
   "cell_type": "markdown",
   "id": "38fc83e3-a192-4701-ac68-94a9982bfbb2",
   "metadata": {},
   "source": [
    "# Bioimage Analysis Workflow 2 - Seed Clustering (1)"
   ]
  },
  {
   "cell_type": "markdown",
   "id": "fd4a208c-0a35-441f-920a-23200e13916c",
   "metadata": {},
   "source": [
    "## Loading and Handling Image Data"
   ]
  },
  {
   "cell_type": "code",
   "execution_count": null,
   "id": "75559e33-d445-4f6c-9b68-b38541148686",
   "metadata": {},
   "outputs": [],
   "source": [
    "filepath = r'example_data/seed_img_1.JPG'\n",
    "\n",
    "from skimage.io import imread\n",
    "\n",
    "img = imread(filepath)\n",
    "\n",
    "print(\"Loaded array has shape:\", img.shape)\n",
    "print(\"Loaded values are of type:\", img.dtype)"
   ]
  },
  {
   "cell_type": "code",
   "execution_count": null,
   "id": "629ab388-57f8-4446-9f77-4319cfbce6a1",
   "metadata": {},
   "outputs": [],
   "source": [
    "# Split channel\n",
    "img_ch0 = img[:,:,0]\n",
    "img_ch1 = img[:,:,1]\n",
    "img_ch2 = img[:,:,2]"
   ]
  },
  {
   "cell_type": "markdown",
   "id": "bc747750-d2e2-4e0c-b358-907c13e48098",
   "metadata": {},
   "source": [
    "### Show image from different channels"
   ]
  },
  {
   "cell_type": "code",
   "execution_count": null,
   "id": "18b309d5-8ef8-4928-9557-bad2189aa47a",
   "metadata": {},
   "outputs": [],
   "source": [
    "import matplotlib.pyplot as plt\n",
    "\n",
    "# Define a range to visulize\n",
    "x_start = 1000\n",
    "x_end = 2000\n",
    "y_start = 1000\n",
    "y_end = 2000\n",
    "\n",
    "plt.figure(figsize=(15,15))\n",
    "plt.subplot(131)\n",
    "plt.imshow(img_ch0[y_start: y_end, x_start: x_end], cmap = 'gray', interpolation='none')\n",
    "plt.title('ch_0')\n",
    "plt.subplot(132)\n",
    "plt.imshow(img_ch1[y_start: y_end, x_start: x_end], cmap = 'gray', interpolation='none')\n",
    "plt.title('ch_1')\n",
    "plt.subplot(133)\n",
    "plt.imshow(img_ch2[y_start: y_end, x_start: x_end], cmap = 'gray', interpolation='none')\n",
    "plt.title('ch_2')"
   ]
  },
  {
   "cell_type": "markdown",
   "id": "5a7b49e1-7c8e-4f2f-b39c-8c4592ffb483",
   "metadata": {},
   "source": [
    "It can be seen that channel 2 is strong for all seeds"
   ]
  },
  {
   "cell_type": "markdown",
   "id": "53e158d7-c0e3-49c4-b3d2-3e712057ea48",
   "metadata": {},
   "source": [
    "## Segment Seeds by Otsu Thresholding"
   ]
  },
  {
   "cell_type": "code",
   "execution_count": null,
   "id": "fcbc0fa2-827a-4b01-897d-400a3f8c1197",
   "metadata": {},
   "outputs": [],
   "source": [
    "# Calculate Otsu's threshold by threshold_otsu from `skimage.filters.thresholding`\n",
    "### Your code here!\n",
    "from skimage.filters.thresholding import threshold_otsu\n",
    "\n",
    "# Calculate threshold\n",
    "### Your code here!\n",
    "thresh = threshold_otsu(img_ch2)"
   ]
  },
  {
   "cell_type": "code",
   "execution_count": null,
   "id": "6b9e8fd8-017f-441a-8453-431286d8c7c1",
   "metadata": {},
   "outputs": [],
   "source": [
    "# Perform Global thresholding with the calculated threshold\n",
    "### Your code here!\n",
    "seeds_seg = img_ch2 < thresh\n",
    "\n",
    "# Show the segmented image\n",
    "### Your code here!\n",
    "plt.imshow(seeds_seg[y_start: y_end, x_start: x_end], cmap = 'gray')\n",
    "plt.title('ch_2')"
   ]
  },
  {
   "cell_type": "markdown",
   "id": "5a384859-f66a-44c9-9c02-24370cc47ece",
   "metadata": {},
   "source": [
    "## Distance and Watershed transform"
   ]
  },
  {
   "cell_type": "markdown",
   "id": "7897ea98-6c40-4c30-85a0-8142b3096915",
   "metadata": {},
   "source": [
    "### Distance transform"
   ]
  },
  {
   "cell_type": "code",
   "execution_count": null,
   "id": "06ac03a9-ec17-42a5-9a1b-5599c9cbf097",
   "metadata": {},
   "outputs": [],
   "source": [
    "# (i) Run a distance transform on the seeds seg\n",
    "# The image processing module scipy.ndimage as ndi\n",
    "### Your code here!\n",
    "import scipy.ndimage as ndi\n",
    "\n",
    "# Use the function 'ndi.distance_transform_edt' for distance transform\n",
    "### Your code here!\n",
    "dist_trans = ndi.distance_transform_edt(seeds_seg)"
   ]
  },
  {
   "cell_type": "code",
   "execution_count": null,
   "id": "f4c80319-8b67-4ca8-badf-e7639a69c919",
   "metadata": {},
   "outputs": [],
   "source": [
    "# (ii) Visualize the output and understand what you are seeing.\n",
    "### Your code here!\n",
    "plt.imshow(dist_trans[y_start: y_end, x_start: x_end])"
   ]
  },
  {
   "cell_type": "code",
   "execution_count": null,
   "id": "58105324-1c64-4159-a58f-8a9b1c9ff03c",
   "metadata": {},
   "outputs": [],
   "source": [
    "# (iii) Smoothen the distance transform\n",
    "# Use `ndi.gaussian_filter`\n",
    "### Your code here!\n",
    "dist_trans_smooth = ndi.gaussian_filter(dist_trans, sigma=3)\n",
    "\n",
    "# Show result\n",
    "### Your code here!\n",
    "plt.imshow(dist_trans_smooth[y_start: y_end, x_start: x_end])"
   ]
  },
  {
   "cell_type": "code",
   "execution_count": null,
   "id": "569af679-f769-45d8-8c2f-5323b4a185c9",
   "metadata": {},
   "outputs": [],
   "source": [
    "# (iv) Get the local maxima (the 'peaks') from the distance transform\n",
    "\n",
    "# Use the function 'peak_local_max' from the module 'skimage.feature'. This function will return the\n",
    "# indices/ coordinates of the pixels where the local maxima are. \n",
    "\n",
    "from skimage.feature import peak_local_max\n",
    "\n",
    "seeds = peak_local_max(dist_trans_smooth, min_distance=8)"
   ]
  },
  {
   "cell_type": "code",
   "execution_count": null,
   "id": "f0ff61c8-492f-4a65-99fc-a41cbfb4bdc8",
   "metadata": {},
   "outputs": [],
   "source": [
    "# (v) However, we instead need a boolean mask of the same shape as the original image, where all \n",
    "# the local maximum pixels are labeled as `1` and everything else as `0`.\n",
    "\n",
    "# Let's do it step by step. First try have a look at what is in seeds. Can you get these values?\n",
    "# Number of seeds\n",
    "print(f'There are {np.shape(seeds)[0]} seeds')\n",
    "# The X coordinate of the first seed\n",
    "print(seeds[0][0])\n",
    "# The Y coordinate of the 13th seed\n",
    "print(seeds[13][1])"
   ]
  },
  {
   "cell_type": "code",
   "execution_count": null,
   "id": "3048af6a-20d3-40de-b4c7-a277c306adcf",
   "metadata": {},
   "outputs": [],
   "source": [
    "# Now, we will start by creating a boolean matrix/ image same size as the original image, but with\n",
    "# all pixel values as 0/ false\n",
    "seeds_mask = np.zeros_like(dist_trans_smooth, dtype = bool)\n",
    "\n",
    "# For loop through all entries in seeds\n",
    "for seed_id in range(np.shape(seeds)[0]):\n",
    "    seeds_mask[seeds[seed_id][0],seeds[seed_id][1]] = 1\n",
    "\n",
    "# P.S. for advanced Python coder - this also works without a for loop:\n",
    "# seeds_mask[tuple(seeds.T)] = True"
   ]
  },
  {
   "cell_type": "code",
   "execution_count": null,
   "id": "3636c5f0-1d40-43b0-9fd4-b2a88dd39531",
   "metadata": {},
   "outputs": [],
   "source": [
    "# (vi) Visualize the output \n",
    "# Expand seeds mask and show results\n",
    "from skimage.morphology import disk\n",
    "\n",
    "seeds_dil = ndi.binary_dilation(seeds_mask, disk(2))\n",
    "\n",
    "plt.figure(figsize=(5,5))\n",
    "plt.imshow(seeds_seg[y_start: y_end, x_start: x_end], cmap = 'gray')\n",
    "plt.imshow(seeds_dil[y_start: y_end, x_start: x_end], interpolation='none', alpha = 0.5)"
   ]
  },
  {
   "cell_type": "code",
   "execution_count": null,
   "id": "4ff7676b-a8bb-4a77-a11d-ac66dcd11e66",
   "metadata": {},
   "outputs": [],
   "source": [
    "# (vii) Label the seeds\n",
    "seeds_labeled = ndi.label(seeds_dil)[0]\n",
    "\n",
    "# Visualize\n",
    "seeds_labeled_mask = np.ma.array(seeds_labeled, mask=seeds_labeled==0)\n",
    "plt.imshow(seeds_seg[y_start: y_end, x_start: x_end], interpolation='none', cmap='gray')\n",
    "plt.imshow(seeds_labeled_mask[y_start: y_end, x_start: x_end], interpolation='none', cmap='prism')"
   ]
  },
  {
   "cell_type": "markdown",
   "id": "dbb0a89b-edb1-440c-844f-577f608d34ce",
   "metadata": {},
   "source": [
    "### Watershed Transform"
   ]
  },
  {
   "cell_type": "code",
   "execution_count": null,
   "id": "67a47ca8-c06d-4542-bb7e-92023a7eb9d0",
   "metadata": {},
   "outputs": [],
   "source": [
    "# (i) Perform watershed\n",
    "from skimage.segmentation import watershed\n",
    "\n",
    "seed_rois = watershed(-dist_trans, markers=seeds_labeled, mask = seeds_seg)\n",
    "\n",
    "seeds_seed_rois_mask = np.ma.array(seed_rois, mask=seed_rois==0)\n",
    "plt.imshow(img_ch1[y_start: y_end, x_start: x_end], interpolation='none', cmap='gray')\n",
    "plt.imshow(seeds_seed_rois_mask[y_start: y_end, x_start: x_end], interpolation='none', cmap='prism', alpha = 0.3)"
   ]
  },
  {
   "cell_type": "markdown",
   "id": "0257d998-cb84-469c-8471-30104bcb710a",
   "metadata": {},
   "source": [
    "## Save result for later processing"
   ]
  },
  {
   "cell_type": "code",
   "execution_count": null,
   "id": "202664f2-4840-433b-9d62-69bc051b03c1",
   "metadata": {},
   "outputs": [],
   "source": [
    "# Import imsave from skimage.io\n",
    "from skimage.io import imsave\n",
    "\n",
    "# Save image\n",
    "imsave(r\"example_data/seed_labels.tif\", seed_rois.astype(np.uint16))"
   ]
  },
  {
   "cell_type": "code",
   "execution_count": null,
   "id": "90976ff2-b346-41fe-bd37-82f491163d0f",
   "metadata": {},
   "outputs": [],
   "source": []
  }
 ],
 "metadata": {
  "kernelspec": {
   "display_name": "Python 3 (ipykernel)",
   "language": "python",
   "name": "python3"
  },
  "language_info": {
   "codemirror_mode": {
    "name": "ipython",
    "version": 3
   },
   "file_extension": ".py",
   "mimetype": "text/x-python",
   "name": "python",
   "nbconvert_exporter": "python",
   "pygments_lexer": "ipython3",
   "version": "3.8.18"
  }
 },
 "nbformat": 4,
 "nbformat_minor": 5
}
