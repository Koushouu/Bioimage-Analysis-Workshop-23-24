{
 "cells": [
  {
   "cell_type": "markdown",
   "id": "0ee6f1b6-9308-43c5-b575-4d224ead78b2",
   "metadata": {},
   "source": [
    "# Bioimage Analysis Workflow 1 - Leaf Cellular Morphological Analysis (1)"
   ]
  },
  {
   "cell_type": "markdown",
   "id": "8d9f6146-2039-4a1d-8afa-193dc2fcc37b",
   "metadata": {},
   "source": [
    "## Loading and Handling Image Data"
   ]
  },
  {
   "cell_type": "code",
   "execution_count": null,
   "id": "a2817d6b-b6a4-41e2-a720-ef818b4984c4",
   "metadata": {},
   "outputs": [],
   "source": [
    "# (1) Specify the file path\n",
    "\n",
    "# Create a string variable \"filepath\" with the path to the file you'd like to load\n",
    "### Your code here!\n",
    "# filepath = ..."
   ]
  },
  {
   "cell_type": "code",
   "execution_count": null,
   "id": "29fea5ce-7e67-4da7-8b7c-901a29f651d5",
   "metadata": {},
   "outputs": [],
   "source": [
    "# (2) Load the image\n",
    "\n",
    "# Import the function 'imread' from the module 'skimage.io'\n",
    "### Your code here!\n",
    "# from ...\n",
    "\n",
    "# Load the image and store it in a variable\n",
    "### Your code here!\n",
    "# img = ..."
   ]
  },
  {
   "cell_type": "code",
   "execution_count": null,
   "id": "8a6b1c54-ff87-4ba9-982c-1beafd46e4c6",
   "metadata": {},
   "outputs": [],
   "source": [
    "# (3) Check variable type, file shape and data type\n",
    "\n",
    "# Print that 'img' is a variable of type 'ndarray' - use Python's built-in function 'type'.\n",
    "### Your code here!\n",
    "# print(\"Loaded array is of type:\", ... )\n"
   ]
  },
  {
   "cell_type": "code",
   "execution_count": null,
   "id": "1ba4c3d3-3fe3-40d5-adb0-f6616c6c3a3c",
   "metadata": {},
   "outputs": [],
   "source": [
    "# Print the shape of the array by looking at its 'shape' attribute.\n",
    "### Your code here!\n",
    "# print(\"Loaded array has shape:\", ... )\n",
    "      "
   ]
  },
  {
   "cell_type": "code",
   "execution_count": null,
   "id": "8730fb25-949f-4865-9cee-a94558f0a7ec",
   "metadata": {},
   "outputs": [],
   "source": [
    "# Print the datatype of the individual numbers in the array. You can use the array attribute 'dtype' to do so.\n",
    "### Your code here!\n",
    "# print(\"Loaded values are of type:\", ...)"
   ]
  },
  {
   "cell_type": "code",
   "execution_count": null,
   "id": "966972c5-5dec-42c9-a670-8d8b1431f743",
   "metadata": {},
   "outputs": [],
   "source": [
    "# (4) Split channel\n",
    "\n",
    "# From the image shape, it was shown that the image has two channels - Split channels\n",
    "### Your code here!\n",
    "# img_ch0 = ...\n",
    "# img_ch1 = ..."
   ]
  },
  {
   "cell_type": "code",
   "execution_count": null,
   "id": "4af48666-cde1-4689-bb1f-206aaa23104b",
   "metadata": {},
   "outputs": [],
   "source": [
    "# (5) Show images\n",
    "\n",
    "# First import plotting module matplotlib.pyplot as plt\n",
    "### Your code here!\n",
    "# import ...\n",
    "\n",
    "# Show images with the plt.figure/imshow function\n",
    "### Your code here!\n",
    "# plt.figure(..."
   ]
  },
  {
   "cell_type": "code",
   "execution_count": null,
   "id": "92094933-47f7-4113-a658-662cbc5be022",
   "metadata": {},
   "outputs": [],
   "source": [
    "# (6) Crop image for processing\n",
    "\n",
    "# Define the x & y range for cropping\n",
    "x_start = 500\n",
    "x_end = 1500\n",
    "y_start = 500\n",
    "y_end = 1500\n",
    "\n",
    "# Crop\n",
    "### Your code here!\n",
    "# img_ch0_crop = ...\n",
    "# img_ch1_crop = ..."
   ]
  },
  {
   "cell_type": "code",
   "execution_count": null,
   "id": "dab43a8e-35a9-497e-8b89-0ef9e01ce92c",
   "metadata": {},
   "outputs": [],
   "source": [
    "# (7) Display cropped images\n",
    "plt.figure(figsize=(10,10))\n",
    "plt.subplot(121)\n",
    "plt.imshow(img_ch0_crop, interpolation='none', cmap = 'gray')\n",
    "plt.title('Channel 0')\n",
    "plt.subplot(122)\n",
    "plt.imshow(img_ch1_crop, interpolation='none', cmap = 'gray')\n",
    "plt.title('Channel 1')\n",
    "plt.show()"
   ]
  },
  {
   "cell_type": "code",
   "execution_count": null,
   "id": "d3add73e-94cc-4af1-8596-11bf9402d466",
   "metadata": {},
   "outputs": [],
   "source": [
    "# (8) BONUS: Ch0 image has a high dynamic range. Scale the intensity of Ch0 image by log operation\n",
    "\n",
    "# importing the package NumPy, which enables the manipulation of numerical arrays\n",
    "import numpy as np\n",
    "\n",
    "# Replace zeros by ones\n",
    "img_ch0_crop_nozero = np.maximum(img_ch0_crop, 1)\n",
    "\n",
    "# Apply log operation\n",
    "img_ch0_crop_nozero_log = np.log(img_ch0_crop_nozero)\n",
    "\n",
    "# Show log adjusted image\n",
    "plt.imshow(img_ch0_crop_nozero_log, interpolation='none', cmap = 'gray')"
   ]
  },
  {
   "cell_type": "markdown",
   "id": "71f398c9-3f20-4f9b-bd1b-3fd37f6f029a",
   "metadata": {},
   "source": [
    "### Compare JPEG and TIF"
   ]
  },
  {
   "cell_type": "code",
   "execution_count": null,
   "id": "ad13fef3-df55-41e4-a732-ad262549bc95",
   "metadata": {},
   "outputs": [],
   "source": [
    "filepath_jpg = r'example_data/Leaf_PM_Nuclei.jpg'\n",
    "img_jpg = imread(filepath_jpg)"
   ]
  },
  {
   "cell_type": "code",
   "execution_count": null,
   "id": "ac9c71fb-34ad-45cf-a07f-9eb199af454c",
   "metadata": {},
   "outputs": [],
   "source": [
    "img_jpg.shape"
   ]
  },
  {
   "cell_type": "code",
   "execution_count": null,
   "id": "b2a501ce-2a4e-48e0-b484-6a2b94fca341",
   "metadata": {},
   "outputs": [],
   "source": [
    "x_start = 480\n",
    "x_end = 520\n",
    "y_start = 480\n",
    "y_end = 520\n",
    "plt.figure(figsize=(10,10))\n",
    "plt.subplot(121)\n",
    "plt.imshow(img_ch1[y_start:y_end, x_start:x_end], interpolation='none')\n",
    "plt.title('Image saved by TIF')\n",
    "plt.subplot(122)\n",
    "plt.imshow(img_jpg[y_start:y_end, x_start:x_end], interpolation='none')\n",
    "plt.title('Image saved by JPEG')\n",
    "plt.show()"
   ]
  },
  {
   "cell_type": "markdown",
   "id": "55ae29cd-7c5a-4f97-ac75-383f303f5a8c",
   "metadata": {},
   "source": [
    "## Preprocessing\n",
    "\n",
    "Apply gaussian filter to the image"
   ]
  },
  {
   "cell_type": "code",
   "execution_count": null,
   "id": "4dbc6464-8161-48db-b5b3-1d463ec78c96",
   "metadata": {},
   "outputs": [],
   "source": [
    "# Gaussian Filtering\n",
    "# import n-D image analysis module scipy.ndimage as ndi\n",
    "### Your code here!\n",
    "# import ...\n",
    "\n",
    "# set sigma value\n",
    "### Your code here!\n",
    "# sigma = ...\n",
    "\n",
    "# Appy gaussian filter using ndi.gaussian_filter\n",
    "### Your code here!\n",
    "# img_smooth = ...\n",
    "\n",
    "# Show image\n",
    "### Your code here!\n",
    "# plt.imshow(..."
   ]
  },
  {
   "cell_type": "markdown",
   "id": "61db6676-fece-4770-8f93-794f5b4f888b",
   "metadata": {},
   "source": [
    "## Global Thresholding"
   ]
  },
  {
   "cell_type": "code",
   "execution_count": null,
   "id": "a8ddd435-c721-44f2-a6c0-d39fd65b7403",
   "metadata": {},
   "outputs": [],
   "source": [
    "# (i) Create a variable for a manually set threshold, which should be an integer\n",
    "\n",
    "# This can be changed later to find a suitable value.\n",
    "### Your code here!\n",
    "# thresh = ..."
   ]
  },
  {
   "cell_type": "code",
   "execution_count": null,
   "id": "b20ecdbc-e244-476c-9734-a48c8d573dd4",
   "metadata": {},
   "outputs": [],
   "source": [
    "# (ii) Perform thresholding on the smoothed image\n",
    "\n",
    "# Use relational (Boolean) expressions for thresholding\n",
    "### Your code here!\n",
    "# wall = ...\n",
    "\n",
    "# Check the dtype of your thresholded image\n",
    "print(wall.dtype)"
   ]
  },
  {
   "cell_type": "code",
   "execution_count": null,
   "id": "319aaa61-0037-4cc7-9209-1628274a0978",
   "metadata": {},
   "outputs": [],
   "source": [
    "# (iii) Visualize the result\n",
    "\n",
    "plt.imshow(wall, interpolation='none', cmap='gray')"
   ]
  },
  {
   "cell_type": "code",
   "execution_count": null,
   "id": "2477857e-7320-47b1-91f0-bd222bda5be2",
   "metadata": {},
   "outputs": [],
   "source": [
    "# (iv) Try out different thresholds to find the best one\n",
    "\n",
    "# Prepare widget\n",
    "from ipywidgets import interact\n",
    "@interact(thresh=(10,250,10))\n",
    "def select_threshold(thresh=100):\n",
    "    \n",
    "    # Thresholding\n",
    "    ### ADAPT THIS: Change 'img_smooth' into the variable you stored the smoothed image in!\n",
    "    wall = img_smooth > thresh\n",
    "    \n",
    "    # Visualization\n",
    "    plt.figure(figsize=(7,7))\n",
    "    plt.imshow(wall, interpolation='none', cmap='gray')\n",
    "    plt.show()"
   ]
  },
  {
   "cell_type": "code",
   "execution_count": null,
   "id": "9e59f585-9ed7-447c-b42c-6c59f245dbb5",
   "metadata": {},
   "outputs": [],
   "source": [
    "# (v) Perfom automated threshold detection with Otsu's method\n",
    "\n",
    "# Import\n",
    "from skimage.filters.thresholding import threshold_otsu\n",
    "\n",
    "# Calculate and apply threshold\n",
    "thresh = threshold_otsu(img_smooth)\n",
    "wall = img_smooth > thresh\n",
    "    \n",
    "# Visualization\n",
    "plt.imshow(wall, interpolation='none', cmap='gray')"
   ]
  },
  {
   "cell_type": "code",
   "execution_count": null,
   "id": "2e52fadc-169b-49ab-b395-925752d457d0",
   "metadata": {},
   "outputs": [],
   "source": [
    "# (vi) BONUS: Did you notice the 'try_all_threshold' function?\n",
    "\n",
    "from skimage.filters.thresholding import try_all_threshold\n",
    "fig = try_all_threshold(img_smooth, figsize=(10,10), verbose=False)"
   ]
  },
  {
   "cell_type": "markdown",
   "id": "a146015d-ac8f-4258-8b8e-09afdb5a2b01",
   "metadata": {},
   "source": [
    "## Local (Adaptive) Thresholding\n",
    "\n",
    "Create a background image by mean filtering, then perform local thresholding\n",
    "\n",
    "Hint for mean filtering: https://scikit-image.org/docs/stable/auto_examples/filters/plot_rank_mean.html"
   ]
  },
  {
   "cell_type": "code",
   "execution_count": null,
   "id": "dc865c5b-bafe-4930-9fd7-7b1ed49e108d",
   "metadata": {},
   "outputs": [],
   "source": [
    "# (1) Create a disk-shaped foot-print (Kernel) and asign it to a new variable.\n",
    "\n",
    "# Import module disk from skimage.morphology\n",
    "### Your code here!\n",
    "# from ...\n",
    "\n",
    "# Create footprint for mean filtering\n",
    "### Your code here!\n",
    "# footprint = ...\n",
    "\n",
    "# Visulize footprint\n",
    "### Your code here!\n",
    "# plt.imshow(..."
   ]
  },
  {
   "cell_type": "code",
   "execution_count": null,
   "id": "92afeb91-db94-48fd-849f-684efd0f1ce3",
   "metadata": {},
   "outputs": [],
   "source": [
    "# (2) Create background by mean filtering, then visulize\n",
    "\n",
    "# Import rank from skimage.filters\n",
    "### Your code here!\n",
    "# from ...\n",
    "\n",
    "# Apply mean filter to create background\n",
    "### Your code here!\n",
    "# background = ...\n",
    "\n",
    "# Show background\n",
    "### Your code here!\n",
    "# plt.imshow(...\n",
    "# plt.title(..."
   ]
  },
  {
   "cell_type": "code",
   "execution_count": null,
   "id": "fdde9430-98c3-4e0d-acad-56a7e4040ee9",
   "metadata": {},
   "outputs": [],
   "source": [
    "# (3) Perform local thresholding\n",
    "# Threshold the Gaussian-smoothed original image (img_smooth) against the background image created in step 2 using a relational expression\n",
    "### Your code here!\n",
    "# cell_wall = ...\n",
    "\n",
    "# Show results\n",
    "### Your code here!\n"
   ]
  },
  {
   "cell_type": "markdown",
   "id": "248c6eff-0961-45a0-83e6-6b69b232dbd7",
   "metadata": {},
   "source": [
    "## Improving Masks with Binary Morphology"
   ]
  },
  {
   "cell_type": "code",
   "execution_count": null,
   "id": "9c7fc4a0-f1bb-41ae-be28-fb8bb1632188",
   "metadata": {},
   "outputs": [],
   "source": [
    "# (1) Get rid of speckles using binary hole filling\n",
    "\n",
    "# Use the function 'ndi.binary_fill_holes' for this.\n",
    "### Your code here!\n",
    "# wall_holefilled = ...\n",
    "\n",
    "# Show result\n",
    "plt.figure(figsize=(5,5))\n",
    "plt.imshow(wall_holefilled, interpolation='none', cmap='gray')"
   ]
  },
  {
   "cell_type": "code",
   "execution_count": null,
   "id": "c62a8977-51d7-41b3-b3a1-cef01d06ba0a",
   "metadata": {},
   "outputs": [],
   "source": [
    "# (2) Closing the gaps in the membrane by dilation\n",
    "\n",
    "# Create a SE for the binary operation with disk()\n",
    "### Your code here!\n",
    "\n",
    "# Perform dilation with the python function ndi.binary_dilation\n",
    "### Your code here!\n",
    "# wall_dilated = ...\n",
    "\n",
    "# Now visulize the result\n",
    "plt.imshow(wall_dilated, cmap = 'gray');"
   ]
  },
  {
   "cell_type": "code",
   "execution_count": null,
   "id": "3d564cd0-4a3c-4201-85ac-6301bc233a17",
   "metadata": {},
   "outputs": [],
   "source": [
    "# (3) Restore the membrane shape by erosion\n",
    "\n",
    "# Using the same SE as before, perform erosion with ndi.binary_erosion\n",
    "### Your code here!\n",
    "# wall_eroded = ...\n",
    "\n",
    "# Now visulize the result\n",
    "plt.imshow(wall_eroded, cmap = 'gray');"
   ]
  },
  {
   "cell_type": "code",
   "execution_count": null,
   "id": "2e442afe-30cd-46bb-bf9f-d5669b60d835",
   "metadata": {},
   "outputs": [],
   "source": [
    "# (4) [BONUS 1] If you pay close attention, you will notice that some of these operations introduce \n",
    "# artefacts at the image boundaries. Can you come up with a way of solving this? (Hint: 'np.pad')\n",
    "# [BONUS 2] You just did dilation and erosion with the same SE. These two operations\n",
    "# combined together is called \"closing\". Try ndi.binary_closing to do the same thing in one line\n",
    "import numpy as np\n",
    "r = 2\n",
    "SE = disk(r)\n",
    "pad_size = r + 1\n",
    "wall_padded = np.pad(wall_holefilled, pad_size, mode='reflect')\n",
    "wall_final = ndi.binary_closing(wall_padded, structure=SE)\n",
    "wall_final = wall_final[pad_size:-pad_size, pad_size:-pad_size]\n",
    "\n",
    "plt.figure(figsize=(5,5))\n",
    "plt.imshow(wall_final, cmap = 'gray')"
   ]
  },
  {
   "cell_type": "code",
   "execution_count": null,
   "id": "9e619e6d-a224-457e-9950-d015498a8558",
   "metadata": {},
   "outputs": [],
   "source": [
    "# Skeletonization to extract cell wall location\n",
    "# Import skeletonize from skimage.morphology\n",
    "### Your code here!\n",
    "# from ...\n",
    "\n",
    "# Perform skeletonization\n",
    "### Your code here!\n",
    "# wall_final_skeleton = ..."
   ]
  },
  {
   "cell_type": "markdown",
   "id": "2356a579-ce4a-44f3-8313-84a82492029f",
   "metadata": {},
   "source": [
    "## Manual Annotation/ Correction with Napari\n",
    "\n",
    "Napari: https://napari.org/stable/index.html"
   ]
  },
  {
   "cell_type": "code",
   "execution_count": null,
   "id": "a5c3b8bb-4b17-4cbb-86f4-61a0159b9936",
   "metadata": {},
   "outputs": [],
   "source": [
    "# Import napari\n",
    "# import napari\n",
    "\n",
    "# Start napari viewer\n",
    "# viewer = napari.Viewer()\n",
    "\n",
    "# Add ch0 raw image\n",
    "# viewer.add_image(img_ch0_crop, colormap = 'green', name= 'Raw Image Ch0')\n",
    "\n",
    "# Add ch1 raw image\n",
    "# viewer.add_image(img_ch1_crop, colormap = 'red', name= 'Raw Image Ch1')\n",
    "\n",
    "# Add label\n",
    "# viewer.add_labels(wall_final_skeleton)\n",
    "\n",
    "# Here perform manual annotation in Napari"
   ]
  },
  {
   "cell_type": "code",
   "execution_count": null,
   "id": "fc55ee02-3304-4abb-9507-fce51387bae2",
   "metadata": {},
   "outputs": [],
   "source": [
    "# Extract annotation results\n",
    "last_layer = viewer.layers[2]\n",
    "\n",
    "# Convert layer to bool array\n",
    "label_image = last_layer.data.astype(np.bool_)"
   ]
  },
  {
   "cell_type": "markdown",
   "id": "72ce51a1-c5fd-4204-8836-21f90051385f",
   "metadata": {},
   "source": [
    "## Connected Component Labelling"
   ]
  },
  {
   "cell_type": "code",
   "execution_count": null,
   "id": "6f8a1f09-a832-4d50-b107-eb13c1c541f4",
   "metadata": {},
   "outputs": [],
   "source": [
    "# (1) Label connected components\n",
    "\n",
    "# Use the function 'ndi.label' from the 'ndimage' module. \n",
    "### Your code here!\n",
    "# cell_labels = ..."
   ]
  },
  {
   "cell_type": "code",
   "execution_count": null,
   "id": "c7f5c7d3-2e34-4f71-ac36-053df380ef98",
   "metadata": {},
   "outputs": [],
   "source": [
    "# (2) Visulize the result\n",
    "\n",
    "### Your code here!\n",
    "# viewer.add_labels(..."
   ]
  },
  {
   "cell_type": "markdown",
   "id": "0fa52c3d-3f21-4c3c-bc65-8481e613b3c2",
   "metadata": {},
   "source": [
    "## Save results for later processing"
   ]
  },
  {
   "cell_type": "code",
   "execution_count": null,
   "id": "095ff000-09bf-49fd-b5dc-c29f190c935d",
   "metadata": {},
   "outputs": [],
   "source": [
    "# Import imsave from skimage.io\n",
    "### Your code here!\n",
    "# from ...\n",
    "\n",
    "# Save image\n",
    "### Your code here!\n",
    "# imsave(..."
   ]
  }
 ],
 "metadata": {
  "kernelspec": {
   "display_name": "Python 3 (ipykernel)",
   "language": "python",
   "name": "python3"
  },
  "language_info": {
   "codemirror_mode": {
    "name": "ipython",
    "version": 3
   },
   "file_extension": ".py",
   "mimetype": "text/x-python",
   "name": "python",
   "nbconvert_exporter": "python",
   "pygments_lexer": "ipython3",
   "version": "3.8.18"
  }
 },
 "nbformat": 4,
 "nbformat_minor": 5
}
