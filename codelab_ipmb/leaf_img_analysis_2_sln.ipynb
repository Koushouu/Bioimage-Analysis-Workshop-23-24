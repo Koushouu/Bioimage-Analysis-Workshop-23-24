{
 "cells": [
  {
   "cell_type": "markdown",
   "id": "0ee6f1b6-9308-43c5-b575-4d224ead78b2",
   "metadata": {},
   "source": [
    "# Bioimage Analysis Workflow 1 - Leaf Cellular Morphological Analysis (2)"
   ]
  },
  {
   "cell_type": "markdown",
   "id": "7c415dde-663d-4adf-afe1-59afb0bba4b4",
   "metadata": {},
   "source": [
    "## Import Data and necessary packages"
   ]
  },
  {
   "cell_type": "code",
   "execution_count": null,
   "id": "7d9c25a9-2326-4470-b306-ba64dc0ec385",
   "metadata": {},
   "outputs": [],
   "source": [
    "from skimage.io import imread\n",
    "\n",
    "import matplotlib.pyplot as plt\n",
    "\n",
    "import numpy as np\n",
    "\n",
    "import scipy.ndimage as ndi"
   ]
  },
  {
   "cell_type": "code",
   "execution_count": null,
   "id": "aa3fe4e6-5e1d-4be9-b813-c8d78de59ee4",
   "metadata": {},
   "outputs": [],
   "source": [
    "# Define path\n",
    "labels_filepath = r'example_data/cell_labels.tif'\n",
    "img_filepath = r'example_data/Leaf_PM_Nuclei.tif'\n",
    "\n",
    "# Read images\n",
    "cell_labels = imread(labels_filepath)\n",
    "img = imread(img_filepath)\n",
    "\n",
    "# Split channel\n",
    "img_ch0 = img[0,:,:]\n",
    "img_ch1 = img[1,:,:]\n",
    "\n",
    "# Define the x & y range for cropping\n",
    "x_start = 500\n",
    "x_end = 1500\n",
    "y_start = 500\n",
    "y_end = 1500\n",
    "\n",
    "# Crop\n",
    "img_ch0 = img_ch0[y_start:y_end,x_start:x_end]\n",
    "img_ch1 = img_ch1[y_start:y_end,x_start:x_end]\n",
    "\n",
    "# Display label on top of the image\n",
    "plt.imshow(img_ch1, cmap = 'gray', interpolation= 'none')\n",
    "plt.imshow(cell_labels, cmap = 'prism', interpolation= 'none', alpha = 0.3)"
   ]
  },
  {
   "cell_type": "markdown",
   "id": "accab0d8-9cc5-4827-a787-153ad10ec004",
   "metadata": {},
   "source": [
    "## Clean Edges"
   ]
  },
  {
   "cell_type": "code",
   "execution_count": null,
   "id": "20da06b2-57e1-4942-bccc-f8bbdc0df0c5",
   "metadata": {},
   "outputs": [],
   "source": [
    "# (i) Create an image border mask\n",
    "\n",
    "# We need some way to check if a cell is at the border. For this, we generate a 'mask' of the image border,\n",
    "# i.e. a Boolean array of the same size as the image where only the border pixels are set to `1` and all \n",
    "# others to `0`, like this:\n",
    "#   1 1 1 1 1\n",
    "#   1 0 0 0 1\n",
    "#   1 0 0 0 1\n",
    "#   1 0 0 0 1\n",
    "#   1 1 1 1 1\n",
    "# There are multiple ways of generating this mask, for example by erosion or by array indexing.\n",
    "# It is up to you to find a way to do it. (Hint: one of the the easiest ways to do this is via scipy.ndimage.binary_dilation.\n",
    "# check the parameter \"border_value\")\n",
    "\n",
    "border_mask = np.zeros(cell_labels.shape, dtype=bool)\n",
    "border_mask = ndi.binary_dilation(border_mask, border_value=1)"
   ]
  },
  {
   "cell_type": "code",
   "execution_count": null,
   "id": "eaa81317-e777-4b49-816d-ce570fa8d12f",
   "metadata": {},
   "outputs": [],
   "source": [
    "# (ii) 'Delete' the cells at the border\n",
    "\n",
    "# 1) Find the cell ROIs that are crossing the border of the image\n",
    "\n",
    "# Find the border ROI IDs, by first multiply the border_mask by the segmentation mask\n",
    "border_mask_rois = border_mask * cell_labels\n",
    "\n",
    "# Then get an array of ROI IDs by finding the unique elements in the array\n",
    "border_roi_ids = np.unique(border_mask_rois)\n",
    "border_roi_ids"
   ]
  },
  {
   "cell_type": "code",
   "execution_count": null,
   "id": "1c557298-5ae9-4930-bd18-29f522fc24d5",
   "metadata": {},
   "outputs": [],
   "source": [
    "# 2) 'Delete' ROIs by their IDs\n",
    "\n",
    "# Create a copy of the segmentation with np.copy()\n",
    "clean_cell_labels = np.copy(cell_labels)\n",
    "\n",
    "# Iterate over ROI IDs on the border and set the those ROIs to background (0)\n",
    "for roi_id in border_roi_ids:\n",
    "    \n",
    "    # Create a mask that contains only the 'current' ROI of the iteration\n",
    "    roi_mask = cell_labels == roi_id\n",
    "    \n",
    "    # Set the position of that roi_mask to background (zero) in the clean_seg\n",
    "    clean_cell_labels[roi_mask] = 0"
   ]
  },
  {
   "cell_type": "code",
   "execution_count": null,
   "id": "a133cf36-c477-4af2-890b-72719f2746a4",
   "metadata": {},
   "outputs": [],
   "source": [
    "plt.imshow(clean_cell_labels, cmap = 'gray')"
   ]
  },
  {
   "cell_type": "markdown",
   "id": "7298a8b8-3ab5-4e3c-8526-c1946c2b90cf",
   "metadata": {},
   "source": [
    "## Extracting Quantitative Measures"
   ]
  },
  {
   "cell_type": "code",
   "execution_count": null,
   "id": "abb6da76-4e79-45e4-9f90-fa0d8bdfd7a2",
   "metadata": {},
   "outputs": [],
   "source": [
    "# Use the function 'regionprops_table' from the skimage.measure module\n",
    "from skimage.measure import regionprops_table\n",
    "\n",
    "# Obtain measurement and save in a parameter\n",
    "props = regionprops_table(clean_cell_labels, img_ch0, properties=[\n",
    "                                                                'label',\n",
    "                                                                'area', \n",
    "                                                              'intensity_mean',\n",
    "                                                              'eccentricity',\n",
    "                                                              'feret_diameter_max',\n",
    "                                                              'perimeter',\n",
    "                                                              'solidity',\n",
    "                                                             ])"
   ]
  },
  {
   "cell_type": "code",
   "execution_count": null,
   "id": "dc8f35ed-ddda-4ffe-99b9-c5b7418b03dc",
   "metadata": {},
   "outputs": [],
   "source": [
    "# Convert props to a pandas dataframe\n",
    "import pandas as pd\n",
    "\n",
    "props_df = pd.DataFrame(props)\n",
    "\n",
    "props_df.head()"
   ]
  },
  {
   "cell_type": "code",
   "execution_count": null,
   "id": "ef5b8aff-0d3f-483e-ad38-33581783b1c7",
   "metadata": {},
   "outputs": [],
   "source": [
    "# Save data as csv\n",
    "props_df.to_csv(\"leaf_measurement.csv\")"
   ]
  },
  {
   "cell_type": "markdown",
   "id": "29d0b27b-28cb-4fa2-9ff6-a17cde986581",
   "metadata": {},
   "source": [
    "## Generate plots about the data"
   ]
  },
  {
   "cell_type": "code",
   "execution_count": null,
   "id": "5a79adf0-91cd-40ec-adb8-949b87f26578",
   "metadata": {},
   "outputs": [],
   "source": [
    "# Create a histogram of the cell area\n",
    "plt.figure(figsize=(4,3))\n",
    "plt.hist(props['area'], bins = 50)\n",
    "plt.xlabel('Cell Area [pixel]')\n",
    "plt.ylabel('Count')"
   ]
  },
  {
   "cell_type": "code",
   "execution_count": null,
   "id": "826b541d-6527-464f-8c27-886ec607a006",
   "metadata": {},
   "outputs": [],
   "source": [
    "# Create a scatter plot of cell solidity over perimeter\n",
    "plt.figure(figsize=(5,5))\n",
    "plt.scatter(props['solidity'],props['perimeter'], edgecolor='k', s=30, alpha=0.5)\n",
    "plt.xlabel('solidity')\n",
    "plt.ylabel('Perimeter')"
   ]
  },
  {
   "cell_type": "code",
   "execution_count": null,
   "id": "8001ab42-daa9-43ae-8085-f534ed6258e7",
   "metadata": {},
   "outputs": [],
   "source": [
    "# Get number of cells\n",
    "num_cells = props['label'].shape[0]\n",
    "\n",
    "# Create a heat map of cell solidity\n",
    "heat_map = np.zeros_like(clean_cell_labels, dtype = np.uint8)\n",
    "\n",
    "# Get minimum value\n",
    "min_measure = min(props['solidity'])\n",
    "\n",
    "# Get maximum value\n",
    "max_measure = max(props['solidity'])\n",
    "\n",
    "# Iterate over ROI IDs\n",
    "for cell_id in range(num_cells):\n",
    "\n",
    "    # Iterate over ROI IDs on the border and set the those ROIs to background (0)\n",
    "    cell_mask = clean_cell_labels == props['label'][cell_id]\n",
    "\n",
    "    # Convert the cell ID to 8 bit\n",
    "    measure_8bit = (props['solidity'][cell_id]-min_measure)*255/(max_measure - min_measure)\n",
    "\n",
    "    # Assign value to heat map\n",
    "    heat_map[cell_mask] = measure_8bit\n",
    "    "
   ]
  },
  {
   "cell_type": "code",
   "execution_count": null,
   "id": "dac64b5a-dceb-4757-b97a-84384ac617a6",
   "metadata": {},
   "outputs": [],
   "source": [
    "plt.figure(figsize = (5,5))\n",
    "\n",
    "# Show the heat map. Use a suitable colormap\n",
    "plt.imshow(heat_map, cmap = 'PRGn')\n",
    "\n",
    "# Save image as png\n",
    "plt.savefig('Heatmap.png')"
   ]
  },
  {
   "cell_type": "code",
   "execution_count": null,
   "id": "f7de6404-27ce-4069-a863-2f7b72e6c6b5",
   "metadata": {},
   "outputs": [],
   "source": []
  }
 ],
 "metadata": {
  "kernelspec": {
   "display_name": "Python 3 (ipykernel)",
   "language": "python",
   "name": "python3"
  },
  "language_info": {
   "codemirror_mode": {
    "name": "ipython",
    "version": 3
   },
   "file_extension": ".py",
   "mimetype": "text/x-python",
   "name": "python",
   "nbconvert_exporter": "python",
   "pygments_lexer": "ipython3",
   "version": "3.8.18"
  }
 },
 "nbformat": 4,
 "nbformat_minor": 5
}
