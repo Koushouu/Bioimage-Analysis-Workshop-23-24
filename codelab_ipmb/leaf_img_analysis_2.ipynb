{
 "cells": [
  {
   "cell_type": "markdown",
   "id": "0ee6f1b6-9308-43c5-b575-4d224ead78b2",
   "metadata": {},
   "source": [
    "# Bioimage Analysis Workflow 1 - Leaf Cellular Morphological Analysis (2)"
   ]
  },
  {
   "cell_type": "markdown",
   "id": "7c415dde-663d-4adf-afe1-59afb0bba4b4",
   "metadata": {},
   "source": [
    "## Import Data and necessary packages"
   ]
  },
  {
   "cell_type": "code",
   "execution_count": null,
   "id": "7d9c25a9-2326-4470-b306-ba64dc0ec385",
   "metadata": {},
   "outputs": [],
   "source": [
    "# Import all necessary packages\n",
    "from skimage.io import imread\n",
    "\n",
    "import matplotlib.pyplot as plt\n",
    "\n",
    "import numpy as np\n",
    "\n",
    "import scipy.ndimage as ndi"
   ]
  },
  {
   "cell_type": "code",
   "execution_count": null,
   "id": "aa3fe4e6-5e1d-4be9-b813-c8d78de59ee4",
   "metadata": {},
   "outputs": [],
   "source": [
    "# Define path\n",
    "### Your code here!\n",
    "# labels_filepath = ...\n",
    "# img_filepath = ...\n",
    "\n",
    "# Read images\n",
    "cell_labels = imread(labels_filepath)\n",
    "img = imread(img_filepath)\n",
    "\n",
    "# Split channel\n",
    "img_ch0 = img[0,:,:]\n",
    "img_ch1 = img[1,:,:]\n",
    "\n",
    "# Define the x & y range for cropping\n",
    "x_start = 500\n",
    "x_end = 1500\n",
    "y_start = 500\n",
    "y_end = 1500\n",
    "\n",
    "# Crop\n",
    "img_ch0 = img_ch0[y_start:y_end,x_start:x_end]\n",
    "img_ch1 = img_ch1[y_start:y_end,x_start:x_end]\n",
    "\n",
    "# Display label on top of the image\n",
    "plt.imshow(img_ch1, cmap = 'gray', interpolation= 'none')\n",
    "plt.imshow(cell_labels, cmap = 'prism', interpolation= 'none', alpha = 0.3)"
   ]
  },
  {
   "cell_type": "markdown",
   "id": "accab0d8-9cc5-4827-a787-153ad10ec004",
   "metadata": {},
   "source": [
    "## Clean Edges"
   ]
  },
  {
   "cell_type": "code",
   "execution_count": null,
   "id": "20da06b2-57e1-4942-bccc-f8bbdc0df0c5",
   "metadata": {},
   "outputs": [],
   "source": [
    "# (i) Create an image border mask\n",
    "\n",
    "# We need some way to check if a cell is at the border. For this, we generate a 'mask' of the image border,\n",
    "# i.e. a Boolean array of the same size as the image where only the border pixels are set to `1` and all \n",
    "# others to `0`, like this:\n",
    "#   1 1 1 1 1\n",
    "#   1 0 0 0 1\n",
    "#   1 0 0 0 1\n",
    "#   1 0 0 0 1\n",
    "#   1 1 1 1 1\n",
    "# There are multiple ways of generating this mask, for example by erosion or by array indexing.\n",
    "# It is up to you to find a way to do it. (Hint: one of the the easiest ways to do this is via scipy.ndimage.binary_dilation.\n",
    "# check the parameter \"border_value\")\n",
    "\n",
    "### Your code here!\n",
    "# border_mask = ..."
   ]
  },
  {
   "cell_type": "code",
   "execution_count": null,
   "id": "eaa81317-e777-4b49-816d-ce570fa8d12f",
   "metadata": {},
   "outputs": [],
   "source": [
    "# (ii) 'Delete' the cells at the border\n",
    "\n",
    "# 1) Find the cell ROIs that are crossing the border of the image\n",
    "\n",
    "# Find the border ROI IDs, by first multiply the border_mask by the segmentation mask\n",
    "### Your code here!\n",
    "\n",
    "# Then get an array of ROI IDs by finding the unique elements in the array\n",
    "### Your code here!"
   ]
  },
  {
   "cell_type": "code",
   "execution_count": null,
   "id": "1c557298-5ae9-4930-bd18-29f522fc24d5",
   "metadata": {},
   "outputs": [],
   "source": [
    "# 2) 'Delete' ROIs by their IDs\n",
    "\n",
    "# Create a copy of the segmentation with np.copy()\n",
    "### Your code here!\n",
    "\n",
    "# Iterate over ROI IDs on the border and set the those ROIs to background (0)\n",
    "### Your code here!\n",
    "    \n",
    "    # Create a mask that contains only the 'current' ROI of the iteration\n",
    "    ### Your code here!\n",
    "    \n",
    "    # Set the position of that roi_mask to background (zero) in the clean_seg\n",
    "    ### Your code here!"
   ]
  },
  {
   "cell_type": "code",
   "execution_count": null,
   "id": "a133cf36-c477-4af2-890b-72719f2746a4",
   "metadata": {},
   "outputs": [],
   "source": [
    "# Show result\n",
    "### Your code here!"
   ]
  },
  {
   "cell_type": "markdown",
   "id": "7298a8b8-3ab5-4e3c-8526-c1946c2b90cf",
   "metadata": {},
   "source": [
    "## Extracting Quantitative Measures"
   ]
  },
  {
   "cell_type": "code",
   "execution_count": null,
   "id": "abb6da76-4e79-45e4-9f90-fa0d8bdfd7a2",
   "metadata": {},
   "outputs": [],
   "source": [
    "# Use the function 'regionprops_table' from the skimage.measure module\n",
    "### Your code here!\n",
    "\n",
    "# Obtain measurement and save in a parameter\n",
    "### Your code here!"
   ]
  },
  {
   "cell_type": "code",
   "execution_count": null,
   "id": "dc8f35ed-ddda-4ffe-99b9-c5b7418b03dc",
   "metadata": {},
   "outputs": [],
   "source": [
    "# Import pandas, library for \"data analysis and manipulation\" \n",
    "import pandas as pd\n",
    "\n",
    "# Convert props to a pandas dataframe\n",
    "### Your code here!\n",
    "\n",
    "# Show the first few rows of data by df.head()\n",
    "### Your code here!"
   ]
  },
  {
   "cell_type": "code",
   "execution_count": null,
   "id": "ef5b8aff-0d3f-483e-ad38-33581783b1c7",
   "metadata": {},
   "outputs": [],
   "source": [
    "# Save data as csv\n",
    "### Your code here!"
   ]
  },
  {
   "cell_type": "markdown",
   "id": "29d0b27b-28cb-4fa2-9ff6-a17cde986581",
   "metadata": {},
   "source": [
    "## Generate plots about the data"
   ]
  },
  {
   "cell_type": "markdown",
   "id": "04e23ba5-cfbe-4ef0-b342-ad3d7ed6ff1f",
   "metadata": {},
   "source": [
    "### Histogram"
   ]
  },
  {
   "cell_type": "code",
   "execution_count": null,
   "id": "5a79adf0-91cd-40ec-adb8-949b87f26578",
   "metadata": {},
   "outputs": [],
   "source": [
    "# Create a histogram of the cell area\n",
    "### Your code here!"
   ]
  },
  {
   "cell_type": "markdown",
   "id": "37bab849-9330-47d0-9b69-f83690bb4ad1",
   "metadata": {},
   "source": [
    "### Scatter plot"
   ]
  },
  {
   "cell_type": "code",
   "execution_count": null,
   "id": "826b541d-6527-464f-8c27-886ec607a006",
   "metadata": {},
   "outputs": [],
   "source": [
    "# Create a scatter plot of cell solidity over perimeter\n",
    "### Your code here!"
   ]
  },
  {
   "cell_type": "markdown",
   "id": "c93f4fbf-f0e5-4a75-8995-4604cf84c881",
   "metadata": {},
   "source": [
    "### Heat map"
   ]
  },
  {
   "cell_type": "code",
   "execution_count": null,
   "id": "8001ab42-daa9-43ae-8085-f534ed6258e7",
   "metadata": {},
   "outputs": [],
   "source": [
    "# Get number of cells\n",
    "num_cells = props['label'].shape[0]\n",
    "\n",
    "# Create a heat map of cell solidity\n",
    "heat_map = np.zeros_like(clean_cell_labels, dtype = np.uint8)\n",
    "\n",
    "# Get minimum value\n",
    "min_measure = min(props['solidity'])\n",
    "\n",
    "# Get maximum value\n",
    "max_measure = max(props['solidity'])\n",
    "\n",
    "# Iterate over ROI IDs\n",
    "### Your code here!\n",
    "\n",
    "    # Iterate over ROI IDs on the border and set the those ROIs to background (0)\n",
    "    ### Your code here!\n",
    "\n",
    "    # Convert the cell ID to 8 bit\n",
    "    ### Your code here!\n",
    "\n",
    "    # Assign value to heat map\n",
    "    ### Your code here!\n",
    "    "
   ]
  },
  {
   "cell_type": "markdown",
   "id": "a21ed83e-fce0-4926-aed3-bd635dcf6880",
   "metadata": {},
   "source": [
    "List of colormap choice: https://matplotlib.org/stable/users/explain/colors/colormaps.html"
   ]
  },
  {
   "cell_type": "code",
   "execution_count": null,
   "id": "dac64b5a-dceb-4757-b97a-84384ac617a6",
   "metadata": {},
   "outputs": [],
   "source": [
    "# Show the heat map. Use a suitable colormap\n",
    "### Your code here!\n",
    "\n",
    "# Save image as png with plt.savefig\n",
    "### Your code here!"
   ]
  },
  {
   "cell_type": "code",
   "execution_count": null,
   "id": "1331aebd-4592-411f-b439-d95b35dbf7c6",
   "metadata": {},
   "outputs": [],
   "source": [
    "### Challenge: Can you make the heat map generation code into a function?\n",
    "### Your code here!\n",
    "# def ..."
   ]
  }
 ],
 "metadata": {
  "kernelspec": {
   "display_name": "Python 3 (ipykernel)",
   "language": "python",
   "name": "python3"
  },
  "language_info": {
   "codemirror_mode": {
    "name": "ipython",
    "version": 3
   },
   "file_extension": ".py",
   "mimetype": "text/x-python",
   "name": "python",
   "nbconvert_exporter": "python",
   "pygments_lexer": "ipython3",
   "version": "3.8.18"
  }
 },
 "nbformat": 4,
 "nbformat_minor": 5
}
