{
 "cells": [
  {
   "cell_type": "markdown",
   "id": "0ee6f1b6-9308-43c5-b575-4d224ead78b2",
   "metadata": {},
   "source": [
    "# Bioimage Analysis Workflow 1 - Leaf Cellular Morphological Analysis (1)"
   ]
  },
  {
   "cell_type": "markdown",
   "id": "8d9f6146-2039-4a1d-8afa-193dc2fcc37b",
   "metadata": {},
   "source": [
    "## Loading and Handling Image Data"
   ]
  },
  {
   "cell_type": "code",
   "execution_count": null,
   "id": "a2817d6b-b6a4-41e2-a720-ef818b4984c4",
   "metadata": {},
   "outputs": [],
   "source": [
    "# (1) Specify the file path\n",
    "\n",
    "# Create a string variable \"filepath\" with the path to the file you'd like to load\n",
    "filepath = r'example_data\\Leaf_PM_Nuclei.tif'"
   ]
  },
  {
   "cell_type": "code",
   "execution_count": null,
   "id": "29fea5ce-7e67-4da7-8b7c-901a29f651d5",
   "metadata": {},
   "outputs": [],
   "source": [
    "# (2) Load the image\n",
    "\n",
    "# Import the function 'imread' from the module 'skimage.io'\n",
    "from skimage.io import imread\n",
    "\n",
    "# Load the image and store it in a variable\n",
    "img = imread(filepath)"
   ]
  },
  {
   "cell_type": "code",
   "execution_count": null,
   "id": "8a6b1c54-ff87-4ba9-982c-1beafd46e4c6",
   "metadata": {},
   "outputs": [],
   "source": [
    "# (3) Check variable type, file shape and data type\n",
    "\n",
    "# Print that 'img' is a variable of type 'ndarray' - use Python's built-in function 'type'.\n",
    "print(\"Loaded array is of type:\", type(img))\n",
    "\n",
    "# Print the shape of the array by looking at its 'shape' attribute. \n",
    "print(\"Loaded array has shape:\", img.shape)\n",
    "\n",
    "# Print the datatype of the individual numbers in the array. You can use the array attribute 'dtype' to do so.\n",
    "print(\"Loaded values are of type:\", img.dtype)"
   ]
  },
  {
   "cell_type": "code",
   "execution_count": null,
   "id": "966972c5-5dec-42c9-a670-8d8b1431f743",
   "metadata": {},
   "outputs": [],
   "source": [
    "# (4) Split channel\n",
    "\n",
    "# From the image shape, it was shown that the image has two channels - Split channels\n",
    "img_ch0 = img[0,:,:]\n",
    "img_ch1 = img[1,:,:]"
   ]
  },
  {
   "cell_type": "code",
   "execution_count": null,
   "id": "4af48666-cde1-4689-bb1f-206aaa23104b",
   "metadata": {},
   "outputs": [],
   "source": [
    "# (5) Show images\n",
    "\n",
    "# First import plotting module matplotlib.pyplot as plt\n",
    "import matplotlib.pyplot as plt\n",
    "\n",
    "# Show images with the plt.figure/imshow function\n",
    "plt.figure(figsize=(10,10))\n",
    "plt.subplot(121)\n",
    "plt.imshow(img_ch0, interpolation='none', cmap = 'gray')\n",
    "plt.title('Channel 0')\n",
    "plt.subplot(122)\n",
    "plt.imshow(img_ch1, interpolation='none', cmap = 'gray')\n",
    "plt.title('Channel 1')\n",
    "plt.show()"
   ]
  },
  {
   "cell_type": "code",
   "execution_count": null,
   "id": "92094933-47f7-4113-a658-662cbc5be022",
   "metadata": {},
   "outputs": [],
   "source": [
    "# (6) Crop image for processing\n",
    "\n",
    "# Define the x & y range for cropping\n",
    "x_start = 500\n",
    "x_end = 1500\n",
    "y_start = 500\n",
    "y_end = 1500\n",
    "\n",
    "# Crop\n",
    "img_ch0_crop = img_ch0[y_start:y_end,x_start:x_end]\n",
    "img_ch1_crop = img_ch1[y_start:y_end,x_start:x_end]"
   ]
  },
  {
   "cell_type": "code",
   "execution_count": null,
   "id": "dab43a8e-35a9-497e-8b89-0ef9e01ce92c",
   "metadata": {},
   "outputs": [],
   "source": [
    "# (7) Display cropped images\n",
    "plt.figure(figsize=(10,10))\n",
    "plt.subplot(121)\n",
    "plt.imshow(img_ch0_crop, interpolation='none', cmap = 'gray')\n",
    "plt.title('Channel 0')\n",
    "plt.subplot(122)\n",
    "plt.imshow(img_ch1_crop, interpolation='none', cmap = 'gray')\n",
    "plt.title('Channel 1')\n",
    "plt.show()"
   ]
  },
  {
   "cell_type": "code",
   "execution_count": null,
   "id": "d3add73e-94cc-4af1-8596-11bf9402d466",
   "metadata": {},
   "outputs": [],
   "source": [
    "# (8) BONUS: Ch0 image has a high dynamic range. Scale the intensity of Ch0 image by log operation\n",
    "\n",
    "# importing the package NumPy, which enables the manipulation of numerical arrays\n",
    "import numpy as np\n",
    "\n",
    "# Replace zeros by ones\n",
    "img_ch0_crop_nozero = np.maximum(img_ch0_crop, 1)\n",
    "\n",
    "# Apply log operation\n",
    "img_ch0_crop_nozero_log = np.log(img_ch0_crop_nozero)\n",
    "\n",
    "# Show log adjusted image\n",
    "plt.imshow(img_ch0_crop_nozero_log, interpolation='none', cmap = 'gray')"
   ]
  },
  {
   "cell_type": "markdown",
   "id": "71f398c9-3f20-4f9b-bd1b-3fd37f6f029a",
   "metadata": {},
   "source": [
    "### Compare JPEG and TIF"
   ]
  },
  {
   "cell_type": "code",
   "execution_count": null,
   "id": "ad13fef3-df55-41e4-a732-ad262549bc95",
   "metadata": {},
   "outputs": [],
   "source": [
    "filepath_jpg = r'example_data/Leaf_PM_Nuclei.jpg'\n",
    "img_jpg = imread(filepath_jpg)"
   ]
  },
  {
   "cell_type": "code",
   "execution_count": null,
   "id": "ac9c71fb-34ad-45cf-a07f-9eb199af454c",
   "metadata": {},
   "outputs": [],
   "source": [
    "img_jpg.shape"
   ]
  },
  {
   "cell_type": "code",
   "execution_count": null,
   "id": "b2a501ce-2a4e-48e0-b484-6a2b94fca341",
   "metadata": {},
   "outputs": [],
   "source": [
    "x_start = 480\n",
    "x_end = 520\n",
    "y_start = 480\n",
    "y_end = 520\n",
    "plt.figure(figsize=(10,10))\n",
    "plt.subplot(121)\n",
    "plt.imshow(img_ch1[y_start:y_end, x_start:x_end], interpolation='none')\n",
    "plt.title('Image saved by TIF')\n",
    "plt.subplot(122)\n",
    "plt.imshow(img_jpg[y_start:y_end, x_start:x_end], interpolation='none')\n",
    "plt.title('Image saved by JPEG')\n",
    "plt.show()"
   ]
  },
  {
   "cell_type": "markdown",
   "id": "55ae29cd-7c5a-4f97-ac75-383f303f5a8c",
   "metadata": {},
   "source": [
    "## Preprocessing\n",
    "\n",
    "Apply gaussian filter to the image"
   ]
  },
  {
   "cell_type": "code",
   "execution_count": null,
   "id": "4dbc6464-8161-48db-b5b3-1d463ec78c96",
   "metadata": {},
   "outputs": [],
   "source": [
    "# Gaussian Filtering\n",
    "# import n-D image analysis module scipy.ndimage as ndi\n",
    "import scipy.ndimage as ndi\n",
    "\n",
    "# set sigma value\n",
    "sigma = 1.5\n",
    "\n",
    "# Appy gaussian filter using ndi.gaussian_filter\n",
    "img_smooth = ndi.gaussian_filter(img_ch1_crop, sigma)\n",
    "\n",
    "# Show image\n",
    "plt.imshow(img_smooth, interpolation='none', cmap='gray')"
   ]
  },
  {
   "cell_type": "markdown",
   "id": "61db6676-fece-4770-8f93-794f5b4f888b",
   "metadata": {},
   "source": [
    "## Global Thresholding"
   ]
  },
  {
   "cell_type": "code",
   "execution_count": null,
   "id": "a8ddd435-c721-44f2-a6c0-d39fd65b7403",
   "metadata": {},
   "outputs": [],
   "source": [
    "# (i) Create a variable for a manually set threshold, which should be an integer\n",
    "\n",
    "# This can be changed later to find a suitable value.\n",
    "thresh = 70"
   ]
  },
  {
   "cell_type": "code",
   "execution_count": null,
   "id": "b20ecdbc-e244-476c-9734-a48c8d573dd4",
   "metadata": {},
   "outputs": [],
   "source": [
    "# (ii) Perform thresholding on the smoothed image\n",
    "\n",
    "# Use relational (Boolean) expressions for thresholding\n",
    "wall = img_smooth > thresh\n",
    "\n",
    "# Check the dtype of your thresholded image\n",
    "print(wall.dtype)"
   ]
  },
  {
   "cell_type": "code",
   "execution_count": null,
   "id": "319aaa61-0037-4cc7-9209-1628274a0978",
   "metadata": {},
   "outputs": [],
   "source": [
    "# (iii) Visualize the result\n",
    "\n",
    "plt.imshow(wall, interpolation='none', cmap='gray')"
   ]
  },
  {
   "cell_type": "code",
   "execution_count": null,
   "id": "2477857e-7320-47b1-91f0-bd222bda5be2",
   "metadata": {},
   "outputs": [],
   "source": [
    "# (iv) Try out different thresholds to find the best one\n",
    "\n",
    "# Prepare widget\n",
    "from ipywidgets import interact\n",
    "@interact(thresh=(10,250,10))\n",
    "def select_threshold(thresh=100):\n",
    "    \n",
    "    # Thresholding\n",
    "    ### ADAPT THIS: Change 'img_smooth' into the variable you stored the smoothed image in!\n",
    "    wall = img_smooth > thresh\n",
    "    \n",
    "    # Visualization\n",
    "    plt.figure(figsize=(7,7))\n",
    "    plt.imshow(wall, interpolation='none', cmap='gray')\n",
    "    plt.show()"
   ]
  },
  {
   "cell_type": "code",
   "execution_count": null,
   "id": "9e59f585-9ed7-447c-b42c-6c59f245dbb5",
   "metadata": {},
   "outputs": [],
   "source": [
    "# (v) Perfom automated threshold detection with Otsu's method\n",
    "\n",
    "# Import\n",
    "from skimage.filters.thresholding import threshold_otsu\n",
    "\n",
    "# Calculate and apply threshold\n",
    "thresh = threshold_otsu(img_smooth)\n",
    "wall = img_smooth > thresh\n",
    "    \n",
    "# Visualization\n",
    "plt.imshow(wall, interpolation='none', cmap='gray')"
   ]
  },
  {
   "cell_type": "code",
   "execution_count": null,
   "id": "2e52fadc-169b-49ab-b395-925752d457d0",
   "metadata": {},
   "outputs": [],
   "source": [
    "# (vi) BONUS: Did you notice the 'try_all_threshold' function?\n",
    "\n",
    "from skimage.filters.thresholding import try_all_threshold\n",
    "fig = try_all_threshold(img_smooth, figsize=(10,10), verbose=False)"
   ]
  },
  {
   "cell_type": "markdown",
   "id": "a146015d-ac8f-4258-8b8e-09afdb5a2b01",
   "metadata": {},
   "source": [
    "## Local (Adaptive) Thresholding\n",
    "\n",
    "Create a background image by mean filtering, then perform local thresholding\n",
    "\n",
    "Hint for mean filtering: https://scikit-image.org/docs/stable/auto_examples/filters/plot_rank_mean.html"
   ]
  },
  {
   "cell_type": "code",
   "execution_count": null,
   "id": "dc865c5b-bafe-4930-9fd7-7b1ed49e108d",
   "metadata": {},
   "outputs": [],
   "source": [
    "# (1) Create a disk-shaped foot-print (Kernel) and asign it to a new variable.\n",
    "\n",
    "# Import module disk from skimage.morphology\n",
    "from skimage.morphology import disk\n",
    "\n",
    "# Create footprint for mean filtering\n",
    "footprint = disk(5)\n",
    "\n",
    "# Visulize footprint\n",
    "plt.imshow(footprint)"
   ]
  },
  {
   "cell_type": "code",
   "execution_count": null,
   "id": "92afeb91-db94-48fd-849f-684efd0f1ce3",
   "metadata": {},
   "outputs": [],
   "source": [
    "# (2) Create background by mean filtering, then visulize\n",
    "\n",
    "# Import rank from skimage.filters\n",
    "from skimage.filters import rank \n",
    "\n",
    "# Apply mean filter to create background\n",
    "background = rank.mean(img_smooth, footprint= footprint)\n",
    "\n",
    "# Show background\n",
    "plt.imshow(background, interpolation='none', cmap='gray')\n",
    "plt.title('Background')"
   ]
  },
  {
   "cell_type": "code",
   "execution_count": null,
   "id": "fdde9430-98c3-4e0d-acad-56a7e4040ee9",
   "metadata": {},
   "outputs": [],
   "source": [
    "# (3) Perform local thresholding\n",
    "# Threshold the Gaussian-smoothed original image (img_smooth) against the background image created in step 2 \n",
    "#      using a relational expression\n",
    "cell_wall = img_smooth > background\n",
    "plt.figure(figsize=(10,10))\n",
    "plt.imshow(cell_wall, interpolation='none', cmap='gray')\n",
    "plt.title('Cell Wall')"
   ]
  },
  {
   "cell_type": "code",
   "execution_count": null,
   "id": "4917b64d-2d60-4146-a942-44b7ae56806f",
   "metadata": {},
   "outputs": [],
   "source": [
    "## LEGACY: local thresholding == background subtraction -> global thresholding\n",
    "# # (3) Perform background subtraction\n",
    "# img_bgd_sub = img_smooth.astype(float) - background.astype(float)\n",
    "# plt.figure(figsize=(5,5))\n",
    "# plt.imshow(img_bgd_sub, interpolation='none', cmap='gray')\n",
    "# plt.title('Background Subtracted')\n",
    "\n",
    "# # (4) Thresholding\n",
    "# from skimage.filters.thresholding import threshold_mean\n",
    "# thresh = threshold_mean(img_bgd_sub)\n",
    "# wall = img_bgd_sub > thresh\n",
    "# plt.figure(figsize=(5,5))\n",
    "# plt.imshow(wall, interpolation='none', cmap = 'gray')"
   ]
  },
  {
   "cell_type": "markdown",
   "id": "248c6eff-0961-45a0-83e6-6b69b232dbd7",
   "metadata": {},
   "source": [
    "## Improving Masks with Binary Morphology"
   ]
  },
  {
   "cell_type": "code",
   "execution_count": null,
   "id": "9c7fc4a0-f1bb-41ae-be28-fb8bb1632188",
   "metadata": {},
   "outputs": [],
   "source": [
    "# (1) Get rid of speckles using binary hole filling\n",
    "\n",
    "wall_holefilled = ~ndi.binary_fill_holes(~cell_wall)\n",
    "plt.figure(figsize=(5,5))\n",
    "plt.imshow(wall_holefilled, interpolation='none', cmap='gray')"
   ]
  },
  {
   "cell_type": "code",
   "execution_count": null,
   "id": "c62a8977-51d7-41b3-b3a1-cef01d06ba0a",
   "metadata": {},
   "outputs": [],
   "source": [
    "# (2) Closing the gaps in the membrane by dilation\n",
    "\n",
    "# Create a SE for the binary operation with disk()\n",
    "r = 2\n",
    "SE = disk(r)\n",
    "\n",
    "# Perform dilation with the python function ndi.binary_dilation\n",
    "wall_dilated = ndi.binary_dilation(wall_holefilled, structure=SE)\n",
    "\n",
    "# Now visulize the result\n",
    "plt.imshow(wall_dilated, cmap = 'gray');"
   ]
  },
  {
   "cell_type": "code",
   "execution_count": null,
   "id": "3d564cd0-4a3c-4201-85ac-6301bc233a17",
   "metadata": {},
   "outputs": [],
   "source": [
    "# (3) Restore the membrane shape by erosion\n",
    "\n",
    "# Using the same SE as before, perform erosion with ndi.binary_erosion\n",
    "wall_eroded = ndi.binary_erosion(wall_dilated, structure=SE)\n",
    "\n",
    "# Now visulize the result\n",
    "plt.imshow(wall_eroded, cmap = 'gray');"
   ]
  },
  {
   "cell_type": "code",
   "execution_count": null,
   "id": "2e442afe-30cd-46bb-bf9f-d5669b60d835",
   "metadata": {},
   "outputs": [],
   "source": [
    "# (4) [BONUS 1] If you pay close attention, you will notice that some of these operations introduce \n",
    "# artefacts at the image boundaries. Can you come up with a way of solving this? (Hint: 'np.pad')\n",
    "# [BONUS 2] You just did dilation and erosion with the same SE. These two operations\n",
    "# combined together is called \"closing\". Try ndi.binary_closing to do the same thing in one line\n",
    "import numpy as np\n",
    "r = 2\n",
    "SE = disk(r)\n",
    "pad_size = r + 1\n",
    "wall_padded = np.pad(wall_holefilled, pad_size, mode='reflect')\n",
    "wall_final = ndi.binary_closing(wall_padded, structure=SE)\n",
    "wall_final = wall_final[pad_size:-pad_size, pad_size:-pad_size]\n",
    "\n",
    "plt.figure(figsize=(5,5))\n",
    "plt.imshow(wall_final, cmap = 'gray')"
   ]
  },
  {
   "cell_type": "code",
   "execution_count": null,
   "id": "e4e3a960-6421-4aa7-be24-72dcb6fb2aab",
   "metadata": {},
   "outputs": [],
   "source": [
    "## LEGACY: Watershed applied \n",
    "# img_bgd_sub = img_smooth.astype(float) - background.astype(float)\n",
    "# cell_labels, _ = ndi.label(~wall_final_skeleton)\n",
    "\n",
    "# from skimage.measure import regionprops_table\n",
    "# props = regionprops_table(cell_labels, properties=['centroid'])\n",
    "\n",
    "# seeds_mask = np.zeros_like(img_bgd_sub, dtype = bool)\n",
    "\n",
    "# # For loop through all entries in seeds\n",
    "# for seed_id in range(np.shape(props['centroid-0'])[0]):\n",
    "#     seeds_mask[round(props['centroid-0'][seed_id]),round(props['centroid-1'][seed_id])] = 1\n",
    "\n",
    "# seeds_dil = ndi.binary_dilation(seeds_mask, structure=disk(2))\n",
    "# plt.imshow(seeds_dil, interpolation='none', cmap='inferno')\n",
    "\n",
    "# seeds_labeled = ndi.label(seeds_dil)[0]\n",
    "\n",
    "# from skimage.segmentation import watershed\n",
    "\n",
    "# ws = watershed(img_bgd_sub, seeds_labeled)\n",
    "\n",
    "# plt.imshow(img_ch1_crop, interpolation='none', cmap='gray')\n",
    "# plt.imshow(ws, interpolation='none', cmap='prism', alpha = 0.3)"
   ]
  },
  {
   "cell_type": "code",
   "execution_count": null,
   "id": "9e619e6d-a224-457e-9950-d015498a8558",
   "metadata": {},
   "outputs": [],
   "source": [
    "# Skeletonization to extract cell wall location\n",
    "from skimage.morphology import skeletonize\n",
    "\n",
    "wall_final_skeleton = skeletonize(wall_final)"
   ]
  },
  {
   "cell_type": "markdown",
   "id": "2356a579-ce4a-44f3-8313-84a82492029f",
   "metadata": {},
   "source": [
    "## Manual Annotation/ Correction with Napari"
   ]
  },
  {
   "cell_type": "code",
   "execution_count": null,
   "id": "a5c3b8bb-4b17-4cbb-86f4-61a0159b9936",
   "metadata": {},
   "outputs": [],
   "source": [
    "# Import napari\n",
    "import napari\n",
    "\n",
    "# Start napari viewer\n",
    "viewer = napari.Viewer()\n",
    "\n",
    "# Add ch0 raw image\n",
    "viewer.add_image(img_ch0_crop, colormap = 'gray', name= 'Raw Image Ch0')\n",
    "\n",
    "# Add ch1 raw image\n",
    "viewer.add_image(img_ch1_crop, colormap = 'gray', name= 'Raw Image Ch1')\n",
    "\n",
    "# Add label\n",
    "viewer.add_labels(wall_final_skeleton)\n",
    "\n",
    "# Here perform manual annotation in Napari"
   ]
  },
  {
   "cell_type": "code",
   "execution_count": null,
   "id": "fc55ee02-3304-4abb-9507-fce51387bae2",
   "metadata": {},
   "outputs": [],
   "source": [
    "# Extract annotation results\n",
    "last_layer = viewer.layers[2]\n",
    "\n",
    "# Convert layer to bool array\n",
    "label_image = last_layer.data.astype(np.bool_)"
   ]
  },
  {
   "cell_type": "markdown",
   "id": "72ce51a1-c5fd-4204-8836-21f90051385f",
   "metadata": {},
   "source": [
    "## Connected Component Labelling"
   ]
  },
  {
   "cell_type": "code",
   "execution_count": null,
   "id": "6f8a1f09-a832-4d50-b107-eb13c1c541f4",
   "metadata": {},
   "outputs": [],
   "source": [
    "# (1) Label connected components\n",
    "\n",
    "# Use the function 'ndi.label' from the 'ndimage' module. \n",
    "cell_labels, _ = ndi.label(~label_image)"
   ]
  },
  {
   "cell_type": "code",
   "execution_count": null,
   "id": "c7f5c7d3-2e34-4f71-ac36-053df380ef98",
   "metadata": {},
   "outputs": [],
   "source": [
    "# (2) Visulize the result\n",
    "\n",
    "viewer.add_labels(cell_labels)"
   ]
  },
  {
   "cell_type": "markdown",
   "id": "0fa52c3d-3f21-4c3c-bc65-8481e613b3c2",
   "metadata": {},
   "source": [
    "## Save results for later processing"
   ]
  },
  {
   "cell_type": "code",
   "execution_count": null,
   "id": "095ff000-09bf-49fd-b5dc-c29f190c935d",
   "metadata": {},
   "outputs": [],
   "source": [
    "# Import imsave from skimage.io\n",
    "from skimage.io import imsave\n",
    "\n",
    "# Save image\n",
    "imsave(r\"example_data/cell_labels.tif\", cell_labels.astype(np.uint16))"
   ]
  },
  {
   "cell_type": "markdown",
   "id": "accab0d8-9cc5-4827-a787-153ad10ec004",
   "metadata": {},
   "source": [
    "## Clean Edges"
   ]
  },
  {
   "cell_type": "code",
   "execution_count": null,
   "id": "20da06b2-57e1-4942-bccc-f8bbdc0df0c5",
   "metadata": {},
   "outputs": [],
   "source": [
    "# (i) Create an image border mask\n",
    "\n",
    "# We need some way to check if a cell is at the border. For this, we generate a 'mask' of the image border,\n",
    "# i.e. a Boolean array of the same size as the image where only the border pixels are set to `1` and all \n",
    "# others to `0`, like this:\n",
    "#   1 1 1 1 1\n",
    "#   1 0 0 0 1\n",
    "#   1 0 0 0 1\n",
    "#   1 0 0 0 1\n",
    "#   1 1 1 1 1\n",
    "# There are multiple ways of generating this mask, for example by erosion or by array indexing.\n",
    "# It is up to you to find a way to do it. (Hint: one of the the easiest ways to do this is via scipy.ndimage.binary_dilation.\n",
    "# check the parameter \"border_value\")\n",
    "\n",
    "border_mask = np.zeros(cell_labels.shape, dtype=bool)\n",
    "border_mask = ndi.binary_dilation(border_mask, border_value=1)"
   ]
  },
  {
   "cell_type": "code",
   "execution_count": null,
   "id": "eaa81317-e777-4b49-816d-ce570fa8d12f",
   "metadata": {},
   "outputs": [],
   "source": [
    "# (ii) 'Delete' the cells at the border\n",
    "\n",
    "# 1) Find the cell ROIs that are crossing the border of the image\n",
    "\n",
    "# Find the border ROI IDs, by first multiply the border_mask by the segmentation mask\n",
    "border_mask_rois = border_mask * cell_labels\n",
    "\n",
    "# Then get an array of ROI IDs by finding the unique elements in the array\n",
    "border_roi_ids = np.unique(border_mask_rois)\n",
    "border_roi_ids"
   ]
  },
  {
   "cell_type": "code",
   "execution_count": null,
   "id": "1c557298-5ae9-4930-bd18-29f522fc24d5",
   "metadata": {},
   "outputs": [],
   "source": [
    "# 2) 'Delete' ROIs by their IDs\n",
    "\n",
    "# Create a copy of the segmentation with np.copy()\n",
    "clean_cell_labels = np.copy(cell_labels)\n",
    "\n",
    "# Iterate over ROI IDs on the border and set the those ROIs to background (0)\n",
    "for roi_id in border_roi_ids:\n",
    "    \n",
    "    # Create a mask that contains only the 'current' ROI of the iteration\n",
    "    roi_mask = cell_labels == roi_id\n",
    "    \n",
    "    # Set the position of that roi_mask to background (zero) in the clean_seg\n",
    "    clean_cell_labels[roi_mask] = 0"
   ]
  },
  {
   "cell_type": "code",
   "execution_count": null,
   "id": "a133cf36-c477-4af2-890b-72719f2746a4",
   "metadata": {},
   "outputs": [],
   "source": [
    "plt.imshow(clean_cell_labels, cmap = 'gray')"
   ]
  },
  {
   "cell_type": "markdown",
   "id": "7298a8b8-3ab5-4e3c-8526-c1946c2b90cf",
   "metadata": {},
   "source": [
    "## Extracting Quantitative Measures"
   ]
  },
  {
   "cell_type": "code",
   "execution_count": null,
   "id": "abb6da76-4e79-45e4-9f90-fa0d8bdfd7a2",
   "metadata": {},
   "outputs": [],
   "source": [
    "# Use the function 'regionprops_table' from the skimage.measure module\n",
    "from skimage.measure import regionprops_table\n",
    "\n",
    "# Obtain measurement and save in a parameter\n",
    "props = regionprops_table(clean_cell_labels, img_ch0_crop, properties=[\n",
    "                                                                'label',\n",
    "                                                                'area', \n",
    "                                                              'intensity_mean',\n",
    "                                                              'eccentricity',\n",
    "                                                              'feret_diameter_max',\n",
    "                                                              'perimeter',\n",
    "                                                              'solidity',\n",
    "                                                             ])"
   ]
  },
  {
   "cell_type": "code",
   "execution_count": null,
   "id": "dc8f35ed-ddda-4ffe-99b9-c5b7418b03dc",
   "metadata": {},
   "outputs": [],
   "source": [
    "# Convert props to a pandas dataframe\n",
    "import pandas as pd\n",
    "\n",
    "props_df = pd.DataFrame(props)\n",
    "\n",
    "props_df.head()"
   ]
  },
  {
   "cell_type": "code",
   "execution_count": null,
   "id": "ef5b8aff-0d3f-483e-ad38-33581783b1c7",
   "metadata": {},
   "outputs": [],
   "source": [
    "# Save data as csv\n",
    "props_df.to_csv(\"leaf_measurement.csv\")"
   ]
  },
  {
   "cell_type": "markdown",
   "id": "29d0b27b-28cb-4fa2-9ff6-a17cde986581",
   "metadata": {},
   "source": [
    "## Generate plots about the data"
   ]
  },
  {
   "cell_type": "code",
   "execution_count": null,
   "id": "5a79adf0-91cd-40ec-adb8-949b87f26578",
   "metadata": {},
   "outputs": [],
   "source": [
    "# Create a histogram of the cell area\n",
    "plt.figure(figsize=(4,3))\n",
    "plt.hist(props['area'], bins = 50)\n",
    "plt.xlabel('Cell Area [pixel]')\n",
    "plt.ylabel('Count')"
   ]
  },
  {
   "cell_type": "code",
   "execution_count": null,
   "id": "826b541d-6527-464f-8c27-886ec607a006",
   "metadata": {},
   "outputs": [],
   "source": [
    "# Create a scatter plot of cell solidity over perimeter\n",
    "plt.figure(figsize=(5,5))\n",
    "plt.scatter(props['solidity'],props['perimeter'], edgecolor='k', s=30, alpha=0.5)\n",
    "plt.xlabel('solidity')\n",
    "plt.ylabel('Perimeter')"
   ]
  },
  {
   "cell_type": "code",
   "execution_count": null,
   "id": "1cc7b91a-3126-414a-b7ba-5588fa2a1805",
   "metadata": {},
   "outputs": [],
   "source": [
    "num_cells = props['label'].shape[0]"
   ]
  },
  {
   "cell_type": "code",
   "execution_count": null,
   "id": "8001ab42-daa9-43ae-8085-f534ed6258e7",
   "metadata": {},
   "outputs": [],
   "source": [
    "# Create a heat map of cell solidity\n",
    "heat_map = np.zeros_like(clean_cell_labels, dtype = np.uint8)\n",
    "\n",
    "min_measure = min(props['solidity'])\n",
    "\n",
    "max_measure = max(props['solidity'])\n",
    "\n",
    "for cell_id in range(num_cells):\n",
    "\n",
    "    cell_mask = clean_cell_labels == props['label'][cell_id]\n",
    "\n",
    "    measure_8bit = (props['solidity'][cell_id]-min_measure)*255/(max_measure - min_measure)\n",
    "\n",
    "    heat_map[cell_mask] = measure_8bit\n",
    "    "
   ]
  },
  {
   "cell_type": "code",
   "execution_count": null,
   "id": "dac64b5a-dceb-4757-b97a-84384ac617a6",
   "metadata": {},
   "outputs": [],
   "source": [
    "plt.figure(figsize = (5,5))\n",
    "\n",
    "# Show the heat map. Use a suitable colormap\n",
    "plt.imshow(heat_map, cmap = 'PRGn')\n",
    "\n",
    "# Save image as png\n",
    "plt.savefig('Heatmap.png')"
   ]
  }
 ],
 "metadata": {
  "kernelspec": {
   "display_name": "Python 3 (ipykernel)",
   "language": "python",
   "name": "python3"
  },
  "language_info": {
   "codemirror_mode": {
    "name": "ipython",
    "version": 3
   },
   "file_extension": ".py",
   "mimetype": "text/x-python",
   "name": "python",
   "nbconvert_exporter": "python",
   "pygments_lexer": "ipython3",
   "version": "3.8.18"
  }
 },
 "nbformat": 4,
 "nbformat_minor": 5
}
