{
 "cells": [
  {
   "cell_type": "markdown",
   "metadata": {},
   "source": [
    "# Image Analysis with Python - <font color='green'>Tutorial Pipeline Section 1</font>\n",
    "\n",
    "*originally created by Jonas Hartmann (Gilmour group, EMBL Heidelberg) in 2018*<br>\n",
    "*updated and modified in 2022 by Cheng-Yu Huang*<br>"
   ]
  },
  {
   "cell_type": "markdown",
   "metadata": {},
   "source": [
    "##  Table of Contents\n",
    "\n",
    "1. [About this Tutorial](#about)\n",
    "2. [Importing Modules & Packages](#import)\n",
    "3. [Loading & Handling Image Data](#load)\n",
    "4. [Preprocessing](#prepro)\n",
    "5. [Manual Thresholding & Threshold Detection](#thresh)\n",
    "6. [Adaptive Thresholding](#adaptive)\n",
    "7. [Improving Masks with Binary Morphology](#morpho)\n",
    "8. [Connected Components Labeling](#label)\n",
    "9. [Cell Segmentation by Seeding & Expansion](#seg)"
   ]
  },
  {
   "cell_type": "markdown",
   "metadata": {
    "tags": []
   },
   "source": [
    "##  About this Tutorial <a id=about></a>\n",
    "\n",
    "*This tutorial aims to teach the basics of (bio-)image processing with python, in particular the analysis of fluorescence microscopy data. The tutorial is self-explanatory and follows a \"learning by doing\" philosophy. It consists of step by step instructions that guide students through the construction of a 2D single-cell segmentation pipeline.*\n",
    "\n",
    "#### Background \n",
    "\n",
    "The aim is to construct a pipeline for the identification and segmentation of cells in 2D confocal fluorescence microscopy images of a tissue with labeled membranes. This is among the most common tasks in bio-image analysis and is often essential for the extraction of useful quantitative information from microscopy data.\n",
    "\n",
    "The pipeline is constructed based on provided example images (see `example_data` directory), which are single-color spinning-disk confocal micrographs (objective: `40X 1.2NA W`) of cells in live zebrafish embryos in early development (~10h post fertilization), fluorescently labeled with a membrane-localized fusion protein (`mNeonGreen:Ggamma9`)."
   ]
  },
  {
   "cell_type": "markdown",
   "metadata": {
    "tags": []
   },
   "source": [
    "## Importing Modules & Packages <a id=import></a>"
   ]
  },
  {
   "cell_type": "markdown",
   "metadata": {},
   "source": [
    "Let's start by importing the package NumPy, which enables the manipulation of numerical arrays:"
   ]
  },
  {
   "cell_type": "code",
   "execution_count": null,
   "metadata": {},
   "outputs": [],
   "source": [
    "import numpy as np"
   ]
  },
  {
   "cell_type": "markdown",
   "metadata": {},
   "source": [
    "*<font color=red>Important note:</font> If you are not at all familiar with ```import```, arrays and NumPy, we strongly recommend that you first complete an introductory tutorial on this topic before carrying on!*"
   ]
  },
  {
   "cell_type": "markdown",
   "metadata": {},
   "source": [
    "Recall that, once imported, we can use functions/modules from the package, for example to create an array:"
   ]
  },
  {
   "cell_type": "code",
   "execution_count": null,
   "metadata": {
    "tags": []
   },
   "outputs": [],
   "source": [
    "a = np.array([1, 2, 3])\n",
    "\n",
    "print(a)\n",
    "print(type(a))"
   ]
  },
  {
   "cell_type": "markdown",
   "metadata": {},
   "source": [
    "#### <font color='teal'>Exercise</font>\n",
    "\n",
    "Using the import command as above, import two additional modules that we will be using frequently in this pipeline:"
   ]
  },
  {
   "cell_type": "code",
   "execution_count": null,
   "metadata": {},
   "outputs": [],
   "source": [
    "# The image processing module scipy.ndimage as ndi\n",
    "### YOUR CODE HERE!\n",
    "# import ..."
   ]
  },
  {
   "cell_type": "markdown",
   "metadata": {
    "tags": []
   },
   "source": [
    "## Loading & Handling Image Data <a id=load></a>"
   ]
  },
  {
   "cell_type": "markdown",
   "metadata": {},
   "source": [
    "#### <font color='teal'>Exercise</font>\n",
    "\n",
    "We will now proceed to load one of the example images and verify that we get what we expect. Follow the instructions in the comments below."
   ]
  },
  {
   "cell_type": "code",
   "execution_count": null,
   "metadata": {
    "tags": []
   },
   "outputs": [],
   "source": [
    "# (i) Specify the file path\n",
    "# Create a string variable \"filepath\" with the path to the file you'd like to load (here: 'example_data\\example_cells_1.tif').\n",
    "### YOUR CODE HERE! (Absolute or Relative Path)\n",
    "# filepath = ...\n",
    "\n",
    "# Note: Paths and filenames can contain slashes, empty spaces and other special symbols, which can cause \n",
    "#       trouble for programming languages under certain circumstances. To circumvent such trouble, add \n",
    "#       the letter r before your string definition to create a so-called 'raw string', which is not\n",
    "#       affected by these problems (e.g. my_raw_string = r\"some string with funny symbols: \\\\\\!/~***!\")."
   ]
  },
  {
   "cell_type": "code",
   "execution_count": null,
   "metadata": {
    "tags": []
   },
   "outputs": [],
   "source": [
    "# (ii) Load the image\n",
    "\n",
    "# Import the function 'imread' from the module 'skimage.io'.\n",
    "### YOUR CODE HERE!\n",
    "# from ...\n",
    "\n",
    "# Load 'example_cells_1.tif' and store it in a variable.\n",
    "# Suggested name for the variable: img\n",
    "### YOUR CODE HERE!\n",
    "#img = ..."
   ]
  },
  {
   "cell_type": "code",
   "execution_count": null,
   "metadata": {
    "tags": []
   },
   "outputs": [],
   "source": [
    "# (iii) Check variable type, file shape and data type\n",
    "\n",
    "# Print that 'img' is a variable of type 'ndarray' - use Python's built-in function 'type'.\n",
    "### YOUR CODE HERE!\n",
    "# print(\"Loaded array is of type:\", ...)"
   ]
  },
  {
   "cell_type": "code",
   "execution_count": null,
   "metadata": {},
   "outputs": [],
   "source": [
    "# Print the shape of the array by looking at its 'shape' attribute. \n",
    "# Make sure you understand the output!\n",
    "### YOUR CODE HERE!\n",
    "# print(\"Loaded array has shape:\", ...)"
   ]
  },
  {
   "cell_type": "code",
   "execution_count": null,
   "metadata": {},
   "outputs": [],
   "source": [
    "# Print the datatype of the individual numbers in the array. You can use the array attribute 'dtype' to do so.\n",
    "# Make sure you understand the output!\n",
    "### YOUR CODE HERE!\n",
    "# print(\"Loaded values are of type:\", ...)"
   ]
  },
  {
   "cell_type": "markdown",
   "metadata": {},
   "source": [
    "Note: The dtype should be 'uint8', because these are unsigned 8-bit integer images.\n",
    "\n",
    "This means that the intensity values range from 0 to 255 in steps of 1."
   ]
  },
  {
   "cell_type": "code",
   "execution_count": null,
   "metadata": {
    "tags": []
   },
   "outputs": [],
   "source": [
    "# (iv) Image visulization with matplotlib\n",
    "# This is the most classic/ original way in python to show image\n",
    "\n",
    "# First import plotting module matplotlib.pyplot as plt\n",
    "### YOUR CODE HERE!\n",
    "# import ...\n",
    "\n",
    "# Use plt.imshow to display the image. plt.imshow has parameters that can be specified, such as:\n",
    "#  * colormap (cmap): for common bioimage analysis purpose you will set it to 'gray'. There are other options, such as 'viridis' and 'autumn' or 'winter'\n",
    "#  * interpolation: for scientific purpose we don't want any interpolation, so set it to 'none'. The default setting is 'antialiased'\n",
    "### YOUR CODE HERE!\n",
    "# plt.imshow...\n",
    "\n",
    "# P.S. You can have plt.figure() before plt.imshow() to define the figure size. For example:\n",
    "# plt.figure(figsize=(7,7))\n",
    "# plt.imshow(img, interpolation='none', cmap='gray')"
   ]
  },
  {
   "cell_type": "code",
   "execution_count": null,
   "metadata": {},
   "outputs": [],
   "source": [
    "# look at what is in the image (matrix of numbers)"
   ]
  },
  {
   "cell_type": "markdown",
   "metadata": {
    "tags": []
   },
   "source": [
    "## Preprocessing <a id=prepro></a>"
   ]
  },
  {
   "cell_type": "markdown",
   "metadata": {},
   "source": [
    "#### <font color='teal'>Exercise</font>\n",
    "\n",
    "Perform Gaussian smoothing and visualize the result.\n",
    "\n",
    "Follow the instructions in the comments below."
   ]
  },
  {
   "cell_type": "code",
   "execution_count": null,
   "metadata": {},
   "outputs": [],
   "source": [
    "# (i) Import the image processing module scipy.ndimage as ndi\n",
    "\n",
    "### YOUR CODE HERE!\n",
    "# import ..."
   ]
  },
  {
   "cell_type": "code",
   "execution_count": null,
   "metadata": {
    "tags": []
   },
   "outputs": [],
   "source": [
    "# (ii) Create a variable for the smoothing factor sigma, which should be an integer value\n",
    "\n",
    "### YOUR CODE HERE!\n",
    "# sigma = ...\n",
    "# After implementing the Gaussian smoothing function below, you can modify this variable \n",
    "# to find the ideal value of sigma."
   ]
  },
  {
   "cell_type": "code",
   "execution_count": null,
   "metadata": {
    "tags": []
   },
   "outputs": [],
   "source": [
    "# (iii) Perform the smoothing on the image\n",
    "\n",
    "# To do so, use the Gaussian filter function 'ndi.gaussian_filter' from the \n",
    "# image processing module 'scipy.ndimage'. Check out the documentation of scipy to see how to use this function. \n",
    "# Allocate the output to a new variable 'img_smooth'\n",
    "#img_smooth = ..."
   ]
  },
  {
   "cell_type": "code",
   "execution_count": null,
   "metadata": {
    "tags": []
   },
   "outputs": [],
   "source": [
    "# (iv) Visualize the result\n",
    "# plt.imshow..."
   ]
  },
  {
   "cell_type": "markdown",
   "metadata": {
    "tags": []
   },
   "source": [
    "## Manual Thresholding & Threshold Detection <a id=thresh></a>"
   ]
  },
  {
   "cell_type": "markdown",
   "metadata": {},
   "source": [
    "#### <font color='teal'>Exercise</font>\n",
    "\n",
    "Try out manual thresholding and automated threshold detection.\n",
    "\n",
    "Follow the instructions in the comments below."
   ]
  },
  {
   "cell_type": "code",
   "execution_count": null,
   "metadata": {
    "tags": []
   },
   "outputs": [],
   "source": [
    "# (i) Create a variable for a manually set threshold, which should be an integer\n",
    "\n",
    "# This can be changed later to find a suitable value.\n",
    "thresh = 70"
   ]
  },
  {
   "cell_type": "code",
   "execution_count": null,
   "metadata": {
    "tags": []
   },
   "outputs": [],
   "source": [
    "# (ii) Perform thresholding on the smoothed image\n",
    "\n",
    "# Remember that you can use relational (Boolean) expressions such as 'smaller' (<), 'equal' (==)\n",
    "# or 'greater or equal' (>=) with numpy arrays - and you can directly assign the result to a new\n",
    "# variable.\n",
    "mem = img_smooth > thresh\n",
    "\n",
    "# Check the dtype of your thresholded image\n",
    "# You should see that the dtype is 'np.bool', which stands for 'Boolean' and means the array\n",
    "# is now simply filled with 'True' and 'False', where 'True' is the foreground (the regions\n",
    "# above the threshold) and 'False' is the background.\n",
    "print(mem.dtype)"
   ]
  },
  {
   "cell_type": "code",
   "execution_count": null,
   "metadata": {
    "tags": []
   },
   "outputs": [],
   "source": [
    "# (iii) Visualize the result\n",
    "\n",
    "plt.imshow(mem, interpolation='none', cmap='gray')"
   ]
  },
  {
   "cell_type": "code",
   "execution_count": null,
   "metadata": {
    "tags": []
   },
   "outputs": [],
   "source": [
    "# (iv) Try out different thresholds to find the best one\n",
    "\n",
    "# If you are using jupyter notebook, you can adapt the code below to\n",
    "# interactively change the threshold and look for the best one. These\n",
    "# kinds of interactive functions are called 'widgets' and are very \n",
    "# useful in exploratory data analysis to create greatly simplified\n",
    "# 'User Interfaces' (UIs) on the fly.\n",
    "# As a BONUS exercise, try to understand or look up how the widget works\n",
    "# and play around with it a bit!\n",
    "# (Note: If this just displays a static image without a slider to adjust\n",
    "#        the threshold or if it displays a text warning about activating\n",
    "#        the 'widgetsnbextension', check out the note below!)\n",
    "\n",
    "# Prepare widget\n",
    "from ipywidgets import interact\n",
    "@interact(thresh=(10,250,10))\n",
    "def select_threshold(thresh=100):\n",
    "    \n",
    "    # Thresholding\n",
    "    ### ADAPT THIS: Change 'img_smooth' into the variable you stored the smoothed image in!\n",
    "    mem = img_smooth > thresh\n",
    "    \n",
    "    # Visualization\n",
    "    plt.figure(figsize=(7,7))\n",
    "    plt.imshow(mem, interpolation='none', cmap='gray')\n",
    "    plt.show()"
   ]
  },
  {
   "cell_type": "code",
   "execution_count": null,
   "metadata": {
    "tags": []
   },
   "outputs": [],
   "source": [
    "# (v) Perfom automated threshold detection with Otsu's method\n",
    "\n",
    "# The scikit-image module 'skimage.filters.thresholding' provides\n",
    "# several threshold detection algorithms. The most popular one \n",
    "# among them is Otsu's method. Using what you've learned so far,\n",
    "# import the 'threshold_otsu' function, use it to automatically \n",
    "# determine a threshold for the smoothed image, apply the threshold,\n",
    "# and visualize the result.\n",
    "### YOUR CODE HERE!\n",
    "# Import\n",
    "from skimage.filters.thresholding import threshold_otsu\n",
    "\n",
    "# Calculate and apply threshold\n",
    "thresh = threshold_otsu(img_smooth)\n",
    "mem = img_smooth > thresh\n",
    "    \n",
    "# Visualization\n",
    "plt.imshow(mem, interpolation='none', cmap='gray')"
   ]
  },
  {
   "cell_type": "code",
   "execution_count": null,
   "metadata": {
    "tags": []
   },
   "outputs": [],
   "source": [
    "# (vi) BONUS: Did you notice the 'try_all_threshold' function?\n",
    "\n",
    "# That's convenient! Use it to automatically test the threshold detection\n",
    "# functions in 'skimage.filters.thresholding'. Don't forget to adjust the\n",
    "# 'figsize' parameter so the resulting images are clearly visible.\n",
    "### YOUR CODE HERE!\n",
    "from skimage.filters.thresholding import try_all_threshold\n",
    "fig = try_all_threshold(img_smooth, figsize=(10,10), verbose=False)"
   ]
  },
  {
   "cell_type": "markdown",
   "metadata": {
    "tags": []
   },
   "source": [
    "## Adaptive (Local) Thresholding <a id=adaptive></a>"
   ]
  },
  {
   "cell_type": "markdown",
   "metadata": {},
   "source": [
    "Follow the instructions in the comments below.\n",
    "\n",
    "Hint: https://scikit-image.org/docs/stable/auto_examples/filters/plot_rank_mean.html"
   ]
  },
  {
   "cell_type": "code",
   "execution_count": null,
   "metadata": {
    "tags": []
   },
   "outputs": [],
   "source": [
    "# Step 1\n",
    "# ------\n",
    "\n",
    "# (i) Create a disk-shaped structuring element (SE) and asign it to a new variable.\n",
    "\n",
    "# Import module disk from skimage.morphology\n",
    "### YOUR CODE HERE!\n",
    "# from ...\n",
    "\n",
    "# Create footprint for mean filtering\n",
    "### YOUR CODE HERE!\n",
    "#footprint = disk(...\n",
    "\n",
    "# Visualize the footprint\n",
    "### YOUR CODE HERE!\n",
    "# plt.imshow( ..."
   ]
  },
  {
   "cell_type": "code",
   "execution_count": null,
   "metadata": {
    "tags": []
   },
   "outputs": [],
   "source": [
    "# (ii) Create the background, and visulize\n",
    "\n",
    "# Run a mean filter over the image using the disc footprint and assign the output to a new variable.\n",
    "# Use the function 'skimage.filters.rank.mean'. (Hint: https://scikit-image.org/docs/stable/api/skimage.filters.rank.html#skimage.filters.rank.mean)\n",
    "### YOUR CODE HERE!\n",
    "# from ...\n",
    "\n",
    "# background = ...\n",
    "\n",
    "# plt.imshow(..."
   ]
  },
  {
   "cell_type": "code",
   "execution_count": null,
   "metadata": {
    "tags": []
   },
   "outputs": [],
   "source": [
    "# Step 2\n",
    "# ------\n",
    "\n",
    "# (iii) Threshold the Gaussian-smoothed original image (img_smooth) against the background image created in step 1 \n",
    "#      using a relational expression\n",
    "### YOUR CODE HERE!\n",
    "# mem = ..."
   ]
  },
  {
   "cell_type": "code",
   "execution_count": null,
   "metadata": {
    "tags": []
   },
   "outputs": [],
   "source": [
    "# (v) Visualize and understand the output. \n",
    "\n",
    "### YOUR CODE HERE!\n",
    "# plt.imshow(...\n",
    "\n",
    "# What do you observe? \n",
    "# Are you happy with this result as a membrane segmentation? \n",
    "# Adapt the size of the circular SE to optimize the result!"
   ]
  },
  {
   "cell_type": "markdown",
   "metadata": {
    "tags": []
   },
   "source": [
    "## Improving Masks with Binary Morphology <a id=morpho></a>"
   ]
  },
  {
   "cell_type": "code",
   "execution_count": null,
   "metadata": {
    "tags": []
   },
   "outputs": [],
   "source": [
    "# (i) Get rid of speckles using binary hole filling\n",
    "\n",
    "# Use the function 'ndi.binary_fill_holes' for this. Be sure to check the docs to\n",
    "# understand exactly what it does. For this to work as intended, you will have to \n",
    "# invert the mask, which you can do using the function `np.logical_not` or the\n",
    "# corresponding operator '~'. Again, be sure to understand why this has to be done\n",
    "# and don't forget to revert the result back.\n",
    "\n",
    "### YOUR CODE HERE!\n",
    "# mem_holefilled = ...\n",
    "# plt.imshow(..."
   ]
  },
  {
   "cell_type": "code",
   "execution_count": null,
   "metadata": {},
   "outputs": [],
   "source": [
    "# (ii) Closing the gaps in the membrane by dilation\n",
    "\n",
    "# Create a SE for the binary operation with disk()\n",
    "### YOUR CODE HERE!\n",
    "# SE = ...\n",
    "\n",
    "# Perform dilation with the python function ndi.binary_dilation\n",
    "### YOUR CODE HERE!\n",
    "# mem_dilated = ...\n",
    "\n",
    "# Now visulize the result\n",
    "### YOUR CODE HERE!\n",
    "# plt.imshow(..."
   ]
  },
  {
   "cell_type": "code",
   "execution_count": null,
   "metadata": {
    "editable": true,
    "slideshow": {
     "slide_type": ""
    },
    "tags": []
   },
   "outputs": [],
   "source": [
    "# (iii) Restore the membrane shape by erosion\n",
    "\n",
    "# Using the same SE as before, perform erosion with ndi.binary_erosion\n",
    "### YOUR CODE HERE!\n",
    "# mem_eroded = ...\n",
    "\n",
    "# Now visulize the result\n",
    "### YOUR CODE HERE!\n",
    "# plt.imshow(..."
   ]
  },
  {
   "cell_type": "code",
   "execution_count": null,
   "metadata": {
    "tags": []
   },
   "outputs": [],
   "source": [
    "# (iv) [BONUS 1] If you pay close attention, you will notice that some of these operations introduce \n",
    "# artefacts at the image boundaries. Can you come up with a way of solving this? (Hint: 'np.pad')\n",
    "# [BONUS 2] You just did dilation and erosion with the same SE. These two operations\n",
    "# combined together is called \"closing\". Try ndi.binary_closing to do the same thing in one line\n",
    "\n",
    "r = 7\n",
    "SE = disk(r)\n",
    "pad_size = r + 1\n",
    "mem_padded = np.pad(mem_holefilled, pad_size, mode='reflect')\n",
    "mem_final = ndi.binary_closing(mem_padded, structure=SE)\n",
    "mem_final = mem_final[pad_size:-pad_size, pad_size:-pad_size]\n",
    "plt.imshow(mem_final, cmap = 'gray')"
   ]
  },
  {
   "cell_type": "markdown",
   "metadata": {
    "tags": []
   },
   "source": [
    "## Connected Components Labeling <a id=label></a>"
   ]
  },
  {
   "cell_type": "markdown",
   "metadata": {},
   "source": [
    "#### <font color='teal'>Exercise</font>\n",
    "\n",
    "Use your membrane segmentation for connected components labeling.\n",
    "\n",
    "Follow the instructions in the comments below."
   ]
  },
  {
   "cell_type": "code",
   "execution_count": null,
   "metadata": {
    "tags": []
   },
   "outputs": [],
   "source": [
    "# (i) Label connected components\n",
    "\n",
    "# Use the function 'ndi.label' from the 'ndimage' module. \n",
    "# Note that this function labels foreground pixels (1s, not 0s), so you may need \n",
    "# to invert your membrane mask just as for hole filling above.\n",
    "# Also, note that 'ndi.label' returns another result in addition to the labeled \n",
    "# image. Read up on this in the function's documention and make sure you don't\n",
    "# mix up the two outputs!\n",
    "\n",
    "### YOUR CODE HERE!\n",
    "# cell_labels ..."
   ]
  },
  {
   "cell_type": "code",
   "execution_count": null,
   "metadata": {
    "tags": []
   },
   "outputs": [],
   "source": [
    "# (ii) Visualize the output\n",
    "\n",
    "# Here, it is no longer ideal to use a 'gray' colormap, since we want to visualize that each\n",
    "# cell has a unique ID. Play around with different colormaps (check the docs to see what\n",
    "# types of colormaps are available) and choose one that you are happy with.\n",
    "\n",
    "### YOUR CODE HERE!\n",
    "# plt.imshow(...\n",
    "\n",
    "# Take a close look at the picture and note mistakes in the segmentation. Depending on the\n",
    "# quality of your membrane mask, there will most likely be some cells that are 'fused', meaning \n",
    "# two or more cells are labeled as the same cell; this is called \"under-segmentation\". \n",
    "# We will resolve this issue in the next step. Note that our downstream pipeline does not involve \n",
    "# any steps to resolve \"over-segmentation\" (i.e. a cell being wrongly split into multiple labeled\n",
    "# areas), so you should tune your membrane mask such that this is not a common problem."
   ]
  },
  {
   "cell_type": "markdown",
   "metadata": {
    "tags": []
   },
   "source": [
    "## Cell Segmentation by Seeding & Expansion <a id=seg></a>"
   ]
  },
  {
   "cell_type": "markdown",
   "metadata": {},
   "source": [
    "### Seeding by Distance Transform"
   ]
  },
  {
   "cell_type": "code",
   "execution_count": null,
   "metadata": {
    "tags": []
   },
   "outputs": [],
   "source": [
    "# (i) Run a distance transform on the membrane mask\n",
    "\n",
    "# Use the function 'ndi.distance_transform_edt'.\n",
    "# You may need to invert your membrane mask so the distances are computed on\n",
    "# the cells, not on the membranes.\n",
    "### YOUR CODE HERE!\n",
    "# dist_trans = ..."
   ]
  },
  {
   "cell_type": "code",
   "execution_count": null,
   "metadata": {
    "tags": []
   },
   "outputs": [],
   "source": [
    "# (ii) Visualize the output and understand what you are seeing.\n",
    "\n",
    "plt.imshow(dist_trans, interpolation='none', cmap='viridis')"
   ]
  },
  {
   "cell_type": "code",
   "execution_count": null,
   "metadata": {
    "tags": []
   },
   "outputs": [],
   "source": [
    "# (iii) Smoothen the distance transform\n",
    "\n",
    "# Use 'scipy.ndimage.gaussian_filter' to do so.\n",
    "# You will have to optimize your choice of 'sigma' based on the outcome below.\n",
    "\n",
    "# Applying the filter\n",
    "### YOUR CODE HERE!\n",
    "# dist_trans_smooth = ...\n",
    "\n",
    "# Visualizing\n",
    "plt.imshow(dist_trans_smooth, interpolation='none', cmap='viridis')"
   ]
  },
  {
   "cell_type": "code",
   "execution_count": null,
   "metadata": {
    "tags": []
   },
   "outputs": [],
   "source": [
    "# (iv) Get the local maxima (the 'peaks') from the distance transform\n",
    "\n",
    "# Use the function 'peak_local_max' from the module 'skimage.feature'. This function will return the\n",
    "# indices/ coordinates of the pixels where the local maxima are. \n",
    "\n",
    "from skimage.feature import peak_local_max\n",
    "\n",
    "seeds = peak_local_max(dist_trans_smooth, min_distance=5)"
   ]
  },
  {
   "cell_type": "code",
   "execution_count": null,
   "metadata": {},
   "outputs": [],
   "source": [
    "# (v) However, we instead need a boolean mask of the same shape as the original image, where all \n",
    "# the local maximum pixels are labeled as `1` and everything else as `0`.\n",
    "\n",
    "# Let's do it step by step. First try have a look at what is in seeds. Can you get these values?\n",
    "# Number of seeds\n",
    "print(f'There are {np.shape(seeds)[0]} seeds')\n",
    "# The X coordinate of the first seed\n",
    "print(seeds[0][0])\n",
    "# The Y coordinate of the 13th seed\n",
    "print(seeds[13][1])"
   ]
  },
  {
   "cell_type": "code",
   "execution_count": null,
   "metadata": {},
   "outputs": [],
   "source": [
    "# Now, we will start by creating a boolean matrix/ image same size as the original image, but with\n",
    "# all pixel values as 0/ false\n",
    "### YOUR CODE HERE!\n",
    "# seeds_mask = np.zeros_like(...\n",
    "\n",
    "# For loop through all entries in seeds\n",
    "### YOUR CODE HERE!\n",
    "# for ...\n",
    "\n",
    "# P.S. for advanced Python coder - this also works without a for loop:\n",
    "# seeds_mask[tuple(seeds.T)] = True"
   ]
  },
  {
   "cell_type": "code",
   "execution_count": null,
   "metadata": {
    "tags": []
   },
   "outputs": [],
   "source": [
    "# (vi) Visualize the output \n",
    "\n",
    "# Dilate the seeds for visulization\n",
    "seeds_dil = ndi.binary_dilation(seeds_mask, structure=disk(7))\n",
    "\n",
    "# Visualize\n",
    "\n",
    "seeds_dil_mask = np.ma.array(seeds_dil, mask=seeds_dil==0)\n",
    "plt.imshow(cell_labels, interpolation='none', cmap='inferno')\n",
    "plt.imshow(seeds_dil_mask, interpolation='none', cmap='prism')"
   ]
  },
  {
   "cell_type": "code",
   "execution_count": null,
   "metadata": {},
   "outputs": [],
   "source": [
    "# (vii) Label the seeds\n",
    "seeds_labeled = ndi.label(seeds_dil)[0]\n",
    "\n",
    "# Visualize\n",
    "seeds_labeled_mask = np.ma.array(seeds_labeled, mask=seeds_labeled==0)\n",
    "plt.imshow(cell_labels, interpolation='none', cmap='gray')\n",
    "plt.imshow(seeds_labeled_mask, interpolation='none', cmap='prism')"
   ]
  },
  {
   "cell_type": "code",
   "execution_count": null,
   "metadata": {},
   "outputs": [],
   "source": [
    "# (viii) Optimize the seeding\n",
    "\n",
    "# Ideally, there should be exactly one seed for each cell.\n",
    "# If you are not satisfied with your seeding, go back to the smoothing step above and optimize 'sigma'\n",
    "# to get rid of additional maxima. You can also try using the keyword argument 'min_distance' in \n",
    "# 'peak_local_max' to solve cases where there are multiple small seeds at the center of a cell. Note \n",
    "# that good seeding is essential for a good segmentation with an expansion algorithm. However, no \n",
    "# segmentation is perfect, so it's okay if a few cells end up being oversegmented."
   ]
  },
  {
   "cell_type": "markdown",
   "metadata": {},
   "source": [
    "### Expansion by Watershed"
   ]
  },
  {
   "cell_type": "markdown",
   "metadata": {},
   "source": [
    "#### <font color='teal'>Exercise</font>\n",
    "\n",
    "Expand your seeds by means of a watershed expansion.\n",
    "\n",
    "Follow the instructions in the comments below."
   ]
  },
  {
   "cell_type": "code",
   "execution_count": null,
   "metadata": {
    "tags": []
   },
   "outputs": [],
   "source": [
    "# (i) Perform watershed\n",
    "\n",
    "# Use the function 'watershed' from the module 'skimage.segmentation'.\n",
    "# Use the labeled cell seeds and the smoothed membrane image as input.\n",
    "\n",
    "from skimage.segmentation import watershed\n",
    "\n",
    "ws = watershed(img_smooth, seeds_labeled)"
   ]
  },
  {
   "cell_type": "code",
   "execution_count": null,
   "metadata": {
    "tags": []
   },
   "outputs": [],
   "source": [
    "# (ii) Visulize\n",
    "plt.imshow(img, interpolation='none', cmap='gray')\n",
    "plt.imshow(ws, interpolation='none', cmap='prism', alpha = 0.3)"
   ]
  },
  {
   "cell_type": "code",
   "execution_count": null,
   "metadata": {},
   "outputs": [],
   "source": [
    "# (v) Image visulization with napari: \n",
    "# This is the relatively new way in python to show image. In this workshop we will use napari for visulization\n",
    "\n",
    "# First import module napari\n",
    "import napari\n",
    "\n",
    "# Create an empty viewer object\n",
    "viewer = napari.Viewer()\n",
    "\n",
    "# Use viewer.add_image() and pass the image as a variable to visulize the image. Similar to that for matplotlib, set options:\n",
    "#  * colormap as 'gray'\n",
    "#  * interpolation (interpolation2d) is 'nearest' (which correspond to minimum interpolation) by default, so no need to specify \n",
    "#  * name as 'Raw Image'\n",
    "viewer.add_image(img, colormap = 'gray', name= 'Raw Image')"
   ]
  },
  {
   "cell_type": "code",
   "execution_count": null,
   "metadata": {},
   "outputs": [],
   "source": [
    "# add the ws results as labels\n",
    "viewer.add_labels(ws)"
   ]
  },
  {
   "cell_type": "code",
   "execution_count": null,
   "metadata": {},
   "outputs": [],
   "source": [
    "# (iii) Write (and Save) your segmentation result as tif file\n",
    "\n",
    "# Use the function 'imsave' from the 'skimage.io' module. Make sure that the array you are \n",
    "# writing is of integer type. If necessary, you can use the method 'astype' for conversions, \n",
    "# e.g. 'some_array.astype(np.uint8)' or 'some_array.astype(np.uint16)'. Careful when \n",
    "# converting a segmentation to uint8; if there are more than 255 cells, the 8bit format\n",
    "# doesn't have sufficient bit-depth to represent all cell IDs!\n",
    "#\n",
    "# You can also try adding the segmentation to the original image, creating an image with\n",
    "# two channels, one of them being the segmentation. \n",
    "#\n",
    "# After writing the file, load it into Fiji and check that everything worked as intended.\n",
    "### YOUR CODE HERE!\n",
    "# from ...\n",
    "\n",
    "# P.S. You can also save the file as numpy.\n",
    "# Numpy files allow fast storage and reloading of numpy arrays. Use the function 'np.save'\n",
    "# to save the array and reload it using 'np.load'.\n",
    "\n",
    "# np.save(\"example_cells_1_seg\", clean_seg)  # Save\n",
    "# seg = np.load(\"example_cells_1_seg.npy\")  # Load\n",
    "# print(clean_seg.shape, seg.shape)"
   ]
  },
  {
   "cell_type": "markdown",
   "metadata": {},
   "source": [
    "## <font color='teal'>*Congratulations! You have completed the tutorial!*</font>\n",
    "\n",
    "**We hope you enjoyed the ride and learned a lot!**"
   ]
  }
 ],
 "metadata": {
  "kernelspec": {
   "display_name": "Python 3 (ipykernel)",
   "language": "python",
   "name": "python3"
  },
  "language_info": {
   "codemirror_mode": {
    "name": "ipython",
    "version": 3
   },
   "file_extension": ".py",
   "mimetype": "text/x-python",
   "name": "python",
   "nbconvert_exporter": "python",
   "pygments_lexer": "ipython3",
   "version": "3.8.18"
  },
  "toc-autonumbering": false,
  "toc-showcode": false,
  "toc-showmarkdowntxt": false
 },
 "nbformat": 4,
 "nbformat_minor": 4
}
