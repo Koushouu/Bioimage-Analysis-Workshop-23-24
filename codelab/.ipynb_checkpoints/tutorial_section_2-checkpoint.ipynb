{
 "cells": [
  {
   "cell_type": "markdown",
   "metadata": {},
   "source": [
    "# Image Analysis with Python - <font color='teal'>Tutorial Pipeline Section 2</font>\n",
    "\n",
    "*originally created in 2016*<br>\n",
    "*updated and converted to a Jupyter notebook in 2017*<br>\n",
    "*updated and converted to python 3 in 2018*<br>\n",
    "*by Jonas Hartmann (Gilmour group, EMBL Heidelberg)*<br>\n",
    "*updated in 2022 by Cheng-Yu Huang*<br>"
   ]
  },
  {
   "cell_type": "markdown",
   "metadata": {},
   "source": [
    "##  Table of Contents\n",
    "\n",
    "1. [About this Tutorial](#about)\n",
    "2. [Initialization](#initialize)\n",
    "11. [Postprocessing: Removing ROIs at the Image Border](#postpro)\n",
    "12. [Identifying Cell Edges](#edges)\n",
    "13. [Extracting Quantitative Measurements](#measure)\n",
    "14. [Simple Analysis & Visualization](#analysis)\n",
    "15. [Writing Output to Files](#write)\n",
    "16. [BONUS - Batch Processing](#batch)"
   ]
  },
  {
   "cell_type": "markdown",
   "metadata": {},
   "source": [
    "##  About this Tutorial <a id=about></a>\n",
    "\n",
    "*This tutorial covers the part 2 of the image analysis tutorial*\n",
    "\n",
    "\n",
    "#### Instructions\n",
    "\n",
    "- In the section 1 of the Codelab, you performed adaptive thresholding and connected-component analysis of our raw image.\n",
    "\n",
    "- Here we are going to continue from where we left behind, starting with the segmentation result, we will first clean all the cell patches near the border of the image, and detect the edge of each cells. Then we will perform the statistical analysis to the results."
   ]
  },
  {
   "cell_type": "markdown",
   "metadata": {},
   "source": [
    "## Initialization <a id=initialize></a>"
   ]
  },
  {
   "cell_type": "markdown",
   "metadata": {},
   "source": [
    "In this section we will load the raw image data and our segmentation results, for further processing"
   ]
  },
  {
   "cell_type": "code",
   "execution_count": null,
   "metadata": {},
   "outputs": [],
   "source": [
    "# (i) Importing necessary modules and packages\n",
    "\n",
    "# The numerical arrays manipulation module numpy as np\n",
    "import numpy as np\n",
    "\n",
    "# The plotting module matplotlib.pyplot as plt\n",
    "import matplotlib.pyplot as plt\n",
    "\n",
    "# The image processing module scipy.ndimage as ndi\n",
    "import scipy.ndimage as ndi\n",
    "\n",
    "# Import imread function from skimage.io\n",
    "from skimage.io import imread"
   ]
  },
  {
   "cell_type": "code",
   "execution_count": null,
   "metadata": {},
   "outputs": [],
   "source": [
    "# (ii) Specify the directory path and file name\n",
    "\n",
    "# Create a string variable with the relative (or absolute) path to your raw image\n",
    "# and segmentation results. \n",
    "img_filepath = r'example_data\\example_cells_1.tif'\n",
    "seg_filepath = r'example_cells_1_seg.tif'"
   ]
  },
  {
   "cell_type": "code",
   "execution_count": null,
   "metadata": {},
   "outputs": [],
   "source": [
    "# (iii) Load the raw image and the segmentation results\n",
    "\n",
    "# Read images\n",
    "img = imread(img_filepath)\n",
    "seg = imread(seg_filepath)"
   ]
  },
  {
   "cell_type": "code",
   "execution_count": null,
   "metadata": {},
   "outputs": [],
   "source": [
    "# (iv) Look at the images to confirm that everything worked as intended\n",
    "\n",
    "# Imshow the raw image\n",
    "plt.imshow(img, interpolation='none', cmap='gray')\n",
    "# Overlay the segmentation result, with an alpha value of 0.4\n",
    "plt.imshow(seg, interpolation='none', cmap='prism', alpha=0.4)"
   ]
  },
  {
   "cell_type": "markdown",
   "metadata": {},
   "source": [
    "## Postprocessing: Removing ROIs at the Image Border <a id=postpro></a>"
   ]
  },
  {
   "cell_type": "markdown",
   "metadata": {},
   "source": [
    "#### <font color='teal'> Exercise </font>\n",
    "\n",
    "Iterate through all the ROIs in your segmentation and remove those touching the image border.\n",
    "\n",
    "Follow the instructions in the comments below. Note that the instructions will get a little less specific from here on, so you need to figure out how to approach a problem yourself."
   ]
  },
  {
   "cell_type": "code",
   "execution_count": null,
   "metadata": {},
   "outputs": [],
   "source": [
    "# (i) Create an image border mask\n",
    "\n",
    "# We need some way to check if a cell is at the border. For this, we generate a 'mask' of the image border,\n",
    "# i.e. a Boolean array of the same size as the image where only the border pixels are set to `1` and all \n",
    "# others to `0`, like this:\n",
    "#   1 1 1 1 1\n",
    "#   1 0 0 0 1\n",
    "#   1 0 0 0 1\n",
    "#   1 0 0 0 1\n",
    "#   1 1 1 1 1\n",
    "# There are multiple ways of generating this mask, for example by erosion or by array indexing.\n",
    "# It is up to you to find a way to do it. (Hint: one of the the easiest ways to do this is via scipy.ndimage.binary_dilation.\n",
    "# check the parameter \"border_value\")\n",
    "\n",
    "### YOUR CODE HERE!"
   ]
  },
  {
   "cell_type": "code",
   "execution_count": null,
   "metadata": {},
   "outputs": [],
   "source": [
    "# (ii) 'Delete' the cells at the border\n",
    "\n",
    "# 1) Find the cell ROIs that are crossing the border of the image\n",
    "\n",
    "# Find the border ROI IDs, by first multiply the border_mask by the segmentation mask\n",
    "### YOUR CODE HERE!\n",
    "\n",
    "# Then get an array of ROI IDs by finding the unique elements in the array\n",
    "### YOUR CODE HERE!"
   ]
  },
  {
   "cell_type": "code",
   "execution_count": null,
   "metadata": {},
   "outputs": [],
   "source": [
    "# 2) 'Delete' ROIs by their IDs\n",
    "\n",
    "# Create a copy of the segmentation with np.copy()\n",
    "### YOUR CODE HERE!\n",
    "\n",
    "# Iterate over ROI IDs on the border and set the those ROIs to background (0)\n",
    "### YOUR CODE HERE!\n",
    "    \n",
    "    # Create a mask that contains only the 'current' ROI of the iteration\n",
    "    ### YOUR CODE HERE!\n",
    "    \n",
    "    # Set the position of that roi_mask to background (zero) in the clean_seg\n",
    "    ### YOUR CODE HERE!"
   ]
  },
  {
   "cell_type": "code",
   "execution_count": null,
   "metadata": {},
   "outputs": [],
   "source": [
    "# OPTIONAL: re-label the remaining cells to keep the numbering consistent from 1 to N (with 0 as background).\n",
    "# Hint: Use python function <enumerate>\n",
    "\n",
    "# Use enumerate\n",
    "### YOUR CODE HERE!"
   ]
  },
  {
   "cell_type": "code",
   "execution_count": null,
   "metadata": {},
   "outputs": [],
   "source": [
    "# (iii) Visualize the result\n",
    "\n",
    "# Show the result as transparent overlay over the raw or smoothed image. \n",
    "# Here you have to combine alpha (to make cells transparent) and 'np.ma.array'\n",
    "# (to hide empty space where the border cells were deleted).\n",
    "\n",
    "# Create mask by 'np.ma.array'\n",
    "### YOUR CODE HERE!\n",
    "\n",
    "# Show image\n",
    "### YOUR CODE HERE!"
   ]
  },
  {
   "cell_type": "markdown",
   "metadata": {},
   "source": [
    "## Identifying Cell Edges <a id=edges></a>"
   ]
  },
  {
   "cell_type": "markdown",
   "metadata": {},
   "source": [
    "#### <font color='teal'> Exercise </font>\n",
    "\n",
    "Create a labeled mask of cell edges by following these steps:\n",
    "\n",
    "\n",
    "- Create an array of the same size and data type as the segmentation but filled with only zeros\n",
    "    - This will be your final cell edge mask; you gradually add cell edges as you iterate over cells\n",
    "    \n",
    "\n",
    "- *For each cell...*\n",
    "    - Erode the cell's mask by 1 pixel\n",
    "    - Using the eroded mask and the original mask, create a new mask of only the cell's edge pixels\n",
    "    - Add the cell's edge pixels into the empty image generated above, labeling them with the cell's original ID number\n",
    "\n",
    "\n",
    "Follow the instructions in the comments below."
   ]
  },
  {
   "cell_type": "code",
   "execution_count": null,
   "metadata": {},
   "outputs": [],
   "source": [
    "# (i) Create an array of the same size and data type as the segmentation but filled with only zeros\n",
    "\n",
    "# Hint: use np.zeros_like()\n",
    "### YOUR CODE HERE!"
   ]
  },
  {
   "cell_type": "code",
   "execution_count": null,
   "metadata": {},
   "outputs": [],
   "source": [
    "# (ii) Iterate over the ROI IDs\n",
    "### YOUR CODE HERE!\n",
    "    \n",
    "    # (iii) Erode the ROI's mask by 1 pixel\n",
    "    # Hint: 'ndi.binary_erode'\n",
    "    ### YOUR CODE HERE!\n",
    "    \n",
    "    # (iv) Create the cell edge mask\n",
    "    # Hint: 'np.logical_xor'\n",
    "    ### YOUR CODE HERE!\n",
    "    \n",
    "    # (v) Add the cell edge mask to the empty array generated above, labeling it with the cell's ID\n",
    "    ### YOUR CODE HERE!"
   ]
  },
  {
   "cell_type": "code",
   "execution_count": null,
   "metadata": {},
   "outputs": [],
   "source": [
    "# (vi) Visualize the result\n",
    "\n",
    "# Note: Because the lines are so thin (1pxl wide), they may not be displayed correctly in small figures.\n",
    "#       You can 'zoom in' by showing a sub-region of the image which is then rendered bigger. You can\n",
    "#       also go back to the edge identification code and make the edges multiple pixels wide (but keep \n",
    "#       in mind that this will have an effect on your quantification results!).\n",
    "\n",
    "### YOUR CODE HERE!"
   ]
  },
  {
   "cell_type": "markdown",
   "metadata": {},
   "source": [
    "## Extracting Quantitative Measurements <a id=measure></a>"
   ]
  },
  {
   "cell_type": "markdown",
   "metadata": {},
   "source": [
    "#### <font color='teal'>Exercise</font>\n",
    "\n",
    "Extract the measurements listed above for each cell and collect them in a dictionary.\n",
    "\n",
    "Note: The ideal data structure for data like this is the `DataFrame` offered by the module `Pandas`. However, for the sake of simplicity, we will here stick with a dictionary of lists.\n",
    "\n",
    "Follow the instructions in the comments below."
   ]
  },
  {
   "cell_type": "code",
   "execution_count": null,
   "metadata": {},
   "outputs": [],
   "source": [
    "# (i) Create a dictionary that contains a key-value pairing for each measurement\n",
    "\n",
    "# The keys should be strings describing the type of measurement (e.g. 'intensity_mean') and \n",
    "# the values should be empty lists. These empty lists will be filled with the results of the\n",
    "# measurements.\n",
    "\n",
    "results = {\"cell_id\"      : [],\n",
    "           \"int_mean\"     : [],\n",
    "           \"int_mem_mean\" : [],\n",
    "           \"cell_area\"    : [],\n",
    "           \"cell_edge\"    : []}\n",
    "\n",
    "# Solution note: the spacing between the strings and colons doesn't matter for the code's\n",
    "# execution. It is used solely to make the code more readable!"
   ]
  },
  {
   "cell_type": "code",
   "execution_count": null,
   "metadata": {},
   "outputs": [],
   "source": [
    "# (ii) Record the measurements for each cell\n",
    "\n",
    "# Iterate over the segmented cells ('np.unique').\n",
    "# Inside the loop, create a mask for the current cell and use it to extract the measurements listed above. \n",
    "# Add them to the appropriate list in the dictionary using the 'append' method.\n",
    "# Hint: Remember that you can get out all the values within a masked area by indexing the image \n",
    "#       with the mask. For example, 'np.mean(image[cell_mask])' will return the mean of all the \n",
    "#       intensity values of 'image' that are masked by 'cell_mask'!\n",
    "\n",
    "# Get cell ids with np.unique\n",
    "### YOUR CODE HERE!\n",
    "\n",
    "# Iterate over cell IDs\n",
    "### YOUR CODE HERE!\n",
    "\n",
    "    # Mask the current cell and cell edge\n",
    "    ### YOUR CODE HERE!\n",
    "    \n",
    "    # Get the measurements\n",
    "    ### YOUR CODE HERE!"
   ]
  },
  {
   "cell_type": "code",
   "execution_count": null,
   "metadata": {},
   "outputs": [],
   "source": [
    "# (iii) Import Pandas as pd, and make the dictionary a pandas object\n",
    "\n",
    "# Import pandas as pd\n",
    "import pandas as pd\n",
    "\n",
    "# Make results as a pandas dataframe ('pd.DataFrame()')\n",
    "df = pd.DataFrame(results)\n",
    "\n",
    "# Show the pandas dataframe\n",
    "df"
   ]
  },
  {
   "cell_type": "code",
   "execution_count": null,
   "metadata": {},
   "outputs": [],
   "source": [
    "# (iv) You can write pandas dataframe as csv for data analysis in other softwares\n",
    "df.to_csv(\"measurement.csv\")\n",
    "\n",
    "# To Read:\n",
    "# df1 = pd.read_csv('measurement.csv')"
   ]
  },
  {
   "cell_type": "code",
   "execution_count": null,
   "metadata": {},
   "outputs": [],
   "source": [
    "df.describe()"
   ]
  },
  {
   "cell_type": "markdown",
   "metadata": {},
   "source": [
    "## Simple Analysis & Visualisation <a id=analysis></a>"
   ]
  },
  {
   "cell_type": "markdown",
   "metadata": {},
   "source": [
    "#### Background\n",
    "\n",
    "By extracting quantitative measurements from an image we cross over from 'image analysis' to 'data analysis'. \n",
    "\n",
    "This section briefly explains how to do basic data analysis and plotting, including boxplots, scatterplots and linear fits. It also showcases how to map data back onto the image, creating an \"image-based heatmap\"."
   ]
  },
  {
   "cell_type": "markdown",
   "metadata": {},
   "source": [
    "#### <font color='teal'>Exercise</font>\n",
    "\n",
    "Analyze and plot the extracted data in a variety of ways.\n",
    "\n",
    "Follow the instructions in the comments below."
   ]
  },
  {
   "cell_type": "code",
   "execution_count": null,
   "metadata": {},
   "outputs": [],
   "source": [
    "# (i) Familiarize yourself with the data structure of the results dict and summarize the results\n",
    "\n",
    "# 1) Try to print the mean of mean intensity of all cells\n",
    "mean_int_mean = np.mean(df['int_mean'])\n",
    "print(f'Mean of int_mean is {mean_int_mean}')"
   ]
  },
  {
   "cell_type": "code",
   "execution_count": null,
   "metadata": {},
   "outputs": [],
   "source": [
    "# 2) Try df.describe() to get all the necessary stats\n",
    "# Bonus: can you make all of the numbers round up to 2 decimal places? (Try Google)\n",
    "pd.options.display.float_format = \"{:.2f}\".format\n"
   ]
  },
  {
   "cell_type": "code",
   "execution_count": null,
   "metadata": {},
   "outputs": [],
   "source": [
    "# (ii)-1 Create a histogram showing the distribution of cell surface area in pixels \n",
    "\n",
    "# Use the function 'plt.hist'. Change the \"bins\" parameter of the function to see the more detailed \n",
    "# trend of the data. What do you observe?\n",
    "\n",
    "### YOUR CODE HERE!"
   ]
  },
  {
   "cell_type": "code",
   "execution_count": null,
   "metadata": {},
   "outputs": [],
   "source": [
    "# (ii)-2 Create a box plot showing the mean cell and mean membrane intensities for both channels. \n",
    "\n",
    "# Use the function 'plt.boxplot'. Use the 'label' keyword of 'plt.boxplot' to label the x axis with \n",
    "# the corresponding key names. Feel free to play around with the various options of the boxplot \n",
    "# function to make your plot look nicer. Remember that you can first call 'plt.figure' to adjust \n",
    "# settings such as the size of the plot.\n",
    "\n",
    "### YOUR CODE HERE!"
   ]
  },
  {
   "cell_type": "code",
   "execution_count": null,
   "metadata": {},
   "outputs": [],
   "source": [
    "# (iii) Create a scatter plot of cell outline length over cell area\n",
    "\n",
    "# Use the function 'plt.scatter' for this. Be sure to properly label the \n",
    "# plot using 'plt.xlabel' and 'plt.ylabel'.\n",
    "# Note: it is a good idea to make the marker (the data point) more transparent so that\n",
    "# where you found the plot less transparent it means there are data points overlapping.\n",
    "\n",
    "plt.figure(figsize=(8,5))\n",
    "plt.scatter(results[\"cell_area\"], results[\"cell_edge\"],\n",
    "           edgecolor='k', s=30, alpha=0.5)\n",
    "plt.xlabel('cell area [pxl^2]')\n",
    "plt.ylabel('cell edge length [pxl]')\n",
    "\n",
    "# BONUS: Do you understand why you are seeing the pattern this produces? \n",
    "###\n",
    "# ->> The curve reflects how circumference scales with area!\n",
    "\n",
    "# Can you generate a 'null model' curve that assumes all cells to be circular?\n",
    "cell_area_range = np.linspace(min(results[\"cell_area\"]), max(results[\"cell_area\"]), num = 100)\n",
    "circle_circumference = 2*np.pi*np.sqrt(cell_area_range/ np.pi)\n",
    "plt.plot(cell_area_range, circle_circumference, color='r', alpha=0.8)\n",
    "plt.legend(['circles', 'data'], loc=2, fontsize=10)\n",
    "\n",
    "# What is the result? Do you notice something odd about it? What could be the reason for\n",
    "# this and how could it be fixed?\n",
    "###\n",
    "# ->> In general, the cells don't deviate all that much from the circular case.\n",
    "# ->> Strangely, some cells have a smaller outline than the circumference of a circle\n",
    "#     of equivalent area. This is mathematically impossible.\n",
    "# ->> A possible reason could be that the measures are taken in pixels, which leads\n",
    "#     to a so-called discretization error. It could be fixed by \"meshing\" the cell\n",
    "#     outline and interpolating a more accurate measurement of circumference."
   ]
  },
  {
   "cell_type": "code",
   "execution_count": null,
   "metadata": {},
   "outputs": [],
   "source": [
    "# (iv) Perform a linear fit of membrane intensity over cell area\n",
    "\n",
    "# Use the function 'linregress' from the module 'scipy.stats'. Be sure to read the docs to\n",
    "# understand the output of this function. Print the output.\n",
    "\n",
    "# Compute linear fit\n",
    "from scipy.stats import linregress\n",
    "linfit = linregress(df[\"cell_area\"], df[\"int_mem_mean\"])\n",
    "\n",
    "# Print all the results\n",
    "linprops = ['slope', 'intercept','rvalue','pvalue', 'stderr'] #linfit properties\n",
    "for index,prop in enumerate(linprops):\n",
    "    print( prop, '\\t', '{:4.2e}'.format(linfit[index]) )"
   ]
  },
  {
   "cell_type": "code",
   "execution_count": null,
   "metadata": {},
   "outputs": [],
   "source": [
    "# (v) Think about the result\n",
    "\n",
    "# Note that the fit seems to return a highly significant p-value but a very low correlation \n",
    "# coefficient (r-value). Based on prior knowledge, we would not expect a linear correlation of \n",
    "# this sort to be present in our data. \n",
    "#\n",
    "# This should prompt several questions:\n",
    "#   1) What does this p-value actually mean? Check the docs of 'linregress'!\n",
    "###\n",
    "#       ->> This p-value only means that, given a linear fit through this data, the slope of the\n",
    "#           fit is very unlikely to be zero. However, it does not make a statement on whether or\n",
    "#           not it makes sense to use a linear fit in the first place. Looking at the scatterplot\n",
    "#           below or at the correlation coefficient r, it is clear that a linear fit on this data\n",
    "#           is not meaningful.\n",
    "#       ->> Note also: With single-cell approaches, we quickly get to a large number of data points. \n",
    "#           This makes hypothesis testing in general less useful, as p-values tend to become very\n",
    "#           small even if the null hypothesis holds. It makes sense to instead report effect sizes.\n",
    "#           This is a tricky topic but well worth reading up on.\n",
    "#\n",
    "#   2) Could there be artifacts in our segmentation that bias this analysis?\n",
    "###\n",
    "#       ->> Oversegmentation is an important source of bias here. If a cell is oversegmented,\n",
    "#           it will be considered as two or three cells. These will naturally have a lower\n",
    "#           cell area and will naturally have a lower membrane intensity because some of their\n",
    "#           edges are actually not on membranes. In other words, they will fall into the bottom\n",
    "#           left of the plot, distorting the data.\n",
    "#\n",
    "# In general, it's always good to be very careful when doing any kind of data analysis. Make sure you \n",
    "# understand the functions you are using and always check for possible errors or sources of bias!"
   ]
  },
  {
   "cell_type": "code",
   "execution_count": null,
   "metadata": {},
   "outputs": [],
   "source": [
    "# (vi) Overlay the linear fit onto a scatter plot\n",
    "\n",
    "# Recall that a linear function is defined by `y = slope * x + intercept`.\n",
    "\n",
    "# To define the line you'd like to plot, you need two values of x (the starting point and\n",
    "# and the end point of the line). What values of x make sense? Can you get them automatically?\n",
    "#   ->> The max and min values in the data are a good choice.\n",
    "x_vals = [min(df[\"cell_area\"]), max(df[\"cell_area\"])]\n",
    "\n",
    "# When you have the x-values for the starting point and end point, get the corresponding y \n",
    "# values from the fit through the equation above.\n",
    "y_vals = [linfit[0] * x_vals[0] + linfit[1], linfit[0] * x_vals[1] + linfit[1]]\n",
    "\n",
    "# Plot the line with 'plt.plot'. Adjust the line's properties so it is well visible.\n",
    "# Note: Remember that you have to create the scatterplot before plotting the line so that\n",
    "#       the line will be placed on top of the scatterplot.\n",
    "plt.figure(figsize=(8,5))\n",
    "plt.scatter(df[\"cell_area\"], df[\"int_mem_mean\"], \n",
    "            edgecolor='k', s=30, alpha=0.5)\n",
    "plt.plot(x_vals, y_vals, color='red', lw=2, alpha=0.8)\n",
    "\n",
    "# Use 'plt.legend' to add information about the line to the plot.\n",
    "plt.legend([\"linear fit, Rsq={:4.2e}\".format(linfit[2]**2.0)], frameon=False, loc=4)\n",
    "\n",
    "# Label the plot and finally show it with 'plt.show'.\n",
    "plt.xlabel(\"cell area [pxl]\")\n",
    "plt.ylabel(\"Mean membrane intensity [a.u.]\")\n",
    "plt.title(\"Scatterplot with linear fit\")\n",
    "plt.show()"
   ]
  },
  {
   "cell_type": "code",
   "execution_count": null,
   "metadata": {},
   "outputs": [],
   "source": [
    "# (vii) Map the cell area back onto the image as a 'heatmap'\n",
    "\n",
    "# Scale the cell area data to 8bit so that it can be used as pixel intensity values.\n",
    "areas_8bit = np.array(df[\"cell_area\"]) / max(df[\"cell_area\"]) * 255\n",
    "\n",
    "# Initialize a new image array, with dtype as uint8\n",
    "area_map = np.zeros_like(clean_seg, dtype = np.uint8)\n",
    "\n",
    "# Iterate over the segmented cells\n",
    "for index, cell_id in enumerate(df[\"cell_id\"]):\n",
    "    \n",
    "    # Extract cell mask\n",
    "    cell_mask = clean_seg == cell_id\n",
    "    \n",
    "    # Add cells to the area map\n",
    "    area_map[cell_mask] = areas_8bit[index]\n",
    "    \n",
    "# BONUS: See if you can exclude outliers to make the color mapping more informative!\n",
    "    \n",
    "# Visulize the results:\n",
    "# Create the mask array\n",
    "area_map_mask = np.ma.array(area_map, mask = area_map == 0)\n",
    "plt.imshow(img, interpolation='none', cmap='gray')\n",
    "plt.imshow(area_map_mask, interpolation='none', cmap='viridis', alpha=0.6)"
   ]
  },
  {
   "cell_type": "code",
   "execution_count": null,
   "metadata": {},
   "outputs": [],
   "source": [
    "# (viii) Write a figure to a png or pdf\n",
    "\n",
    "# Recreate the scatter plot from above (with or without the regression line), then save the figure\n",
    "# as a png using 'plt.savefig'. Alternatively, you can also save it to a pdf, which will create a\n",
    "# vector graphic that can be imported into programs like Adobe Illustrator.\n",
    "\n",
    "plt.scatter(df[\"cell_area\"], df[\"int_mem_mean\"], \n",
    "            edgecolor='k', s=30, alpha=0.5)\n",
    "plt.plot(x_vals, y_vals, color='red', lw=2, alpha=0.8)\n",
    "plt.legend([\"linear fit, Rsq={:4.2e}\".format(linfit[2]**2.0)], frameon=False, loc=4)\n",
    "plt.xlabel(\"cell area [pxl]\")\n",
    "plt.ylabel(\"Mean membrane intensity [a.u.]\")\n",
    "plt.title(\"Scatterplot with linear fit\")\n",
    "\n",
    "# Save as png and pdf\n",
    "plt.savefig('example_cells_1_scatterFit.png')\n",
    "plt.savefig('example_cells_1_scatterFit.pdf')\n",
    "plt.clf()  # Clear the figure buffer"
   ]
  },
  {
   "cell_type": "markdown",
   "metadata": {},
   "source": [
    "## \\**BONUS\\** >> Batch Processing: See tutorial section 3 <a id=batch></a>"
   ]
  },
  {
   "cell_type": "markdown",
   "metadata": {},
   "source": [
    "## <font color='teal'>*Congratulations! You have completed the tutorial!*</font>\n",
    "\n",
    "**We hope you enjoyed the ride and learned a lot!**"
   ]
  },
  {
   "cell_type": "markdown",
   "metadata": {},
   "source": [
    "### Concluding Remarks\n",
    "\n",
    "It's important to remember that the phrase ***\"Use it or loose it!\"*** fully applies for the skills taught in this tutorial.\n",
    "\n",
    "If you now just go back to the lab and don't touch python or image analysis for the next half year, most of the things you have learned here will be lost.\n",
    "\n",
    "So, what can you do?\n",
    "\n",
    "\n",
    "- If possible, start applying what you have learned to your own work right away\n",
    "\n",
    "\n",
    "- Even if your current work doesn't absolutely *need* coding / image analysis (which to be honest is hard to believe! ;p), you can still use it at least to make some nice plots!\n",
    "\n",
    "\n",
    "- Another very good approach is to find yourself an interesting little side project you can play around with"
   ]
  },
  {
   "cell_type": "markdown",
   "metadata": {},
   "source": [
    "***We wish you the best of luck for all your coding endeavors!***"
   ]
  }
 ],
 "metadata": {
  "kernelspec": {
   "display_name": "Python 3 (ipykernel)",
   "language": "python",
   "name": "python3"
  },
  "language_info": {
   "codemirror_mode": {
    "name": "ipython",
    "version": 3
   },
   "file_extension": ".py",
   "mimetype": "text/x-python",
   "name": "python",
   "nbconvert_exporter": "python",
   "pygments_lexer": "ipython3",
   "version": "3.8.18"
  }
 },
 "nbformat": 4,
 "nbformat_minor": 4
}
