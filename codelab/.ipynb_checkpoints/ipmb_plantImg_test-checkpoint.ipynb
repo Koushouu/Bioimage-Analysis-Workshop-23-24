{
 "cells": [
  {
   "cell_type": "code",
   "execution_count": 1,
   "id": "49c78247-7361-488a-be17-c8ac43cd204e",
   "metadata": {},
   "outputs": [],
   "source": [
    "filepath = r'Leaf_PM_Nuclei.tif'\n",
    "\n",
    "from skimage.io import imread\n",
    "img = imread(filepath)\n",
    "img_ch0 = img[0,:,:]\n",
    "img_ch1 = img[1,:,:]"
   ]
  },
  {
   "cell_type": "code",
   "execution_count": 2,
   "id": "64a41826-f5c6-4156-833a-076d643ed00d",
   "metadata": {},
   "outputs": [
    {
     "data": {
      "text/plain": [
       "<Image layer 'Raw Image [1]' at 0x29d95bc8f70>"
      ]
     },
     "execution_count": 2,
     "metadata": {},
     "output_type": "execute_result"
    }
   ],
   "source": [
    "# First import module napari\n",
    "import napari\n",
    "\n",
    "# Create an empty viewer object\n",
    "viewer = napari.Viewer()\n",
    "\n",
    "# Use viewer.add_image() and pass the image as a variable to visulize the image. Similar to that for matplotlib, set options:\n",
    "#  * colormap as 'gray'\n",
    "#  * interpolation (interpolation2d) is 'nearest' (which correspond to minimum interpolation) by default, so no need to specify \n",
    "#  * name as 'Raw Image'\n",
    "viewer.add_image(img_ch0, colormap = 'green', name= 'Raw Image', blending= 'additive')\n",
    "viewer.add_image(img_ch1, colormap = 'red', name= 'Raw Image', blending= 'additive')"
   ]
  },
  {
   "cell_type": "code",
   "execution_count": 3,
   "id": "39c6b97a-3789-476a-ac04-aeaf6bed88b3",
   "metadata": {},
   "outputs": [
    {
     "data": {
      "text/plain": [
       "<Image layer 'Gaussian Smoothed Image (sigma = 2)' at 0x29de4124c70>"
      ]
     },
     "execution_count": 3,
     "metadata": {},
     "output_type": "execute_result"
    }
   ],
   "source": [
    "import scipy.ndimage as ndi\n",
    "\n",
    "sigma = 2\n",
    "img_smooth = ndi.gaussian_filter(img_ch1, sigma)\n",
    "viewer.add_image(img_smooth, colormap = 'gray', name= f'Gaussian Smoothed Image (sigma = {sigma})')"
   ]
  },
  {
   "cell_type": "code",
   "execution_count": 4,
   "id": "c6e8ed61-f958-4ebd-9752-a30283a847ed",
   "metadata": {},
   "outputs": [
    {
     "data": {
      "text/plain": [
       "<Image layer 'Thresholded Image (sigma = 30)' at 0x29d97df8580>"
      ]
     },
     "execution_count": 4,
     "metadata": {},
     "output_type": "execute_result"
    }
   ],
   "source": [
    "thresh = 30\n",
    "img_smooth2 = ndi.gaussian_filter(img_ch1, 5)\n",
    "void = img_smooth2 > thresh\n",
    "viewer.add_image(void, colormap = 'gray', name= f'Thresholded Image (sigma = {thresh})')"
   ]
  },
  {
   "cell_type": "code",
   "execution_count": 5,
   "id": "9cac43a1-55fe-4ee8-adb9-aa5ea90e2c14",
   "metadata": {},
   "outputs": [
    {
     "data": {
      "text/plain": [
       "<Image layer 'Adaptive Filtered' at 0x29d991e6130>"
      ]
     },
     "execution_count": 5,
     "metadata": {},
     "output_type": "execute_result"
    }
   ],
   "source": [
    "from skimage.morphology import disk\n",
    "\n",
    "# Create SE for mean filtering\n",
    "# Set radius r for the disk\n",
    "r = 7\n",
    "# create disk, save it as SE\n",
    "SE = disk(r)\n",
    "\n",
    "from skimage.filters import rank \n",
    "\n",
    "background = rank.mean(img_smooth, footprint=SE)\n",
    "\n",
    "viewer.add_image(background, colormap = 'gray', name= f'Background')\n",
    "mem = img_smooth > background\n",
    "viewer.add_image(mem, colormap = 'gray', name= f'Adaptive Filtered')"
   ]
  },
  {
   "cell_type": "code",
   "execution_count": 6,
   "id": "ba299595-8687-4c65-a002-2f637bc66ea8",
   "metadata": {},
   "outputs": [
    {
     "data": {
      "text/plain": [
       "<Image layer 'Hole Filled' at 0x29d97d76640>"
      ]
     },
     "execution_count": 6,
     "metadata": {},
     "output_type": "execute_result"
    }
   ],
   "source": [
    "void_holefilled = ndi.binary_fill_holes(void)\n",
    "viewer.add_image(void_holefilled, colormap = 'gray', name= 'Hole Filled')"
   ]
  },
  {
   "cell_type": "code",
   "execution_count": 7,
   "id": "12cd887f-bc0b-4a0c-95c6-3095dfe84e4e",
   "metadata": {},
   "outputs": [],
   "source": [
    "mem[void_holefilled == 0] = 1"
   ]
  },
  {
   "cell_type": "code",
   "execution_count": 8,
   "id": "69e9566e-0190-4d28-9a1e-114bc4f44757",
   "metadata": {},
   "outputs": [
    {
     "data": {
      "text/plain": [
       "<Image layer 'Adaptive Filtered [1]' at 0x29d9a3bbbe0>"
      ]
     },
     "execution_count": 8,
     "metadata": {},
     "output_type": "execute_result"
    }
   ],
   "source": [
    "viewer.add_image(mem, colormap = 'gray', name= f'Adaptive Filtered')"
   ]
  },
  {
   "cell_type": "code",
   "execution_count": 9,
   "id": "f78f4d92-bf7d-41a1-a54c-a6fa84050c07",
   "metadata": {},
   "outputs": [
    {
     "data": {
      "text/plain": [
       "<Image layer 'Hole Filled [1]' at 0x29d9a5b6250>"
      ]
     },
     "execution_count": 9,
     "metadata": {},
     "output_type": "execute_result"
    }
   ],
   "source": [
    "mem_holefilled = ~ndi.binary_fill_holes(~mem)\n",
    "viewer.add_image(mem_holefilled, colormap = 'gray', name= 'Hole Filled')"
   ]
  },
  {
   "cell_type": "code",
   "execution_count": 10,
   "id": "82e28a0a-3ac8-4975-ad48-92b7b1cb9635",
   "metadata": {},
   "outputs": [
    {
     "data": {
      "text/plain": [
       "<Image layer 'Final' at 0x29d9871b1c0>"
      ]
     },
     "execution_count": 10,
     "metadata": {},
     "output_type": "execute_result"
    }
   ],
   "source": [
    "mem_final = ndi.binary_closing(mem_holefilled, structure=disk(2))\n",
    "viewer.add_image(mem_final, colormap = 'gray', name= 'Final')"
   ]
  },
  {
   "cell_type": "code",
   "execution_count": 11,
   "id": "5e515245-be28-455c-97f5-6d2ec31a6466",
   "metadata": {},
   "outputs": [
    {
     "data": {
      "text/plain": [
       "<Image layer 'cell_labels' at 0x29d9a6da580>"
      ]
     },
     "execution_count": 11,
     "metadata": {},
     "output_type": "execute_result"
    }
   ],
   "source": [
    "cell_labels, _ = ndi.label(~mem_final)\n",
    "viewer.add_image(cell_labels, colormap='inferno')"
   ]
  },
  {
   "cell_type": "code",
   "execution_count": 12,
   "id": "7f0c9702-bfb6-48e0-81ae-331a352b6030",
   "metadata": {},
   "outputs": [
    {
     "data": {
      "text/plain": [
       "<Image layer 'Distance Transformed' at 0x29d9bdbe310>"
      ]
     },
     "execution_count": 12,
     "metadata": {},
     "output_type": "execute_result"
    }
   ],
   "source": [
    "dist_trans = ndi.distance_transform_edt(~mem_final)\n",
    "viewer.add_image(dist_trans, colormap='viridis', name = 'Distance Transformed')"
   ]
  },
  {
   "cell_type": "code",
   "execution_count": 13,
   "id": "953f7502-89d9-4bb1-9535-5e8f74d82059",
   "metadata": {},
   "outputs": [
    {
     "data": {
      "text/plain": [
       "<Points layer 'seeds' at 0x29d9a5b6190>"
      ]
     },
     "execution_count": 13,
     "metadata": {},
     "output_type": "execute_result"
    }
   ],
   "source": [
    "dist_trans_smooth = ndi.gaussian_filter(dist_trans, sigma=3)\n",
    "\n",
    "from skimage.feature import peak_local_max\n",
    "\n",
    "seeds = peak_local_max(dist_trans_smooth, min_distance=1)\n",
    "viewer.add_points(seeds, size=2)"
   ]
  },
  {
   "cell_type": "code",
   "execution_count": null,
   "id": "4f0aba04-080f-43fc-811d-aca8dd3642da",
   "metadata": {},
   "outputs": [],
   "source": []
  }
 ],
 "metadata": {
  "kernelspec": {
   "display_name": "Python 3 (ipykernel)",
   "language": "python",
   "name": "python3"
  },
  "language_info": {
   "codemirror_mode": {
    "name": "ipython",
    "version": 3
   },
   "file_extension": ".py",
   "mimetype": "text/x-python",
   "name": "python",
   "nbconvert_exporter": "python",
   "pygments_lexer": "ipython3",
   "version": "3.9.15"
  }
 },
 "nbformat": 4,
 "nbformat_minor": 5
}
