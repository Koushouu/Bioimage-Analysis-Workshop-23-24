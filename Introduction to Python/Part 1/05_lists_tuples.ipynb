{
 "cells": [
  {
   "cell_type": "markdown",
   "id": "ranging-theology",
   "metadata": {},
   "source": [
    "# Lists and tuples\n",
    "Variables can also contain multiple entries of values. We call those lists and tuples. Some programmers also call them vectors or arrays; arrays of values. We already know one kind of array, strings. Strings are lists of characters.\n",
    "\n",
    "See also\n",
    "* [Arrays](https://physics.nyu.edu/pine/pymanual/html/chap3/chap3_arrays.html)\n",
    "* [Average of a list](https://www.geeksforgeeks.org/find-average-list-python/)\n",
    "* [Array in Python](https://www.scaler.com/topics/array-in-python/)\n",
    "\n",
    "You can access elements in an array using square brackets `[]` which allow you access an element at a given index. Indexing starts at 0. Thus, the first element of an array is element number 0. The following string contains 5 characters and thus, element with index 0, 1, 2, 3 and 4 can be accessed:"
   ]
  },
  {
   "cell_type": "code",
   "execution_count": null,
   "id": "divine-cartoon",
   "metadata": {
    "tags": []
   },
   "outputs": [],
   "source": [
    "word = \"Hello\""
   ]
  },
  {
   "cell_type": "code",
   "execution_count": null,
   "id": "mental-height",
   "metadata": {
    "tags": []
   },
   "outputs": [],
   "source": [
    "word[0]"
   ]
  },
  {
   "cell_type": "code",
   "execution_count": null,
   "id": "medical-beverage",
   "metadata": {
    "tags": []
   },
   "outputs": [],
   "source": [
    "word[1]"
   ]
  },
  {
   "cell_type": "code",
   "execution_count": null,
   "id": "collected-cleaning",
   "metadata": {
    "tags": []
   },
   "outputs": [],
   "source": [
    "word[2]"
   ]
  },
  {
   "cell_type": "code",
   "execution_count": null,
   "id": "honest-tribe",
   "metadata": {
    "tags": []
   },
   "outputs": [],
   "source": [
    "word[3]"
   ]
  },
  {
   "cell_type": "code",
   "execution_count": null,
   "id": "electronic-sauce",
   "metadata": {
    "tags": []
   },
   "outputs": [],
   "source": [
    "word[4]"
   ]
  },
  {
   "cell_type": "markdown",
   "id": "b12b60fa-fc21-4240-9f35-dc7ba84f050b",
   "metadata": {},
   "source": [
    "When accessing an index that is not in the list, we receive an error:"
   ]
  },
  {
   "cell_type": "code",
   "execution_count": null,
   "id": "former-balloon",
   "metadata": {
    "tags": []
   },
   "outputs": [],
   "source": [
    "word[5]"
   ]
  },
  {
   "cell_type": "markdown",
   "id": "robust-therapist",
   "metadata": {},
   "source": [
    "# Numeric lists\n",
    "Another type of array are numeric lists. They are common to store measurements of experiments for example:"
   ]
  },
  {
   "cell_type": "code",
   "execution_count": null,
   "id": "critical-hearing",
   "metadata": {
    "tags": []
   },
   "outputs": [],
   "source": [
    "measurements = [5.5, 6.3, 7.2, 8.0, 8.8]"
   ]
  },
  {
   "cell_type": "code",
   "execution_count": null,
   "id": "presidential-brush",
   "metadata": {
    "tags": []
   },
   "outputs": [],
   "source": [
    "measurements[0]"
   ]
  },
  {
   "cell_type": "code",
   "execution_count": null,
   "id": "sweet-munich",
   "metadata": {
    "tags": []
   },
   "outputs": [],
   "source": [
    "measurements[1]"
   ]
  },
  {
   "cell_type": "markdown",
   "id": "military-vision",
   "metadata": {},
   "source": [
    "Changing entries in lists works like this:"
   ]
  },
  {
   "cell_type": "code",
   "execution_count": null,
   "id": "hairy-tomato",
   "metadata": {
    "tags": []
   },
   "outputs": [],
   "source": [
    "measurements[1] = 25"
   ]
  },
  {
   "cell_type": "code",
   "execution_count": null,
   "id": "usual-leeds",
   "metadata": {
    "tags": []
   },
   "outputs": [],
   "source": [
    "measurements[1]"
   ]
  },
  {
   "cell_type": "markdown",
   "id": "antique-collins",
   "metadata": {},
   "source": [
    "You can also append entries to lists:"
   ]
  },
  {
   "cell_type": "code",
   "execution_count": null,
   "id": "multiple-coffee",
   "metadata": {
    "tags": []
   },
   "outputs": [],
   "source": [
    "measurements.append(10.2)"
   ]
  },
  {
   "cell_type": "markdown",
   "id": "moved-consultation",
   "metadata": {},
   "source": [
    "Lists can also be reversed:"
   ]
  },
  {
   "cell_type": "code",
   "execution_count": null,
   "id": "fitting-december",
   "metadata": {
    "tags": []
   },
   "outputs": [],
   "source": [
    "measurements"
   ]
  },
  {
   "cell_type": "code",
   "execution_count": null,
   "id": "literary-designation",
   "metadata": {
    "tags": []
   },
   "outputs": [],
   "source": [
    "measurements.reverse()"
   ]
  },
  {
   "cell_type": "code",
   "execution_count": null,
   "id": "united-joint",
   "metadata": {
    "tags": []
   },
   "outputs": [],
   "source": [
    "measurements"
   ]
  },
  {
   "cell_type": "markdown",
   "id": "periodic-toyota",
   "metadata": {},
   "source": [
    "Just like strings, you can also concatenate arrays:"
   ]
  },
  {
   "cell_type": "code",
   "execution_count": null,
   "id": "gorgeous-harbor",
   "metadata": {
    "tags": []
   },
   "outputs": [],
   "source": [
    "more_measurements = [12.3, 14.5, 28.3]"
   ]
  },
  {
   "cell_type": "code",
   "execution_count": null,
   "id": "latest-rachel",
   "metadata": {
    "tags": []
   },
   "outputs": [],
   "source": [
    "measurements + more_measurements"
   ]
  },
  {
   "cell_type": "markdown",
   "id": "tested-literature",
   "metadata": {},
   "source": [
    "When working with numeric lists, you can use some of python's built-in functions to do basic statistics on your measurements"
   ]
  },
  {
   "cell_type": "code",
   "execution_count": null,
   "id": "entitled-incident",
   "metadata": {
    "tags": []
   },
   "outputs": [],
   "source": [
    "# minimum value in the list\n",
    "min(measurements)"
   ]
  },
  {
   "cell_type": "code",
   "execution_count": null,
   "id": "checked-factor",
   "metadata": {
    "tags": []
   },
   "outputs": [],
   "source": [
    "# maximum value in the list\n",
    "max(measurements)"
   ]
  },
  {
   "cell_type": "code",
   "execution_count": null,
   "id": "irish-space",
   "metadata": {
    "tags": []
   },
   "outputs": [],
   "source": [
    "# sum of all elements in the list\n",
    "sum(measurements)"
   ]
  },
  {
   "cell_type": "code",
   "execution_count": null,
   "id": "established-school",
   "metadata": {
    "tags": []
   },
   "outputs": [],
   "source": [
    "# number of elements in the list\n",
    "len(measurements)"
   ]
  },
  {
   "cell_type": "code",
   "execution_count": null,
   "id": "spectacular-blocking",
   "metadata": {
    "tags": []
   },
   "outputs": [],
   "source": [
    "# average of all elements in the list\n",
    "sum(measurements) / len(measurements)"
   ]
  },
  {
   "cell_type": "markdown",
   "id": "favorite-canvas",
   "metadata": {},
   "source": [
    "# Mixed type lists\n",
    "You can also store values of different types in a list"
   ]
  },
  {
   "cell_type": "code",
   "execution_count": null,
   "id": "chief-people",
   "metadata": {
    "tags": []
   },
   "outputs": [],
   "source": [
    "mixed_list = [22, 5.6, \"Cat\", 'Dog']"
   ]
  },
  {
   "cell_type": "code",
   "execution_count": null,
   "id": "listed-shape",
   "metadata": {
    "tags": []
   },
   "outputs": [],
   "source": [
    "mixed_list[0]"
   ]
  },
  {
   "cell_type": "code",
   "execution_count": null,
   "id": "exclusive-correction",
   "metadata": {
    "tags": []
   },
   "outputs": [],
   "source": [
    "mixed_list[3]"
   ]
  },
  {
   "cell_type": "code",
   "execution_count": null,
   "id": "geographic-allah",
   "metadata": {
    "tags": []
   },
   "outputs": [],
   "source": [
    "type(mixed_list[3])"
   ]
  },
  {
   "cell_type": "markdown",
   "id": "sublime-naples",
   "metadata": {},
   "source": [
    "# Tuples\n",
    "Tuples are lists which cannot be changed:"
   ]
  },
  {
   "cell_type": "code",
   "execution_count": null,
   "id": "ambient-institution",
   "metadata": {
    "tags": []
   },
   "outputs": [],
   "source": [
    "immutable = (4, 3, 7.8)"
   ]
  },
  {
   "cell_type": "code",
   "execution_count": null,
   "id": "careful-shell",
   "metadata": {
    "tags": []
   },
   "outputs": [],
   "source": [
    "immutable[1]"
   ]
  },
  {
   "cell_type": "code",
   "execution_count": null,
   "id": "confused-sympathy",
   "metadata": {
    "tags": []
   },
   "outputs": [],
   "source": [
    "immutable[1] = 5"
   ]
  },
  {
   "cell_type": "markdown",
   "id": "civic-cameroon",
   "metadata": {},
   "source": [
    "You can convert tubles to lists and lists to tuples:"
   ]
  },
  {
   "cell_type": "code",
   "execution_count": null,
   "id": "stone-continuity",
   "metadata": {
    "tags": []
   },
   "outputs": [],
   "source": [
    "type(immutable)"
   ]
  },
  {
   "cell_type": "code",
   "execution_count": null,
   "id": "equal-european",
   "metadata": {
    "tags": []
   },
   "outputs": [],
   "source": [
    "mutable = list(immutable)"
   ]
  },
  {
   "cell_type": "code",
   "execution_count": null,
   "id": "turned-cemetery",
   "metadata": {
    "tags": []
   },
   "outputs": [],
   "source": [
    "type(mutable)"
   ]
  },
  {
   "cell_type": "code",
   "execution_count": null,
   "id": "upset-bandwidth",
   "metadata": {
    "tags": []
   },
   "outputs": [],
   "source": [
    "again_immuntable = tuple(mutable)"
   ]
  },
  {
   "cell_type": "code",
   "execution_count": null,
   "id": "tested-contrary",
   "metadata": {
    "tags": []
   },
   "outputs": [],
   "source": [
    "type(again_immuntable)"
   ]
  },
  {
   "cell_type": "markdown",
   "id": "supreme-proceeding",
   "metadata": {},
   "source": [
    "# Exercise\n",
    "Assume you did measurements on multiple days. Please compute average measurement of this week."
   ]
  },
  {
   "cell_type": "code",
   "execution_count": null,
   "id": "sublime-unemployment",
   "metadata": {
    "tags": []
   },
   "outputs": [],
   "source": [
    "measurements_monday = [2.3, 3.1, 5.6]\n",
    "measurements_tuesday = [1.8, 7.0]\n",
    "measurements_wednesday = [4.5, 1.5, 6.4, 3.2]\n",
    "measurements_thursday = [1.9, 2.0]\n",
    "measurements_friday = [4.4]"
   ]
  },
  {
   "cell_type": "markdown",
   "id": "stable-stage",
   "metadata": {},
   "source": []
  }
 ],
 "metadata": {
  "kernelspec": {
   "display_name": "Python 3 (ipykernel)",
   "language": "python",
   "name": "python3"
  },
  "language_info": {
   "codemirror_mode": {
    "name": "ipython",
    "version": 3
   },
   "file_extension": ".py",
   "mimetype": "text/x-python",
   "name": "python",
   "nbconvert_exporter": "python",
   "pygments_lexer": "ipython3",
   "version": "3.8.18"
  }
 },
 "nbformat": 4,
 "nbformat_minor": 5
}
