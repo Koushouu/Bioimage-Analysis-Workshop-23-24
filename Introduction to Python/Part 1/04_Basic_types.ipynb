{
 "cells": [
  {
   "cell_type": "markdown",
   "id": "5fa37873",
   "metadata": {},
   "source": [
    "# Basic types in python\n",
    "Variables in python can hold different types of numbers and also other things such as text, images and more complex objects.\n",
    "\n",
    "We can also print out the type of a variable.\n",
    "\n",
    "See also\n",
    "* [Built-in types in python](https://docs.python.org/3/library/stdtypes.html)\n",
    "* [Basic types in python](https://realpython.com/python-data-types/)\n",
    "\n",
    "This is an integer number:"
   ]
  },
  {
   "cell_type": "code",
   "execution_count": null,
   "id": "e95849c6",
   "metadata": {
    "tags": []
   },
   "outputs": [],
   "source": [
    "a = 5"
   ]
  },
  {
   "cell_type": "code",
   "execution_count": null,
   "id": "a263822b",
   "metadata": {
    "tags": []
   },
   "outputs": [],
   "source": [
    "type(a)"
   ]
  },
  {
   "cell_type": "markdown",
   "id": "3a6be7b8",
   "metadata": {},
   "source": [
    "And this is a floating point variable:"
   ]
  },
  {
   "cell_type": "code",
   "execution_count": null,
   "id": "a516e7c1",
   "metadata": {
    "tags": []
   },
   "outputs": [],
   "source": [
    "b = 3.5"
   ]
  },
  {
   "cell_type": "code",
   "execution_count": null,
   "id": "66661ed1",
   "metadata": {
    "tags": []
   },
   "outputs": [],
   "source": [
    "type(b)"
   ]
  },
  {
   "cell_type": "markdown",
   "id": "99aec830",
   "metadata": {},
   "source": [
    "When combining variables of different types, Python makes a decision which type the new variable should have"
   ]
  },
  {
   "cell_type": "code",
   "execution_count": null,
   "id": "2f182cd9",
   "metadata": {
    "tags": []
   },
   "outputs": [],
   "source": [
    "c = a + b"
   ]
  },
  {
   "cell_type": "code",
   "execution_count": null,
   "id": "c6e68377",
   "metadata": {
    "tags": []
   },
   "outputs": [],
   "source": [
    "type(c)"
   ]
  },
  {
   "cell_type": "markdown",
   "id": "933a5b96",
   "metadata": {},
   "source": [
    "# Strings\n",
    "Variables can also hold text. We call them a \"string\" in this case, and define them by surrounding the value with either single quotes ```' '``` or double quotes ```\" \"```:"
   ]
  },
  {
   "cell_type": "code",
   "execution_count": null,
   "id": "d233f613",
   "metadata": {
    "tags": []
   },
   "outputs": [],
   "source": [
    "first_name = \"Robert\"\n",
    "last_name = 'Haase'"
   ]
  },
  {
   "cell_type": "markdown",
   "id": "b6d41406",
   "metadata": {},
   "source": [
    "Strings can be concatenated using the `+` operator:"
   ]
  },
  {
   "cell_type": "code",
   "execution_count": null,
   "id": "b420698c",
   "metadata": {
    "tags": []
   },
   "outputs": [],
   "source": [
    "first_name + last_name"
   ]
  },
  {
   "cell_type": "code",
   "execution_count": null,
   "id": "a3d6173d",
   "metadata": {
    "tags": []
   },
   "outputs": [],
   "source": [
    "first_name + \" \" + last_name"
   ]
  },
  {
   "cell_type": "markdown",
   "id": "1ec0678e",
   "metadata": {},
   "source": [
    "If we want to have single and double quotation marks within our text, we can put them in like this:"
   ]
  },
  {
   "cell_type": "code",
   "execution_count": null,
   "id": "795ae689",
   "metadata": {
    "tags": []
   },
   "outputs": [],
   "source": [
    "text = \"She said 'Hi'.\"\n",
    "print(text)"
   ]
  },
  {
   "cell_type": "code",
   "execution_count": null,
   "id": "b362013b",
   "metadata": {
    "tags": []
   },
   "outputs": [],
   "source": [
    "text = 'He said \"How are you?\".'\n",
    "print(text)"
   ]
  },
  {
   "cell_type": "markdown",
   "id": "0d09f2c9",
   "metadata": {},
   "source": [
    "## Combining strings and numbers"
   ]
  },
  {
   "cell_type": "markdown",
   "id": "5429a062",
   "metadata": {},
   "source": [
    "When combining variables of numeric types and string types, errors may appear:"
   ]
  },
  {
   "cell_type": "code",
   "execution_count": null,
   "id": "4698af1b",
   "metadata": {
    "tags": []
   },
   "outputs": [],
   "source": [
    "first_name + a"
   ]
  },
  {
   "cell_type": "markdown",
   "id": "9f7da8aa",
   "metadata": {},
   "source": [
    "Those can be prevented by converting the numeric variable to a string type using the `str()` function:"
   ]
  },
  {
   "cell_type": "code",
   "execution_count": null,
   "id": "4dcb76f5",
   "metadata": {
    "tags": []
   },
   "outputs": [],
   "source": [
    "first_name + str(a)"
   ]
  },
  {
   "cell_type": "markdown",
   "id": "9dea8ae1",
   "metadata": {},
   "source": [
    "You can also convert strings to numbers in case they contain numbers:"
   ]
  },
  {
   "cell_type": "code",
   "execution_count": null,
   "id": "ee227469",
   "metadata": {
    "tags": []
   },
   "outputs": [],
   "source": [
    "d = \"5\""
   ]
  },
  {
   "cell_type": "code",
   "execution_count": null,
   "id": "7429b783",
   "metadata": {
    "tags": []
   },
   "outputs": [],
   "source": [
    "int(d)"
   ]
  },
  {
   "cell_type": "code",
   "execution_count": null,
   "id": "e504db1c",
   "metadata": {
    "tags": []
   },
   "outputs": [],
   "source": [
    "a + int(d)"
   ]
  },
  {
   "cell_type": "code",
   "execution_count": null,
   "id": "47f13c1d",
   "metadata": {
    "tags": []
   },
   "outputs": [],
   "source": [
    "int(\"5\")"
   ]
  },
  {
   "cell_type": "markdown",
   "id": "42afe2d0-54a3-499b-91c8-38e24f46b8a0",
   "metadata": {},
   "source": [
    "## f-strings\n",
    "\n",
    "Instead of having to manually convert numbers to strings in order to assemble them with other strings, we can resort to f-strings which are defined by simply adding an ```f``` before the opening quote of a regular string:"
   ]
  },
  {
   "cell_type": "code",
   "execution_count": null,
   "id": "7c09db40-9744-452e-90c1-1c1e6c38e699",
   "metadata": {
    "tags": []
   },
   "outputs": [],
   "source": [
    "f\"This is an f-string\""
   ]
  },
  {
   "cell_type": "markdown",
   "id": "12d5f1be-1e6a-4a3b-bf2d-4e1f4bdad0d9",
   "metadata": {},
   "source": [
    "We can now add variables directly in this text by surrounding them with curly brackets:"
   ]
  },
  {
   "cell_type": "code",
   "execution_count": null,
   "id": "878f0760-a54b-4070-9ef6-6cad337f9579",
   "metadata": {
    "tags": []
   },
   "outputs": [],
   "source": [
    "f\"This is an f-string. a's value is {a}. Doubling the value of a gives {2*a}.\""
   ]
  },
  {
   "cell_type": "markdown",
   "id": "23524143-d78f-42a4-8900-0392b8e056b7",
   "metadata": {},
   "source": [
    "As you can see above, f-strings can contain as many variables as needed and curly brackets can contain more than just a variable. We can even execute functions inside them:"
   ]
  },
  {
   "cell_type": "code",
   "execution_count": null,
   "id": "63495e54-2568-40d9-a6d3-ca84e86942a9",
   "metadata": {
    "tags": []
   },
   "outputs": [],
   "source": [
    "f\"The first_name variable contains {first_name.lower().count('r')} r letters.\""
   ]
  },
  {
   "cell_type": "markdown",
   "id": "aa036de2",
   "metadata": {},
   "source": [
    "# Exercise\n",
    "[Marie Curie's](https://en.wikipedia.org/wiki/Marie_Curie) name and birthdate are stored in variables. Concatenate them in one string variable and print it out. The output should be \"Marie Curie, * 7 November 1867\""
   ]
  },
  {
   "cell_type": "code",
   "execution_count": null,
   "id": "3cbf8c1c",
   "metadata": {
    "tags": []
   },
   "outputs": [],
   "source": [
    "first_name = \"Marie\"\n",
    "last_name = \"Curie\"\n",
    "\n",
    "birthday_day = 7\n",
    "birthday_month = \"November\"\n",
    "birthday_year = 1867"
   ]
  },
  {
   "cell_type": "code",
   "execution_count": null,
   "id": "0d9178db-2c7c-4825-b2a3-fb2b3294cda9",
   "metadata": {
    "tags": []
   },
   "outputs": [],
   "source": [
    "f\"{first_name} {last_name}, * {birthday_day} {birthday_month} {birthday_year}\""
   ]
  },
  {
   "cell_type": "code",
   "execution_count": null,
   "id": "afe8dd33-dba1-47f8-89c9-4ab03fce7df7",
   "metadata": {},
   "outputs": [],
   "source": []
  }
 ],
 "metadata": {
  "kernelspec": {
   "display_name": "Python 3 (ipykernel)",
   "language": "python",
   "name": "python3"
  },
  "language_info": {
   "codemirror_mode": {
    "name": "ipython",
    "version": 3
   },
   "file_extension": ".py",
   "mimetype": "text/x-python",
   "name": "python",
   "nbconvert_exporter": "python",
   "pygments_lexer": "ipython3",
   "version": "3.8.18"
  }
 },
 "nbformat": 4,
 "nbformat_minor": 5
}
