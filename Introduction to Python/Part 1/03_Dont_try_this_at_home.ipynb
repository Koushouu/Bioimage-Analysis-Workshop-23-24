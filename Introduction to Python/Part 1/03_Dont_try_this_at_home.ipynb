{
 "cells": [
  {
   "cell_type": "markdown",
   "id": "frank-basement",
   "metadata": {},
   "source": [
    "# Problems when working with Jupyter notebooks\n",
    "You can execute the same cell in Jupyter notebooks multiple times. This may lead to notebooks which make no sense to the reader."
   ]
  },
  {
   "cell_type": "code",
   "execution_count": 8,
   "id": "metallic-classification",
   "metadata": {
    "tags": []
   },
   "outputs": [],
   "source": [
    "a = 5\n",
    "b = 5"
   ]
  },
  {
   "cell_type": "code",
   "execution_count": 9,
   "id": "wired-crowd",
   "metadata": {
    "tags": []
   },
   "outputs": [],
   "source": [
    "a = a + 1"
   ]
  },
  {
   "cell_type": "code",
   "execution_count": 10,
   "id": "shaped-capital",
   "metadata": {
    "tags": []
   },
   "outputs": [
    {
     "data": {
      "text/plain": [
       "11"
      ]
     },
     "execution_count": 10,
     "metadata": {},
     "output_type": "execute_result"
    }
   ],
   "source": [
    "a + b"
   ]
  },
  {
   "cell_type": "markdown",
   "id": "olympic-vienna",
   "metadata": {},
   "source": [
    "You can execute them in the wrong order which leads to the same effect."
   ]
  },
  {
   "cell_type": "code",
   "execution_count": 11,
   "id": "backed-shaft",
   "metadata": {
    "tags": []
   },
   "outputs": [],
   "source": [
    "d = 5"
   ]
  },
  {
   "cell_type": "code",
   "execution_count": 12,
   "id": "military-bedroom",
   "metadata": {
    "tags": []
   },
   "outputs": [],
   "source": [
    "d = 10"
   ]
  },
  {
   "cell_type": "code",
   "execution_count": 13,
   "id": "radical-shakespeare",
   "metadata": {
    "tags": []
   },
   "outputs": [
    {
     "data": {
      "text/plain": [
       "10"
      ]
     },
     "execution_count": 13,
     "metadata": {},
     "output_type": "execute_result"
    }
   ],
   "source": [
    "d"
   ]
  },
  {
   "cell_type": "markdown",
   "id": "persistent-porcelain",
   "metadata": {},
   "source": [
    "You can see that cells were executed in wrong order, repeatedly or not subsequently, by reading the number `In [?]` on the left.\n",
    "\n",
    "![](cell_execution_number.png)\n",
    "\n",
    "Tip: When your notebook is ready, click on menu `Kernel > Restart & Run all` to make sure all cells in the notebook are executed in the right order."
   ]
  },
  {
   "cell_type": "code",
   "execution_count": null,
   "id": "conservative-cyprus",
   "metadata": {},
   "outputs": [],
   "source": []
  }
 ],
 "metadata": {
  "kernelspec": {
   "display_name": "Python 3 (ipykernel)",
   "language": "python",
   "name": "python3"
  },
  "language_info": {
   "codemirror_mode": {
    "name": "ipython",
    "version": 3
   },
   "file_extension": ".py",
   "mimetype": "text/x-python",
   "name": "python",
   "nbconvert_exporter": "python",
   "pygments_lexer": "ipython3",
   "version": "3.9.16"
  }
 },
 "nbformat": 4,
 "nbformat_minor": 5
}
