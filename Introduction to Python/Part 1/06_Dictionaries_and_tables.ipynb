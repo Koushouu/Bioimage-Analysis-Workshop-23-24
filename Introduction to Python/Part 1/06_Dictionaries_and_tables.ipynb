{
 "cells": [
  {
   "cell_type": "markdown",
   "id": "strange-soundtrack",
   "metadata": {},
   "source": [
    "# Dictionaries\n",
    "Dictionaries are data structures that hold key-value pairs, written as `key:value`. \n",
    "\n",
    "See also\n",
    "* [Dictionaries in python](https://www.w3schools.com/python/python_dictionaries.asp)\n",
    "* [Dictionary keys as list](https://stackoverflow.com/questions/16819222/how-to-return-dictionary-keys-as-a-list-in-python)\n",
    "\n",
    "You can define dictionary like this:"
   ]
  },
  {
   "cell_type": "code",
   "execution_count": null,
   "id": "transparent-external",
   "metadata": {
    "tags": []
   },
   "outputs": [],
   "source": [
    "japanese_chinese_dictionary = {'リンゴ':'蘋果', 'バナナ':'香蕉'}"
   ]
  },
  {
   "cell_type": "markdown",
   "id": "premier-address",
   "metadata": {},
   "source": [
    "For readers convenience, consider writing them like this:"
   ]
  },
  {
   "cell_type": "code",
   "execution_count": null,
   "id": "constitutional-civilian",
   "metadata": {
    "tags": []
   },
   "outputs": [],
   "source": [
    "japanese_chinese_dictionary = {\n",
    "    'リンゴ':'蘋果', \n",
    "    'バナナ':'香蕉'\n",
    "}"
   ]
  },
  {
   "cell_type": "code",
   "execution_count": null,
   "id": "fitted-mirror",
   "metadata": {
    "tags": []
   },
   "outputs": [],
   "source": [
    "japanese_chinese_dictionary"
   ]
  },
  {
   "cell_type": "markdown",
   "id": "accepted-inspection",
   "metadata": {},
   "source": [
    "If you want to access a given entry in the dictionary, you can address it using square brackets and the key:"
   ]
  },
  {
   "cell_type": "code",
   "execution_count": null,
   "id": "varying-machine",
   "metadata": {
    "tags": []
   },
   "outputs": [],
   "source": [
    "japanese_chinese_dictionary['リンゴ']"
   ]
  },
  {
   "cell_type": "markdown",
   "id": "secure-seventh",
   "metadata": {},
   "source": [
    "You can add elements to the dictionary:"
   ]
  },
  {
   "cell_type": "code",
   "execution_count": null,
   "id": "aboriginal-shareware",
   "metadata": {
    "tags": []
   },
   "outputs": [],
   "source": [
    "japanese_chinese_dictionary['カボチャ'] = '南瓜'"
   ]
  },
  {
   "cell_type": "code",
   "execution_count": null,
   "id": "motivated-immune",
   "metadata": {
    "tags": []
   },
   "outputs": [],
   "source": [
    "japanese_chinese_dictionary"
   ]
  },
  {
   "cell_type": "markdown",
   "id": "lovely-investment",
   "metadata": {},
   "source": [
    "You can also retrieve a list of all keys in the dictionary:"
   ]
  },
  {
   "cell_type": "code",
   "execution_count": null,
   "id": "certain-devon",
   "metadata": {
    "tags": []
   },
   "outputs": [],
   "source": [
    "keys = list(japanese_chinese_dictionary.keys())"
   ]
  },
  {
   "cell_type": "code",
   "execution_count": null,
   "id": "middle-homeless",
   "metadata": {
    "tags": []
   },
   "outputs": [],
   "source": [
    "keys"
   ]
  },
  {
   "cell_type": "code",
   "execution_count": null,
   "id": "novel-overall",
   "metadata": {
    "tags": []
   },
   "outputs": [],
   "source": [
    "keys[1]"
   ]
  },
  {
   "cell_type": "markdown",
   "id": "modified-mambo",
   "metadata": {},
   "source": [
    "# Tables\n",
    "Tables *can* be expressed as dictionaries with arrays as elements."
   ]
  },
  {
   "cell_type": "code",
   "execution_count": null,
   "id": "acceptable-cornell",
   "metadata": {
    "tags": []
   },
   "outputs": [],
   "source": [
    "measurements_week = {\n",
    "    'Monday':   [2.3, 3.1, 5.6],\n",
    "    'Tuesday':  [1.8, 7.0, 4.3],\n",
    "    'Wednesday':[4.5, 1.5, 3.2],\n",
    "    'Thursday': [1.9, 2.0, 6.4],\n",
    "    'Friday':   [4.4, 2.3, 5.4]\n",
    "}"
   ]
  },
  {
   "cell_type": "code",
   "execution_count": null,
   "id": "expired-ambassador",
   "metadata": {
    "tags": []
   },
   "outputs": [],
   "source": [
    "measurements_week"
   ]
  },
  {
   "cell_type": "code",
   "execution_count": null,
   "id": "permanent-judges",
   "metadata": {
    "tags": []
   },
   "outputs": [],
   "source": [
    "measurements_week['Monday']"
   ]
  },
  {
   "cell_type": "markdown",
   "id": "positive-motel",
   "metadata": {},
   "source": [
    "You can also store variables in such _tables_:"
   ]
  },
  {
   "cell_type": "code",
   "execution_count": null,
   "id": "announced-smart",
   "metadata": {
    "tags": []
   },
   "outputs": [],
   "source": [
    "w1 = 5\n",
    "h1 = 3\n",
    "area1 = w1 * h1\n",
    "\n",
    "w2 = 2\n",
    "h2 = 4\n",
    "area2 = w2 * h2\n",
    "\n",
    "rectangles = {\n",
    "    \"width\": [w1, w2],\n",
    "    \"height\": [h1, h2],\n",
    "    \"area\": [area1, area2]\n",
    "}"
   ]
  },
  {
   "cell_type": "code",
   "execution_count": null,
   "id": "happy-advisory",
   "metadata": {
    "tags": []
   },
   "outputs": [],
   "source": [
    "rectangles"
   ]
  },
  {
   "cell_type": "markdown",
   "id": "alike-leisure",
   "metadata": {},
   "source": [
    "# Exercise\n",
    "You just measured the radius of three circles. Write them into a table and add a column with corresponding circlea area measurements."
   ]
  },
  {
   "cell_type": "code",
   "execution_count": null,
   "id": "distinguished-simulation",
   "metadata": {
    "tags": []
   },
   "outputs": [],
   "source": [
    "r1 = 12\n",
    "r2 = 8\n",
    "r3 = 15"
   ]
  },
  {
   "cell_type": "code",
   "execution_count": null,
   "id": "compound-crawford",
   "metadata": {},
   "outputs": [],
   "source": [
    "import pandas as pd\n",
    "df = pd.DataFrame(measurements_week)"
   ]
  },
  {
   "cell_type": "code",
   "execution_count": null,
   "id": "88255200-8d45-471b-90f2-289930a37907",
   "metadata": {},
   "outputs": [],
   "source": []
  }
 ],
 "metadata": {
  "kernelspec": {
   "display_name": "Python 3 (ipykernel)",
   "language": "python",
   "name": "python3"
  },
  "language_info": {
   "codemirror_mode": {
    "name": "ipython",
    "version": 3
   },
   "file_extension": ".py",
   "mimetype": "text/x-python",
   "name": "python",
   "nbconvert_exporter": "python",
   "pygments_lexer": "ipython3",
   "version": "3.8.18"
  }
 },
 "nbformat": 4,
 "nbformat_minor": 5
}
