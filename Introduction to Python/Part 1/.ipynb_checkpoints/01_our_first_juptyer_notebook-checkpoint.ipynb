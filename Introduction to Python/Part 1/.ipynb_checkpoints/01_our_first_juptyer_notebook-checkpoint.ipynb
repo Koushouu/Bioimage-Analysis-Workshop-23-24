{
 "cells": [
  {
   "cell_type": "markdown",
   "metadata": {
    "slideshow": {
     "slide_type": "slide"
    }
   },
   "source": [
    "# Python code in Jupyter notebooks\n",
    "Python code can be written in \".py\" files, which can be executed from command line. Furthermore, for academic purposes, [Jupyter notebooks](https://jupyter-notebook.readthedocs.io/en/stable/) are often used to document what code does and add additional explanations and links to resources.\n",
    "\n",
    "For an introductory video, watch [this](https://youtu.be/IMrxB8Mq5KU?si=xuoHlKEtCe8bQQif&t=92) from 1:30 to 6:00\n",
    "\n",
    "To write our first small python program, we type in the Jupyter notebook code cell below. You can double click in this cell, change the code and execute it by hitting SHIFT+ENTER:"
   ]
  },
  {
   "cell_type": "code",
   "execution_count": null,
   "metadata": {},
   "outputs": [],
   "source": [
    "# This is a comment\n",
    "print(\"Hello, world!\")"
   ]
  },
  {
   "cell_type": "markdown",
   "metadata": {},
   "source": [
    "* When working with Jupyter notebooks, obviously SHIFT-ENTER is **the** short cut people use all the time. \n",
    "* If you want to \"leave\" a cell without executing it, you can also hit ESCAPE. \n",
    "* You can delete cells by double hitting D.\n",
    "\n",
    "Try it out!"
   ]
  },
  {
   "cell_type": "code",
   "execution_count": null,
   "metadata": {},
   "outputs": [],
   "source": []
  },
  {
   "cell_type": "code",
   "execution_count": null,
   "metadata": {},
   "outputs": [],
   "source": []
  },
  {
   "cell_type": "code",
   "execution_count": null,
   "metadata": {},
   "outputs": [],
   "source": []
  },
  {
   "cell_type": "markdown",
   "metadata": {
    "slideshow": {
     "slide_type": "slide"
    }
   },
   "source": [
    "## Markdown documentation in Jupyter notebooks\n",
    "The strength of Jupyter notebook, as mentioned, is that you can **Code** and **Document** in one notebook. The common langauge for coding in Jupyter notebook is **Python**; and the language for documentation is **Markdown**. \n",
    "\n",
    "Markdown is a coding language for describing the **formating** ~of~ *text*. In order to see the markdown code which describes this text, double click this cell in your Jupyter notebook. Hit SHIFT+ENTER to return to the viewing mode.\n",
    "\n",
    "Below are examples of what you can do with Markdown:\n",
    "\n",
    "* Bullet point\n",
    "* More bullet points\n",
    "  * Deeper bullet points\n",
    "\n",
    "1. List entry\n",
    "2. Another list entry\n",
    "4. More list entries\n",
    "8. [Markdown cheatsheet](https://github.com/adam-p/markdown-here/wiki/Markdown-Cheatsheet)"
   ]
  },
  {
   "cell_type": "markdown",
   "metadata": {},
   "source": [
    "## Add a cell in Jupyter notebooks"
   ]
  },
  {
   "cell_type": "markdown",
   "metadata": {},
   "source": [
    "To add a cell, you can simply double-hit **a** (add a cell above) or double hit **b** (add a cell below)\n",
    "\n",
    "Or you can simply click \"+\" at the top of the panel. Try it out!"
   ]
  },
  {
   "cell_type": "code",
   "execution_count": null,
   "metadata": {},
   "outputs": [],
   "source": []
  },
  {
   "cell_type": "markdown",
   "metadata": {},
   "source": [
    "To switch between a **Code** cell and **Markdown** cell, you can click on a cell and\n",
    "- double-hit **m** to make it a **M**arkdown cell, \n",
    "- double-hit **y** to make it a P**y**thon code cell\n",
    "\n",
    "Try it out!"
   ]
  },
  {
   "cell_type": "markdown",
   "metadata": {},
   "source": [
    "# Exercise\n",
    "Add a new python code cell below and use the `print` command to print your name."
   ]
  }
 ],
 "metadata": {
  "kernelspec": {
   "display_name": "Python 3 (ipykernel)",
   "language": "python",
   "name": "python3"
  },
  "language_info": {
   "codemirror_mode": {
    "name": "ipython",
    "version": 3
   },
   "file_extension": ".py",
   "mimetype": "text/x-python",
   "name": "python",
   "nbconvert_exporter": "python",
   "pygments_lexer": "ipython3",
   "version": "3.8.18"
  }
 },
 "nbformat": 4,
 "nbformat_minor": 4
}
