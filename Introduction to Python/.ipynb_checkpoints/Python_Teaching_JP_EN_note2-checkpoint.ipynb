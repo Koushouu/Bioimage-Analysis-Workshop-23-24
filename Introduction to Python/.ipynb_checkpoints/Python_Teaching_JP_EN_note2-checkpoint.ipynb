{
 "cells": [
  {
   "cell_type": "markdown",
   "id": "3ae15903-aa1c-4724-bfd4-54e9a705ec7f",
   "metadata": {},
   "source": [
    "# 画像解析によく使われるモジュール\n",
    "# Common image processing modules\n",
    "\n",
    "ここでは画像解析/データーサイエンスによく使われるモジュール、関数などを紹介します\n",
    "\n",
    "Here, we are going to introduce modules and functions that are often used in image analysis and data science."
   ]
  },
  {
   "cell_type": "markdown",
   "id": "bb979a0d-f74f-4d74-b4c7-dbd8139d0078",
   "metadata": {},
   "source": [
    "## Numpy: 数列の計算\n",
    "## Numpy: Calculation of arrays\n",
    "\n",
    "数列(array)、マトリックス計算によく使われます。 The Numpy module is often used in calculations of arrays and matrices.\n",
    "\n",
    "画像は数字のマトリックスなので、よくnumpyで画像処理を行います。 Image is actually a matrix of numbers (intensity values). Therefore we will use Numpy."
   ]
  },
  {
   "cell_type": "code",
   "execution_count": null,
   "id": "787f2534-c4b7-4262-a8fe-2cdb2f896c7e",
   "metadata": {},
   "outputs": [],
   "source": [
    "import numpy as np\n",
    "\n",
    "k_list = [1, 2, 3, 4]\n",
    "k_np_list = np.array(k_list)\n",
    "\n",
    "# 普通のlistとnumpyのlist(array)の差別  Normal list/array is different to numpy's list/array.\n",
    "print(k_list*2)\n",
    "print(k_np_list*2)"
   ]
  },
  {
   "cell_type": "code",
   "execution_count": null,
   "id": "ad11b95d-56fd-479d-818f-c3ca3fdc19e8",
   "metadata": {},
   "outputs": [],
   "source": [
    "q_list = [5, 6, 7, 8]\n",
    "q_np_list = np.array(q_list)\n",
    "\n",
    "# 普通のlistとnumpyのlist(array)の差別  Normal list/array is different to numpy's list/array.\n",
    "print(k_list + q_list)\n",
    "print(k_np_list + q_np_list)"
   ]
  },
  {
   "cell_type": "markdown",
   "id": "5494ba24-5576-4fc0-9ae7-d0863e17e29d",
   "metadata": {},
   "source": [
    "### numpy maskの作成\n",
    "### Creating a numpy mask"
   ]
  },
  {
   "cell_type": "code",
   "execution_count": null,
   "id": "b492f16a-d565-4fbf-85bb-fbd15e7f88fd",
   "metadata": {},
   "outputs": [],
   "source": [
    "j = np.random.rand(10)\n",
    "j"
   ]
  },
  {
   "cell_type": "code",
   "execution_count": null,
   "id": "98f4d302-60a3-4d58-8fc3-3486ae87af88",
   "metadata": {},
   "outputs": [],
   "source": [
    "j_large = j > 0.5\n",
    "j_large"
   ]
  },
  {
   "cell_type": "code",
   "execution_count": null,
   "id": "98843650-2eae-4fcc-9493-e34986e6498c",
   "metadata": {},
   "outputs": [],
   "source": [
    "sum(j_large)"
   ]
  },
  {
   "cell_type": "code",
   "execution_count": null,
   "id": "e691a23d-fee4-4c6c-9fce-d43f752b4266",
   "metadata": {},
   "outputs": [],
   "source": [
    "j[j_large]"
   ]
  },
  {
   "cell_type": "markdown",
   "id": "13afc109-e5c8-41d4-8797-11de8c8365cb",
   "metadata": {},
   "source": [
    "### unique elementの捜索\n",
    "### Searching unique element"
   ]
  },
  {
   "cell_type": "code",
   "execution_count": null,
   "id": "e907f323-97e3-4fe7-8489-6c25024b3ec2",
   "metadata": {},
   "outputs": [],
   "source": [
    "#　練習8.1\n",
    "# numpy.random.randint を使ってランダムにサイズ100の1から10が含まれてるarrayを作りましょう\n",
    "\n",
    "# Practice 8.1:\n",
    "# Use \"numpy.random.randint\" to generate an array of size 100 that contains random numbers between 1 and 10\n",
    "\n",
    "# sample_array = ..."
   ]
  },
  {
   "cell_type": "code",
   "execution_count": null,
   "id": "1438eb00-da90-48ab-a3a8-30f17bf0be6c",
   "metadata": {},
   "outputs": [],
   "source": [
    "#　練習8.2\n",
    "# np.unique　で前作った数列中のユニークelementを探しましょう\n",
    "\n",
    "# Practice 8.2:\n",
    "# Use \"np.unique\" to find out unique elements of the random numbers array from the last exercise. The \"unique\" is like a dictionary of the input array elements.\n",
    "\n",
    "\n",
    "# unique_element = ..."
   ]
  },
  {
   "cell_type": "code",
   "execution_count": null,
   "id": "9f3b0dfd-a5ee-4a6d-bd38-d774a4f76164",
   "metadata": {},
   "outputs": [],
   "source": [
    "#　練習8.3\n",
    "# 各unique elementの数を数えて、結果をprintしましょう\n",
    "# Hint: use 'for ... in ...', 'sum()'\n",
    "\n",
    "# Practice 8.3:\n",
    "# Use 'for ... in ...', 'sum()' to print how many times each unique elements appears in the original array in 8.1.\n"
   ]
  },
  {
   "cell_type": "markdown",
   "id": "b9854aaf-f211-4081-8595-b95776ee3a0a",
   "metadata": {},
   "source": [
    "## skimage: 画像の読み取り、保存\n",
    "## Skimage: reading and saving of an image"
   ]
  },
  {
   "cell_type": "code",
   "execution_count": null,
   "id": "ab8e1d95-55eb-4bb8-98ed-733925b11018",
   "metadata": {},
   "outputs": [],
   "source": [
    "# 前と同じように'skimage.io'から'imread'と'imshow'をimportしましょう\n",
    "# Only import 'imread', 'imshow' from 'skimage.io'. Because loading the whole library of skimage takes time and the most of its functions are useless right now. \n",
    "from skimage.io import imread"
   ]
  },
  {
   "cell_type": "code",
   "execution_count": null,
   "id": "0542b164-dc11-473d-b7f7-456eebab2de6",
   "metadata": {},
   "outputs": [],
   "source": [
    "# Learn about absolute and relative path\n",
    "# Relative\n",
    "img = imread(r\"./example_images/blobs.tif\") \n",
    "# Absolute (P.S. This path might not work for you)\n",
    "# img = imread(r\"C:\\Users\\OWNER\\Documents/2024_Bioimage_Analysis_Workshop/Bioimage-Analysis-Workshop-23-24/Introduction to Python Update/example_images/blobs.tif\")\n",
    "# DropBox -> Google Colab\n",
    "# !wget -O blobs.tif https://www.dropbox.com/scl/fi/t1g9bxigxjy5kk3okg4dn/blobs.tif?rlkey=j40nein101pg2grf7xqnh82m0&dl=0\n",
    "# img = imread(r\"blobs.tif\")"
   ]
  },
  {
   "cell_type": "code",
   "execution_count": null,
   "id": "4e356e2a-a104-497d-95e4-3f6b4bb2c2fb",
   "metadata": {},
   "outputs": [],
   "source": [
    "img.dtype"
   ]
  },
  {
   "cell_type": "code",
   "execution_count": null,
   "id": "08326ec2-411a-4b63-b3fc-8c3fb4156ab4",
   "metadata": {},
   "outputs": [],
   "source": [
    "img.shape"
   ]
  },
  {
   "cell_type": "markdown",
   "id": "165151ba-c1c6-4a6c-af36-4f40cfb3c213",
   "metadata": {},
   "source": [
    "We will learn more about skimage for image processing tomorrow."
   ]
  },
  {
   "cell_type": "markdown",
   "id": "fbdb2237-91a4-4b40-bf53-eac83f18d994",
   "metadata": {},
   "source": [
    "## matplotlib for plotting"
   ]
  },
  {
   "cell_type": "code",
   "execution_count": null,
   "id": "214d410d-b6c6-4e23-8abd-1bbf7cba8a51",
   "metadata": {},
   "outputs": [],
   "source": [
    "import matplotlib.pyplot as plt\n",
    "plt.figure(figsize=(4,4))\n",
    "plt.imshow(img, interpolation='none',cmap = 'gray')"
   ]
  },
  {
   "cell_type": "code",
   "execution_count": null,
   "id": "4c72dd40-1528-4b77-84b7-25ca26f41da2",
   "metadata": {},
   "outputs": [],
   "source": [
    "# トリミング\n",
    "# trimming\n",
    "cropped_img = img[0:128, 0:128]\n",
    "plt.figure(figsize=(4,4))\n",
    "plt.imshow(cropped_img, interpolation='none',cmap = 'gray')"
   ]
  },
  {
   "cell_type": "code",
   "execution_count": null,
   "id": "5360b87f-510e-424d-812e-b1b5bf661871",
   "metadata": {},
   "outputs": [],
   "source": [
    "# 簡単なしきい値計算: さっきのnumpy mask計算と同じコンセプトです\n",
    "# Same concept to the numpy mask before: Thresholding\n",
    "plt.figure(figsize=(4,4))\n",
    "plt.imshow(img>100, interpolation='none',cmap = 'gray')"
   ]
  },
  {
   "cell_type": "code",
   "execution_count": null,
   "id": "5fbf7fb5-9853-40a7-b3a4-e45ebd73df20",
   "metadata": {},
   "outputs": [],
   "source": [
    "plt.figure(figsize=(4,2))\n",
    "plt.plot(np.random.randint(1,20,100))"
   ]
  },
  {
   "cell_type": "code",
   "execution_count": null,
   "id": "8a7f0cea-5a20-48e9-a496-35f95a40d655",
   "metadata": {},
   "outputs": [],
   "source": [
    "plt.figure(figsize=(4,2))\n",
    "plt.hist(img.flatten())\n",
    "plt.xlabel('Pixel Values')\n",
    "plt.ylabel('Pixel Count')\n",
    "plt.title('Pixel Intensity Distribution')"
   ]
  },
  {
   "cell_type": "markdown",
   "id": "7c644622-14bc-4729-9b4b-6afa8ef9db16",
   "metadata": {},
   "source": [
    "## Dictionary (辞書オブジェクト) と pandas\n",
    "## Dictionary object and Pandas\n",
    "\n",
    "測定の結果をdictionary変数でテーブルフォーマットで操作できます\n",
    "\n",
    "Pandas is a data analysis and manipulation tool. Dictionaries are used to store data values in the table format. A Pandas DataFrame is a 2 dimensional data structure.\n",
    "\n",
    "The first colume is called 'Key' like keywords for searching. The second colume stores the 'Values'."
   ]
  },
  {
   "cell_type": "code",
   "execution_count": null,
   "id": "9e05340f-2daf-4be2-951d-f4298ba901e5",
   "metadata": {},
   "outputs": [],
   "source": [
    "measurements_week = {\n",
    "    'Monday':   [2.3, 3.1, 5.6],\n",
    "    'Tuesday':  [1.8, 7.0, 4.3],\n",
    "    'Wednesday':[4.5, 1.5, 3.2],\n",
    "    'Thursday': [1.9, 2.0, 6.4],\n",
    "    'Friday':   [4.4, 2.3, 5.4]\n",
    "}"
   ]
  },
  {
   "cell_type": "markdown",
   "id": "21a26b6d-bc94-40a5-88c5-66b2004796e2",
   "metadata": {},
   "source": [
    "変数テーブルの作成後、pandasで便利なデーターマネージメントができます\n",
    "\n",
    "After the dictionary-table is defined, you can use Pandas to manage the data."
   ]
  },
  {
   "cell_type": "code",
   "execution_count": null,
   "id": "7c8e63b4-f17f-46f9-bb99-9585dff17253",
   "metadata": {},
   "outputs": [],
   "source": [
    "import pandas as pd\n",
    "\n",
    "m = pd.DataFrame(measurements_week)"
   ]
  },
  {
   "cell_type": "code",
   "execution_count": null,
   "id": "230d01a9-f746-448b-ba3e-01d8050210f9",
   "metadata": {},
   "outputs": [],
   "source": [
    "m"
   ]
  },
  {
   "cell_type": "code",
   "execution_count": null,
   "id": "83e2a23c-569a-4ccd-98df-5952f68662ab",
   "metadata": {},
   "outputs": [],
   "source": [
    "m.describe()"
   ]
  }
 ],
 "metadata": {
  "kernelspec": {
   "display_name": "Python 3 (ipykernel)",
   "language": "python",
   "name": "python3"
  },
  "language_info": {
   "codemirror_mode": {
    "name": "ipython",
    "version": 3
   },
   "file_extension": ".py",
   "mimetype": "text/x-python",
   "name": "python",
   "nbconvert_exporter": "python",
   "pygments_lexer": "ipython3",
   "version": "3.8.18"
  }
 },
 "nbformat": 4,
 "nbformat_minor": 5
}
