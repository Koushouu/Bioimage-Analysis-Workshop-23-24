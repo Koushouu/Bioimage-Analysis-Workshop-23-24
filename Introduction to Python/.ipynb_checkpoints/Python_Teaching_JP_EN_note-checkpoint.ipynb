{
 "cells": [
  {
   "cell_type": "markdown",
   "id": "9e8238f1-ad2b-406a-9660-12bb949fa20b",
   "metadata": {},
   "source": [
    "ではさっそく、Pythonのコーディングに移っていきたいと思います。\n",
    "\n",
    "Jupyterのノートブックを広げてください。\n",
    "\n",
    "最初に、コードブロック・セルを作り、Hello World を書いてみましょう\n",
    "\n",
    "Let start with the Python coding. Open the Jupyter notebook/Juppyter lab.\n",
    "\n",
    "First, make an empty code block cell by pressing the 'cross' ＋ on one of the buttons above.\n",
    "\n",
    "There, try to write a code that prints out \"Hello World\"."
   ]
  },
  {
   "cell_type": "code",
   "execution_count": null,
   "id": "d70fc53c-fe51-4a70-96f2-3492fc8f4279",
   "metadata": {},
   "outputs": [],
   "source": [
    "print('Hello world')"
   ]
  },
  {
   "cell_type": "markdown",
   "id": "07b647db-24fd-497b-98f0-8802efb8a066",
   "metadata": {},
   "source": [
    "コードの実行は、上のバーの▶印をクリックするか、```Shift```＋```Enter```で、できます\n",
    "\n",
    "簡単に```print```で```Hello World```がアウトプットされました\n",
    "\n",
    "ショートカットはこれ以外いくつもあります。よく使われるショートカット:\n",
    "- ダブル　'd' で Delete\n",
    "- 'a' で下にセルを、'b'で上にセルを\n",
    "- ダブル 'm' でMarkdown, ダブル 'y' で Python Code\n",
    "\n",
    "To run the code, press \"run\", a small triangle ▶ on one of the buttons above. Alternatively you can also press ```Shift```＋```Enter```. You will see \"Hello World\" in the output cell.\n",
    "\n",
    "There are many hotkeys beside this one. Learning them can speed up your coding. Frequently used ones are\n",
    "- 'd' : Delete\n",
    "- 'a' : insert an empty cell below the current cell.\n",
    "- 'b' : insert an empty cell above the current cell.\n",
    "- 'm' : convert to a markdown cell (text).\n",
    "- 'y' : convert to python code."
   ]
  },
  {
   "cell_type": "markdown",
   "id": "903f97f8-ee78-40ff-bb48-fd46809e7a6b",
   "metadata": {},
   "source": [
    "さっき言ったように、Jupyterでは、コードと説明のドキュメンテーション、二つとも書ける仕組みになっています\n",
    "\n",
    "これは、セルで二回'm'をタップするか、上のバーの'Markdown'を選ぶにより、できます\n",
    "\n",
    "MarkdownはJupyterドキュメンテーションのコーディング言語のようなものです\n",
    "\n",
    "As mentioned before, you can write the documentation beside your code.\n",
    "\n",
    "Press 'm' twice or select 'Markdown' button to convert a cell into a markdown cell, where you can write your explanation to your code,\n",
    "\n",
    "or even embed images, videos and equations."
   ]
  },
  {
   "cell_type": "markdown",
   "id": "c52e0f52-caea-420a-86e2-8c36d34afda8",
   "metadata": {},
   "source": [
    "## Python の基礎\n",
    "\n",
    "### Markdownの練習\n",
    "\n",
    "- Point 1\n",
    "- Point 2\n",
    "    - Point 2.2\n"
   ]
  },
  {
   "cell_type": "markdown",
   "id": "b0934b1b-bf6e-486f-be45-164f04b3447f",
   "metadata": {},
   "source": [
    "上のように、#により、タイトル、サブタイトルなどが作れます\n",
    "\n",
    "これによって、目次のようなものが作れます(目次アクセス:左バー)\n",
    "\n",
    "'-'で、リストが作れます。\n",
    "\n",
    "このセクションにタイトルをつけましょう\n",
    "\n",
    "では、次にPythonで、かんたんな数学計算をしてみましょう. \n",
    "\n",
    "(double click the cell above to edit it, press 'run' to convert back into a markdonw cell.)\n",
    "\n",
    "Like the cell above, you can use '#' to make titles and subtitles  and '-' to make bullet points.\n",
    "\n",
    "(IMO this part is not important to beginners as long as you know how to run the code)\n"
   ]
  },
  {
   "cell_type": "markdown",
   "id": "ca10d541-939a-4792-9915-a9423939f6ed",
   "metadata": {},
   "source": [
    "# Pythonでの数学計算\n",
    "\n",
    "# Mathmatical calculations using Python\n",
    "\n",
    "地味な内容ですが、数字を使った計算は誰でもやり方を知っていますから、実際にPythonを動かしてPythonの機能を理解するには、とても便利なのです。\n",
    "\n",
    "ここでは、単純な算数を通じて、変数 や 関数 などの、プログラミングでもっとも基礎的で重要な知識を学びます。\n",
    "\n",
    "ですので、ここのサンプルを実際に入力して、結果を確認してください\n",
    "\n",
    "Although everyone knows how to do basic math using calculators, learning how to use and understand Python will make your life easier.\n",
    "\n",
    "Here we are going to learn the important concepts of 'variable' and 'function' in the basic programming.\n",
    "\n",
    "To see how a calculation is done in Python, please run the examples here and check the output."
   ]
  },
  {
   "cell_type": "code",
   "execution_count": null,
   "id": "8f714ef0-6fe5-4976-a9ff-d7abf734e79f",
   "metadata": {},
   "outputs": [],
   "source": [
    "1+2"
   ]
  },
  {
   "cell_type": "code",
   "execution_count": null,
   "id": "d4a5250a-05ae-482f-a038-f10b86b08a94",
   "metadata": {
    "jp-MarkdownHeadingCollapsed": true
   },
   "outputs": [],
   "source": [
    "# 変数の作成\n",
    "# Defining variables\n",
    "a = 1\n",
    "b = 2\n",
    "# 変数での計算\n",
    "# calculate the variables\n",
    "c = a + b"
   ]
  },
  {
   "cell_type": "code",
   "execution_count": null,
   "id": "72dcc912-d6be-43b6-aad5-f3d78673d470",
   "metadata": {},
   "outputs": [],
   "source": [
    "c"
   ]
  },
  {
   "cell_type": "code",
   "execution_count": null,
   "id": "60dfe393-8d87-4486-b20c-fba0c5214711",
   "metadata": {},
   "outputs": [],
   "source": [
    "# ここでStringの紹介\n",
    "# 'String' in Python is a text format.\n",
    "print(\"The area is\", a)\n",
    "# それか\n",
    "# And then...\n",
    "print(a ,\"plus\", b ,\"is\", c)\n",
    "# 少しバラバラになりますので f-String も使えます\n",
    "# The above example could get a bit messy. The modern way is to use the 'f-String':\n",
    "print(f\"{a} plus {b} is {c}\")"
   ]
  },
  {
   "cell_type": "code",
   "execution_count": null,
   "id": "9348b488-d89c-45a5-b6f5-91963093896d",
   "metadata": {},
   "outputs": [],
   "source": [
    "# その他の算数\n",
    "# Other calculations\n",
    "d = 6\n",
    "e = 7\n",
    "f = a * d\n",
    "g = f / e\n",
    "h = 1 + g"
   ]
  },
  {
   "cell_type": "code",
   "execution_count": null,
   "id": "5df7450b-183f-47dc-ae4f-2787d4eba4bc",
   "metadata": {},
   "outputs": [],
   "source": [
    "h"
   ]
  },
  {
   "cell_type": "code",
   "execution_count": null,
   "id": "e71e14a8-371c-4cb5-8cc1-94c64886f952",
   "metadata": {},
   "outputs": [],
   "source": [
    "# Power (JP: 乗, TW: 次方)\n",
    "print(\"3 to the power 2 is\", 3**2)\n",
    "\n",
    "# Absolute value (絶対値)\n",
    "print(\"Absolute value of -8 is\", abs(-8))\n",
    "\n",
    "# Round 切り捨て (Try with 4.5, 4.55! Its not entirely 四捨五入 here)\n",
    "n = 4.3\n",
    "print(f\"round ({n}) = {round(n)}\")"
   ]
  },
  {
   "cell_type": "markdown",
   "id": "6d6b08b0-d770-4ea2-886d-e976eddb8480",
   "metadata": {},
   "source": [
    "ここまでのコードは短くて簡単でしたが、コードが長くなると説明のコメントを書きたくなります。\n",
    "\n",
    "それはコードで```#```で達成できます　(上)\n",
    "\n",
    "プログラミングの世界には、「明日の自分は他人」という格言があります。プログラムを書いたときにはよくわかっていることでも、その翌日にはすっかり忘れてしまっているというのはよくあることです。自分のためにも、しっかりとコメントを書いておくようにしましょう。\n",
    "\n",
    "平方根の計算は```**(1/2)```でもできますが、Pythonの```math```libraryの```sqrt```を使うと便利です。\n",
    "\n",
    "ここでは、Python libraryの呼び方、 ```import```を習います。\n",
    "\n",
    "Until now, the code examples are easy. Long code may need longer explanationary comments.\n",
    "\n",
    "To write comments, use ```#``` before your text.\n",
    "\n",
    "Keep in mind that to be a good programmer, you also have to write good understandable comments not only for yourself to memorizing, but also for others. \n",
    "\n",
    "Next thing you will learn is the Python library. It contains useful functions, for example ```sqrt``` to replace ```**(1/2)```.\n",
    "\n",
    "The function ```sqrt``` can be used in the code by importing ```math``` library."
   ]
  },
  {
   "cell_type": "markdown",
   "id": "11360518-7415-466e-8b3b-8e3c89193d83",
   "metadata": {},
   "source": [
    "# Import について\n",
    "# About 'Import' in Python\n",
    "Pythonはとても多機能なプログラミング言語で、いろいろな機能をもった 関数 を、簡単につかえるように用意してくれています。その機能の数はあまりにも多いので、使いやすいように目的や種類ごとに分類して提供されます。こういった、Pythonが機能を分類する単位を、モジュール といいます。\n",
    "\n",
    "たとえば後で習うモジュール \n",
    "- numpy: 数列の計算、簡単な統計解析\n",
    "- skimage: 画像の読み取り、処理\n",
    "- pandas: csv file の読み取り、処理\n",
    "- matplotlib: 図の作成\n",
    "\n",
    "では、ここでは mathという名前のモジュールを使って平方根を計算してみましょう\n",
    "\n",
    "Python is a versatile programming language with wide range of libraries meant for ease of use. They can be categorized into different groups called \"modules\" depend on their purpose. \n",
    "\n",
    "List of common modules:\n",
    "\n",
    "'numpy' is a gold standard mathmatical and statistical computation kit\n",
    "\n",
    "'scipy' provides more advanced algorithms for scientific computation.\n",
    "\n",
    "'matplotlib' is meant for plotting figures and data visualizations.\n",
    "\n",
    "'skimage' for image processing.\n",
    "\n",
    "'pandas' provides functions to deal with csv files.\n",
    "\n",
    "'os' provides useful functions for communications to your PC system.\n",
    "\n",
    "'TensorFlow' and 'PyTorch' are two common machine learning kits.\n",
    "\n",
    "The example below uses the ```math``` module to compute the square root."
   ]
  },
  {
   "cell_type": "code",
   "execution_count": null,
   "id": "74c333ab-ec42-49a2-9608-9a02818bc0b5",
   "metadata": {},
   "outputs": [],
   "source": [
    "import math\n",
    "\n",
    "# モジュールをインポートしたら、モジュール名.関数名() の形式で、そのモジュールの関数を使えるようになります\n",
    "# module has to be imported beforehand. Usually they are written on top of a code. The functions inside can be called by writing 'math.___'\n",
    "\n",
    "math.sqrt(9)\n",
    "\n",
    "from math import sqrt\n",
    "sqrt(9)\n",
    "\n",
    "import math as mathematics\n",
    "mathematics.sqrt(9)\n",
    "\n",
    "from math import sqrt as square_root\n",
    "square_root(9)"
   ]
  },
  {
   "cell_type": "code",
   "execution_count": null,
   "id": "7af1b0f9-599c-40a4-830c-465dfd6d2a01",
   "metadata": {},
   "outputs": [],
   "source": [
    "# 練習1：(x1, y1), (x2, y2)の距離を計算しましょう.\n",
    "# exercise: calculate the Euclidean distance in cartesian coordinates between two points (x1, y1), (x2, y2). Hint d(x1,y1,x2,y2) = sqrt((x1-x2)^2+(y1-y2)^2)\n",
    "x1 = 5\n",
    "y1 = 3\n",
    "\n",
    "x2 = 8\n",
    "y2 = 11\n",
    "\n",
    "# dist = ..."
   ]
  },
  {
   "cell_type": "code",
   "execution_count": null,
   "id": "983910e9-cb9f-4314-8f06-e96344b199e5",
   "metadata": {},
   "outputs": [],
   "source": [
    "# 他の例\n",
    "# Another example from trigonometry\n",
    "math.cos(3.14)"
   ]
  },
  {
   "cell_type": "markdown",
   "id": "71d8e1f5-8cd5-4036-9535-58ea270edfde",
   "metadata": {},
   "source": [
    "Pythonには大変たくさんのモジュールがあるため、普段は使う分だけ覚えれば大丈夫です。僕なら、いつも使うときだけ説明書を見るか、Googleします。\n",
    "\n",
    "例えば、python math: https://docs.python.org/3/library/math.html\n",
    "\n",
    "Usually it is impossible to memorize all modules and functions. So for me, I only search for the functions that I need for a certain purpose in Google.\n",
    "\n",
    "For example, documentation for the library 'python math' can be found in: https://docs.python.org/3/library/math.html"
   ]
  },
  {
   "cell_type": "markdown",
   "id": "9ed824c1-a119-4e28-99ff-c190da2d67a6",
   "metadata": {},
   "source": [
    "続いて、注意してほしいJupyterの'落とし穴'について話しましょう\n",
    "\n",
    "Next, you will learn some common pitfalls in Jupyter."
   ]
  },
  {
   "cell_type": "markdown",
   "id": "51c9f37a-42be-4fbb-aa66-5534f953e66e",
   "metadata": {},
   "source": [
    "# Jupyterの'落とし穴'\n",
    "# Pitfalls in Jupyter"
   ]
  },
  {
   "cell_type": "code",
   "execution_count": null,
   "id": "dc3e16a2-5544-4972-8d77-a14cb629bb10",
   "metadata": {},
   "outputs": [],
   "source": [
    "a = 5\n",
    "b = 5"
   ]
  },
  {
   "cell_type": "code",
   "execution_count": null,
   "id": "0a307dd8-8eb6-4185-8488-0bcc5a583bd3",
   "metadata": {},
   "outputs": [],
   "source": [
    "a = a + 1"
   ]
  },
  {
   "cell_type": "code",
   "execution_count": null,
   "id": "8f245a06-6362-4a36-ab07-a51b714764e0",
   "metadata": {},
   "outputs": [],
   "source": [
    "a + b"
   ]
  },
  {
   "cell_type": "markdown",
   "id": "33a9cd24-1960-4d47-ae36-8db3a0ccf865",
   "metadata": {},
   "source": [
    "コードの実行の順番によって、違う結果が出てくる可能性があります。\n",
    "\n",
    "これを防ぐために、Jupyterベックグランド(Kernel)のクリンアップを常に行いましょう。\n",
    "\n",
    "(Kernal > Restart Kernel)\n",
    "\n",
    "Depending on the order the operation is performed, the result might be different.\n",
    "\n",
    "To prevent this, the refresh button \"restart the kernel\" on the top bar can be used."
   ]
  },
  {
   "cell_type": "code",
   "execution_count": null,
   "id": "074a8ead-36c4-4cdf-83d9-a4b5fef9f508",
   "metadata": {},
   "outputs": [],
   "source": [
    "d = 5"
   ]
  },
  {
   "cell_type": "code",
   "execution_count": null,
   "id": "d6522ed6-1f39-48e4-b49d-e8585936bbd1",
   "metadata": {},
   "outputs": [],
   "source": [
    "d = 10"
   ]
  },
  {
   "cell_type": "code",
   "execution_count": null,
   "id": "485e3913-660d-4343-a3bb-8b9900a4d840",
   "metadata": {},
   "outputs": [],
   "source": [
    "d"
   ]
  },
  {
   "cell_type": "markdown",
   "id": "a8759bce-7aa5-4722-a84f-f9504f9e0748",
   "metadata": {},
   "source": [
    "次にPythonのデータタイプについて話しましょう\n",
    "\n",
    "Next is the introductio to Python data types."
   ]
  },
  {
   "cell_type": "markdown",
   "id": "aed94b01-3456-4784-8daf-d13b6ac3cee2",
   "metadata": {},
   "source": [
    "# Pythonのデータタイプ\n",
    "# Python data types"
   ]
  },
  {
   "cell_type": "code",
   "execution_count": null,
   "id": "7d57863a-f16a-4add-8a40-8f4a1325546f",
   "metadata": {},
   "outputs": [],
   "source": [
    "# int: integer (整数)\n",
    "a = 5\n",
    "type(a)"
   ]
  },
  {
   "cell_type": "markdown",
   "id": "8e95d92c-2fb3-41a0-b655-d5e3cdc112f6",
   "metadata": {},
   "source": [
    "Pythonでは、実数は 浮動小数点数(ふどうしょうすうてんすう, floating point number) という形式で、 float型 と呼ばれます\n",
    "\n",
    "In Python, real number with decimal number is called 'float'. Like '427.135424'."
   ]
  },
  {
   "cell_type": "code",
   "execution_count": null,
   "id": "90de97b7-55b4-4b23-be0b-fbc334913c1d",
   "metadata": {},
   "outputs": [],
   "source": [
    "# float\n",
    "b = 3.5\n",
    "type(b)"
   ]
  },
  {
   "cell_type": "code",
   "execution_count": null,
   "id": "0b4ef465-c1e3-4d59-a47d-5135a4ca2754",
   "metadata": {},
   "outputs": [],
   "source": [
    "d = a + b\n",
    "type(d)"
   ]
  },
  {
   "cell_type": "code",
   "execution_count": null,
   "id": "9266ee4a-7663-40ce-8e66-5b76630c7765",
   "metadata": {},
   "outputs": [],
   "source": [
    "# str: string (文字列) (text data type)\n",
    "c = \"Kyoto\"\n",
    "type(c)"
   ]
  },
  {
   "cell_type": "code",
   "execution_count": null,
   "id": "0858e718-ba15-4273-8137-4ae804953d89",
   "metadata": {},
   "outputs": [],
   "source": [
    "# String　同氏の計算 -> 追加 (Addition. Yes, you can add strings to make a sentence!)\n",
    "name = \"Kou\"\n",
    "txt = \"my name is \" + name + \", nice to meet you!\"\n",
    "txt"
   ]
  },
  {
   "cell_type": "markdown",
   "id": "764794b6-f122-41bb-b624-e088f1ac4c37",
   "metadata": {},
   "source": [
    "## String と int/floatの計算\n",
    "## Calculation using string and int/float"
   ]
  },
  {
   "cell_type": "code",
   "execution_count": null,
   "id": "4ee2bfbe-b089-47b5-b4ad-b093dca8ada2",
   "metadata": {},
   "outputs": [],
   "source": [
    "# int/ float と　str　を直接計算するとエラーが出ます\n",
    "# You cannot mix string and int/float in an operation.\n",
    "e = a + c"
   ]
  },
  {
   "cell_type": "code",
   "execution_count": null,
   "id": "e1ab8a24-ede8-400c-be86-da1947b58995",
   "metadata": {},
   "outputs": [],
   "source": [
    "# int/ float を str() で string に変えられましたら、'+'で追加ができます\n",
    "# The int/ float data type can be converted to string by str().\n",
    "e = str(a) + c\n",
    "e"
   ]
  },
  {
   "cell_type": "markdown",
   "id": "36b82a69-b351-43ac-89ef-9b60fed90bc9",
   "metadata": {},
   "source": [
    "## f-String"
   ]
  },
  {
   "cell_type": "code",
   "execution_count": null,
   "id": "eeee7bc7-981d-4ed0-8048-6b19f6507ffd",
   "metadata": {},
   "outputs": [],
   "source": [
    "# 便利なStringの使い方です\n",
    "# Convenient way to embed strings\n",
    "name = \"Kou\"\n",
    "txt = f\"my name is {name}, nice to meet you!\"\n",
    "txt"
   ]
  },
  {
   "cell_type": "code",
   "execution_count": null,
   "id": "7ca827ee-573c-4f26-89ef-ad71051021b9",
   "metadata": {},
   "outputs": [],
   "source": [
    "r = 5\n",
    "print(f\"{r} square is {r**2}\")"
   ]
  },
  {
   "cell_type": "code",
   "execution_count": null,
   "id": "ecf0fbf5-c3cc-4d46-9f1e-f19691953e74",
   "metadata": {},
   "outputs": [],
   "source": [
    "# 練習2: 以下の変数で　\"徳川家康 は 1543年1月31日に生まれました\"とプリントできますか？\n",
    "# Practice 2: Using the following variables, print out \"徳川家康 is born in 1543.1.31.\". The displayed result should depend on the variables (f-String).\n",
    "first_name = \"家康\"\n",
    "last_name = \"徳川\"\n",
    "\n",
    "birthday_day = 31\n",
    "birthday_month = 1\n",
    "birthday_year = 1543\n",
    "\n",
    "# msg = f'..."
   ]
  },
  {
   "cell_type": "markdown",
   "id": "f62de972-0153-419b-ba69-a075316f9ed1",
   "metadata": {},
   "source": [
    "PythonではStringはListでもあります。次にPython listについて話しましょう\n",
    "\n",
    "Next we will introduce Python 'List'."
   ]
  },
  {
   "cell_type": "markdown",
   "id": "950cd7e4-dc9c-45a7-bc87-d4e7f835b4b6",
   "metadata": {},
   "source": [
    "# Python list"
   ]
  },
  {
   "cell_type": "code",
   "execution_count": null,
   "id": "48b68183-43a2-43e7-8bb7-4f5c6c71ce45",
   "metadata": {
    "tags": []
   },
   "outputs": [],
   "source": [
    "word = 'Kyoto'\n",
    "# Python listのインデックスは　0　から始まります\n",
    "# The first element of a list is the first alphabet. Compare the order of the alphabet to the index inside []\n",
    "word[0]"
   ]
  },
  {
   "cell_type": "code",
   "execution_count": null,
   "id": "08d560b5-1a3a-4305-b9f2-adf49ee64ac9",
   "metadata": {},
   "outputs": [],
   "source": [
    "word[2]"
   ]
  },
  {
   "cell_type": "code",
   "execution_count": null,
   "id": "8bd7c8b7-4809-4692-a538-7f171d59f364",
   "metadata": {},
   "outputs": [],
   "source": [
    "word[5]"
   ]
  },
  {
   "cell_type": "markdown",
   "id": "d435ec46-081b-4370-aaba-cf7238c775cb",
   "metadata": {},
   "source": [
    "## 数字のlist\n",
    "## list of numbers"
   ]
  },
  {
   "cell_type": "code",
   "execution_count": null,
   "id": "d3f8db51-1eed-4f90-929d-9ff98e7a40a0",
   "metadata": {},
   "outputs": [],
   "source": [
    "measurements = [5.5, 6.3, 7.2, 8.0, 8.8]\n",
    "measurements[0]"
   ]
  },
  {
   "cell_type": "code",
   "execution_count": null,
   "id": "180a1cd1-3cc9-46a7-a5b8-59dd6f89613e",
   "metadata": {},
   "outputs": [],
   "source": [
    "measurements[1]"
   ]
  },
  {
   "cell_type": "code",
   "execution_count": null,
   "id": "5cd43e7a-da4e-4aab-9ab8-ed9a8a7a3d9f",
   "metadata": {},
   "outputs": [],
   "source": [
    "measurements.append(10.2)\n",
    "measurements"
   ]
  },
  {
   "cell_type": "code",
   "execution_count": null,
   "id": "a4adc35c-c5a3-45c0-9cc4-327f973005ee",
   "metadata": {},
   "outputs": [],
   "source": [
    "more_measurements = [12.3, 14.5, 28.3]\n",
    "measurements + more_measurements"
   ]
  },
  {
   "cell_type": "code",
   "execution_count": null,
   "id": "47249a5e-aedb-4741-b5ff-c332391dba0f",
   "metadata": {},
   "outputs": [],
   "source": [
    "min(measurements)"
   ]
  },
  {
   "cell_type": "code",
   "execution_count": null,
   "id": "95a4d6e3-e8a8-4ed1-af36-27f97b6aa4c4",
   "metadata": {},
   "outputs": [],
   "source": [
    "max(measurements)"
   ]
  },
  {
   "cell_type": "code",
   "execution_count": null,
   "id": "8ffcbe92-66b6-4c6d-9514-38a272ac3ee2",
   "metadata": {},
   "outputs": [],
   "source": [
    "len(measurements)"
   ]
  },
  {
   "cell_type": "code",
   "execution_count": null,
   "id": "38044f88-534a-42b6-9f2c-a5d4593c7f45",
   "metadata": {},
   "outputs": [],
   "source": [
    "# 練習: 以下のリストの平均とサイズを計算して、結果をf-Stringで示しましょう.\n",
    "# Practice 3: Use f-String to display the average and the length of each list below.\n",
    "measurements_monday = [2.3, 3.1, 5.6]\n",
    "measurements_tuesday = [1.8, 7.0]\n",
    "measurements_wednesday = [4.5, 1.5, 6.4, 3.2]\n",
    "measurements_thursday = [1.9, 2.0]\n",
    "measurements_friday = [4.4]\n",
    "\n",
    "# measurements = ..."
   ]
  },
  {
   "cell_type": "markdown",
   "id": "3eeffc18-e878-434c-84ca-47daf14aed93",
   "metadata": {},
   "source": [
    "## リストのトリミング\n",
    "## Trimming a list"
   ]
  },
  {
   "cell_type": "code",
   "execution_count": null,
   "id": "e5bf1756-191f-4ded-b311-0856b1e5d90e",
   "metadata": {},
   "outputs": [],
   "source": [
    "measurements = [5.5, 6.3, 7.2, 8.0, 8.8]\n",
    "measurements[0:3]"
   ]
  },
  {
   "cell_type": "code",
   "execution_count": null,
   "id": "6c778769-5f46-4ef4-b4f2-c0e77c7471e6",
   "metadata": {},
   "outputs": [],
   "source": [
    "measurements[3:]"
   ]
  },
  {
   "cell_type": "code",
   "execution_count": null,
   "id": "a3b4e6d1-f183-47bc-87bf-c6f1e23f2e9c",
   "metadata": {},
   "outputs": [],
   "source": [
    "measurements[2:4]"
   ]
  },
  {
   "cell_type": "markdown",
   "id": "b144dd7c-6660-4cc7-b5ad-90a0501c4336",
   "metadata": {},
   "source": [
    "# 条件式と分岐\n",
    "# Conditional expressions and branches\n",
    "\n",
    "コンピュータのプログラムは、どんなに複雑そうにみえるプログラムでも、細かく分解すれば次の3つの単純な構造の組み合わせで構成されています。\n",
    "No matter how complex a computer program may seem, if you break it down into small pieces, it consists of a combination of the following three simple structures.\n",
    "\n",
    "1. 処理を上から順番に一つずつ実行する 順次処理\n",
    "   Sequential processing: Execute processing one by one from the top.\n",
    "2. 条件によって処理を選択する 分岐処理\n",
    "   Branching: Execute different statements based on different conditions\n",
    "3. 条件が満たされている間、処理を繰り返す 反復(ループ)処理\n",
    "   Iterative (loop) processing that repeats the process while the condition is met\n",
    "\n",
    "ここまでは、1. の 順次 に相当する、上から下まで無条件に実行される単純な計算などを体験してもらいました。\n",
    "So far, we have told Python to just do simple calculations (executed unconditionally from top to bottom), which corresponds to the 1. Sequential processing method\n",
    "この章では、データを検査し、いろいろな条件に従って適切な処理を行う 2. 分岐 を学びます。\n",
    "In this chapter, you will learn about 2. Branch processing, which do different things based on various conditions."
   ]
  },
  {
   "cell_type": "markdown",
   "id": "32fd588e-fba4-46e4-b892-3bc5b8a84433",
   "metadata": {},
   "source": [
    "## 比較演算, Boolean variable (ブール型)　について\n",
    "## Comparison operations and boolean variables"
   ]
  },
  {
   "cell_type": "code",
   "execution_count": null,
   "id": "9d72184f-d335-41ee-bcfe-3f4dd7c18e99",
   "metadata": {
    "scrolled": true
   },
   "outputs": [],
   "source": [
    "# Boolean variable (ブール型) このほかの演算子: ==, <=, >=, !=\n",
    "# Boolean operators: ==, <=, >=, !=\n",
    "a = 100 < 10\n",
    "a"
   ]
  },
  {
   "cell_type": "code",
   "execution_count": null,
   "id": "9b940706-df92-45f5-bd98-0684bfb2314e",
   "metadata": {},
   "outputs": [],
   "source": [
    "type(a)"
   ]
  },
  {
   "cell_type": "markdown",
   "id": "1d6966f4-ee71-4917-a522-2a3c247d2e31",
   "metadata": {},
   "source": [
    "## if 文\n",
    "## if statement\n",
    "\n",
    "条件による処理の分岐は、if 文 で行います\n",
    "Condition-basd branching is done using an 'if' statement.\n",
    "\n",
    "条件式 の結果が True になったとき、処理が行われます　　(\\tab を忘れずに)\n",
    "The process inside the branch will be performed when the result of the conditional expression is True (remember to use \\tab)"
   ]
  },
  {
   "cell_type": "code",
   "execution_count": null,
   "id": "81a47a02-361e-41f9-92eb-c766490cc8bf",
   "metadata": {},
   "outputs": [],
   "source": [
    "a = 100 # 変数a に 100を設定する Set variable 'a' to 100\n",
    "\n",
    "if a == 100:  # a が 100 と等しければ、print()関数を実行する If a is equal to 100, execute the print() function\n",
    "    print(\"100点満点!\")"
   ]
  },
  {
   "cell_type": "code",
   "execution_count": null,
   "id": "7db8c738-6148-4757-8638-bbbfe05af191",
   "metadata": {},
   "outputs": [],
   "source": [
    "a = 90 # 変数aに 100 を設定する Set variable a to 100\n",
    "\n",
    "if a == 100:  # a が 100 と等しければ、print()関数を実行する If a is equal to 100, execute the first print() function inside the branch\n",
    "    print(\"100点満点!\")\n",
    "else:  # a が 100 と等しくなければ、2番のprint()関数を実行する If a is not equal to 100, execute the second print() function inside the branch\n",
    "    print(\"失格!\")"
   ]
  },
  {
   "cell_type": "code",
   "execution_count": null,
   "id": "a874eb65-5bf7-483b-a357-80e4ca8468bf",
   "metadata": {},
   "outputs": [],
   "source": [
    "a = 90 # 変数aに 100 を設定する Set variable a to 100\n",
    "\n",
    "if a == 100:  # a が 100 と等しければ、print()関数を実行する If a is equal to 100, execute the first print() function inside the branch\n",
    "    print(\"100点満点!\")\n",
    "elif a > 60:  # a が 60 より大きい場合, 2番の print()関数を実行する If a is larger than 60, execute the second print() function inside the branch\n",
    "    print(\"よくできました！\")\n",
    "else: # 若しくは, 3番の print()関数を実行する If a is larger than 60, execute the third print() function \n",
    "    print(\"失格!\")"
   ]
  },
  {
   "cell_type": "markdown",
   "id": "cfea2da0-c953-480a-b501-9bfecc604e9d",
   "metadata": {
    "tags": []
   },
   "source": [
    "## 論理演算子: True/ Falseの計算\n",
    "## Logical operator: True/False calculation\n",
    "and or not"
   ]
  },
  {
   "cell_type": "code",
   "execution_count": null,
   "id": "843d9795-4f63-4193-a1e1-0c73a6d6ca99",
   "metadata": {},
   "outputs": [],
   "source": [
    "# and\n",
    "k = 90\n",
    "q = (k < 100) and (k > 20)\n",
    "print(q)"
   ]
  },
  {
   "cell_type": "code",
   "execution_count": null,
   "id": "cbe715ab-b6a0-4b55-bf9d-d141a8e37889",
   "metadata": {},
   "outputs": [],
   "source": [
    "# or\n",
    "k = 100\n",
    "q = (k > 100) or (k < 20)\n",
    "print(q)"
   ]
  },
  {
   "cell_type": "code",
   "execution_count": null,
   "id": "5757f893-2697-4308-9471-a9c079d9a515",
   "metadata": {},
   "outputs": [],
   "source": [
    "# not\n",
    "k = 90\n",
    "q = not (k<100)\n",
    "print(q)"
   ]
  },
  {
   "cell_type": "code",
   "execution_count": null,
   "id": "0c17fd41-4f79-483b-965b-682ae5974874",
   "metadata": {},
   "outputs": [],
   "source": [
    "# 練習4: ageが10以上で、heightが120以下なら'お乗りいただけます'、でなければ'ご遠慮ください'をプリントする if ... else 式を書いてください\n",
    "# Practice 4: If age is above 10 and height is below 120, print \"Approved\". Otherwise print \"No. It's now illegal\". Please use the \"if ... else\" form.\n",
    "age = 11   # 例として、11歳 身長130cmとする\n",
    "           # As an example, assume that you are 11 years old and 130cm tall.\n",
    "height = 130\n",
    "\n",
    "# if ..."
   ]
  },
  {
   "cell_type": "markdown",
   "id": "dca3e10c-e7c0-4abd-b20c-5d08f5e9675d",
   "metadata": {},
   "source": [
    "# 反復(ループ)処理\n",
    "# Loop"
   ]
  },
  {
   "cell_type": "markdown",
   "id": "e1a1bf01-37a8-4752-b4ef-93ab3732a0e6",
   "metadata": {},
   "source": [
    "## while statement is as follows:\n",
    "\n",
    "```python\n",
    "while 条件式:\n",
    "    処理1\n",
    "    処理2\n",
    "    ...\n",
    "```\n",
    "\n",
    "```python\n",
    "while (condition):\n",
    "    operation1\n",
    "    operation2\n",
    "    ...\n",
    "```"
   ]
  },
  {
   "cell_type": "code",
   "execution_count": null,
   "id": "a365d341-0882-482a-850a-99332e7d5709",
   "metadata": {},
   "outputs": [],
   "source": [
    "counter = 0 # 現在、何回目かを記録する変数 Define a variable to record the repeat time\n",
    "\n",
    "while counter < 5: # counterの値が5以下なら繰り返す Continue to do follows if 'counter' stays less than 5\n",
    "    \n",
    "    counter = counter + 1 # counter の値に 1 を加算する Increase 'counter' by one\n",
    "    \n",
    "    print(counter)\n",
    "    \n",
    "print(\"終了しました\")"
   ]
  },
  {
   "cell_type": "markdown",
   "id": "5a68b30f-1372-4375-9093-ad42c182edf4",
   "metadata": {},
   "source": [
    "### break: ループ途中での脱出\n",
    "### break: escape from loop (if a condition is met)"
   ]
  },
  {
   "cell_type": "code",
   "execution_count": null,
   "id": "507c17c6-92f3-46de-b2ad-7bab7ef1715f",
   "metadata": {},
   "outputs": [],
   "source": [
    "counter = 1 # 現在、何回目かを記録する変数  Define a variable to record the repeat time\n",
    "\n",
    "while counter <= 5:  # counterの値が5以下なら繰り返す Continue to do follows if 'counter' stays less than 5\n",
    "    text = input(\"数字を入力してください (input a number and press enter)\") # You will be asked to type a number here.\n",
    "\n",
    "    # 入力された文字が '999' なら if text string is '999'\n",
    "    if text == '999':\n",
    "        # ループを中断する stop the loop\n",
    "        print(\"中断します\")\n",
    "        break\n",
    "\n",
    "    number = int(text) # 入力した文字列を数値に変換する convert the string variable into number and assign its value to a new variable 'number'\n",
    "    print(counter, \"回目:\", number * number) # 入力した数値の2乗を表示する Multiply number by itself\n",
    "    counter = counter + 1  # counter の値に 1 を加算する  Increase 'counter' by one\n",
    "\n",
    "print(\"終了しました\")"
   ]
  },
  {
   "cell_type": "code",
   "execution_count": null,
   "id": "a3fa33a5-23de-4c25-9fe3-e851d364ecfa",
   "metadata": {},
   "outputs": [],
   "source": [
    "# 練習5: while と len (Python listパートを参考) を使って感染症の数casesを計算し、毎日までの感染症数をプリントしましょう\n",
    "# Format: f'{index}日目までの感染症数: {total}'\n",
    "\n",
    "# Practice 5: Use \"while\" \"len\" (Look at Python list part in lecture notes) to calculate the infected case per day. Overwrite \"total\" \"index\" with your results and display the result using f-String.\n",
    "# Format: Cumulative infection: {total} at {index} days'\n",
    "\n",
    "cases = [100, 125, 110, 135, 93, 95, 93]\n",
    "total = 0\n",
    "index = 0\n",
    "\n",
    "# while ..."
   ]
  },
  {
   "cell_type": "markdown",
   "id": "eda5b6a7-092c-40a9-a5f4-9a130e501572",
   "metadata": {},
   "source": [
    "## for statement (for ... in ...:)\n",
    "\n",
    "\n",
    "while文を使ったリストのループ処理 では、whileループを使ってリストの要素を参照し、すべての値を加算する方法を紹介しました。\n",
    "\n",
    "実は、こういったリストの要素を順番に参照する処理は非常によく行われるため、もっと簡単に書けるように、for 文 という、専用の文法が用意されています。\n",
    "\n",
    "We already learned how to use 'while' to tackle long, repeating calculations like summing up an array of numbers.\n",
    "\n",
    "On the other hand, in case the execution order is important, Using 'for ... in ...' is more convenient.\n",
    "\n",
    "Similar to while loop \n",
    "```python\n",
    "for 変数名 in リストオブジェクト:\n",
    "    処理1\n",
    "    処理2\n",
    "    ...\n",
    "```\n",
    "```python\n",
    "for variable in list_object:\n",
    "    operation1\n",
    "    operation2\n",
    "    ...\n",
    "```\n"
   ]
  },
  {
   "cell_type": "code",
   "execution_count": null,
   "id": "e41d4cbb-b971-4d10-9419-49943fa5350f",
   "metadata": {},
   "outputs": [],
   "source": [
    "values = [1, 2, 3, 4]\n",
    "\n",
    "for value in values:\n",
    "    print(f'{value} の二乗は {value**2}')\n",
    "    print(f'The square of {value} is {value**2}')"
   ]
  },
  {
   "cell_type": "code",
   "execution_count": null,
   "id": "e4f55d1f-4d78-4f86-9392-26343132274e",
   "metadata": {},
   "outputs": [],
   "source": [
    "# range\n",
    "\n",
    "for i in range(10):\n",
    "    print(i)"
   ]
  },
  {
   "cell_type": "code",
   "execution_count": null,
   "id": "9b8e2cfd-9d6a-414c-b6a4-ca18bd614bf2",
   "metadata": {},
   "outputs": [],
   "source": [
    "# 練習6: for と　if　を使って、以下のリスト内の threshold　より小さい数値をprintして, targetに入れてください\n",
    "# Practice 6: Use \"for\" and \"if\" to print and append the element of the array \"values\" to the array \"target\" if the array element is below the number specified by the \"threshold\".\n",
    "\n",
    "values = [1,5,8,3,5,9,2,5,1,2,8,9]\n",
    "target = []\n",
    "threshold = 6\n",
    "\n",
    "# for ..."
   ]
  },
  {
   "cell_type": "markdown",
   "id": "374d5ed2-e4c0-4b7b-8645-7ba0bd02a27d",
   "metadata": {},
   "source": [
    "# 関数の自作 (function)\n",
    "# Functions"
   ]
  },
  {
   "cell_type": "markdown",
   "id": "0e35bbc7-a624-42d5-8c4e-bb15bff68fe0",
   "metadata": {},
   "source": [
    "Pythonでは、関数を自作できます\n",
    "\n",
    "You can make your own functions in Python"
   ]
  },
  {
   "cell_type": "code",
   "execution_count": null,
   "id": "087afebb-2370-41a3-80c9-918e74cb895b",
   "metadata": {},
   "outputs": [],
   "source": [
    "def sum_up(a, b): # 2 つの変数の加算 Addition of two numbers\n",
    "    c = a + b\n",
    "    return c"
   ]
  },
  {
   "cell_type": "code",
   "execution_count": null,
   "id": "ce3b95f8-edaf-41e7-a82c-df77f31b0027",
   "metadata": {},
   "outputs": [],
   "source": [
    "sum_up(1,3)"
   ]
  },
  {
   "cell_type": "code",
   "execution_count": null,
   "id": "044e8203-d5a4-4fb5-a8d6-62fb0050aed9",
   "metadata": {},
   "outputs": [],
   "source": [
    "# 練習7 print, %, if などを使って数字が奇数か偶数を判断するfunctionを作ってください\n",
    "# Practice 7: Use \"print\", \"%\", \"if\" (and anything else) to construct a function to determine if the argument is even number or odd number\n",
    "\n",
    "# i.e.:\n",
    "#  odd_or_even(2)\n",
    "# >>> 偶数です\n",
    "#  odd_or_even(7)\n",
    "# >>> 奇数です\n",
    "\n",
    "# def ..."
   ]
  }
 ],
 "metadata": {
  "kernelspec": {
   "display_name": "Python 3 (ipykernel)",
   "language": "python",
   "name": "python3"
  },
  "language_info": {
   "codemirror_mode": {
    "name": "ipython",
    "version": 3
   },
   "file_extension": ".py",
   "mimetype": "text/x-python",
   "name": "python",
   "nbconvert_exporter": "python",
   "pygments_lexer": "ipython3",
   "version": "3.11.7"
  }
 },
 "nbformat": 4,
 "nbformat_minor": 5
}
