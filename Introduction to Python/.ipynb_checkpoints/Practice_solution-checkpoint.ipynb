{
 "cells": [
  {
   "cell_type": "markdown",
   "id": "1d0b9ab6-dae2-458a-968e-9eab29c19518",
   "metadata": {},
   "source": [
    "## 練習1 \n",
    "\n",
    "Pythonでの数学とimport\n",
    "\n",
    "Introduction to basic mathmatic operations"
   ]
  },
  {
   "cell_type": "code",
   "execution_count": null,
   "id": "84d05d28-03ee-4477-9743-b368101aec1f",
   "metadata": {},
   "outputs": [],
   "source": [
    "# 練習1：(x1, y1), (x2, y2)の距離を計算しましょう\n",
    "# Practice 1: Calculate the Euclidean distance between (x1, y1) and (x2, y2). \n",
    "\n",
    "# Hint: d(x1,y1,x2,y2) = sqrt((x1-x2)^2+(y1-y2)^2)\n",
    "\n",
    "x1 = 5\n",
    "y1 = 3\n",
    "\n",
    "x2 = 8\n",
    "y2 = 11\n",
    "\n",
    "# dist = ...\n",
    "import math\n",
    "dist = math.sqrt((x1 - x2)**2 + (y1 - y2)**2)\n",
    "print(f'Distance between (x1, y1) and (x2, y2) is {dist}')"
   ]
  },
  {
   "cell_type": "markdown",
   "id": "a883d33a-1f5a-48d8-8c34-cf0738c34f87",
   "metadata": {},
   "source": [
    "## 練習2\n",
    "\n",
    "Python datatypeと f-String\n",
    "\n",
    "Python datatype and f-String"
   ]
  },
  {
   "cell_type": "code",
   "execution_count": null,
   "id": "c93bbe12-01e0-4876-93ea-647a5a80ba8f",
   "metadata": {},
   "outputs": [],
   "source": [
    "# 練習2: 以下の変数で　\"徳川家康 は 1543年1月31日に生まれました\"とプリントできますか？\n",
    "# Practice 2: Using the following variables, print out \"徳川家康 was born in 1543.1.31.\". The displayed result should depend on the variables (f-String).\n",
    "first_name = \"家康\"\n",
    "last_name = \"徳川\"\n",
    "\n",
    "birthday_day = 31\n",
    "birthday_month = 1\n",
    "birthday_year = 1543\n",
    "\n",
    "# msg = f'...\n",
    "msg = f'{last_name} {first_name} was born in {birthday_year}.{birthday_month}.{birthday_day}'\n",
    "print(msg)"
   ]
  },
  {
   "cell_type": "markdown",
   "id": "08494bcd-34ff-4652-a1c8-61aaf45b0f3a",
   "metadata": {},
   "source": [
    "## 練習3\n",
    "\n",
    "Python list"
   ]
  },
  {
   "cell_type": "code",
   "execution_count": null,
   "id": "0283e654-0451-46fa-aa23-b1bdf1197572",
   "metadata": {},
   "outputs": [],
   "source": [
    "# 練習3: 以下のリストの平均とサイズを計算して、結果をf-Stringで示しましょう\n",
    "# Practice 3: Calculate the average of all measurements.\n",
    "#             Display the results as 'Average value of the measurement is ...' using f-String\n",
    "measurements_1 = [2.3, 3.1, 5.6]\n",
    "measurements_2 = [1.8, 7.0]\n",
    "measurements_3 = [4.5, 1.5, 6.4, 3.2]\n",
    "\n",
    "# Hint:\n",
    "# Step 1: put all values into one list, and save it as a variable 'measurements'\n",
    "# Step 2: calculate 'total' by sum()\n",
    "# Step 3: calculate 'size' by len()\n",
    "# Step 4: calculate 'average', by ... this one should be easy! :)\n",
    "\n",
    "# measurements = ...\n",
    "measurements = measurements_1 + measurements_2 + measurements_3\n",
    "total = sum(measurements)\n",
    "size = len(measurements)\n",
    "average = total/size\n",
    "print(f'Average value of measurement is {average}')"
   ]
  },
  {
   "cell_type": "markdown",
   "id": "dbacf129-6d66-4c25-926a-06f1c7b5f4d6",
   "metadata": {},
   "source": [
    "## 練習4\n",
    "\n",
    "Python if ... else ...　と　論理演算子 (True False and or not)\n",
    "\n",
    "Python Logical Operators"
   ]
  },
  {
   "cell_type": "code",
   "execution_count": null,
   "id": "a8234592-c96c-4759-ac5e-2e84b63e5f0b",
   "metadata": {},
   "outputs": [],
   "source": [
    "# 練習4: ageが10以上で、heightが120以下なら'お乗りいただけます'、でなければ'ご遠慮ください'をプリントする if ... else 式を書いてください\n",
    "# Practice 4: If age is above 10 and height is below 120, print \"Approved\". Otherwise print \"No. It's now illegal\". Please use the \"if ... else\" form.\n",
    "\n",
    "age = 11   # 例として、11歳 身長130cmとする\n",
    "height = 130\n",
    "\n",
    "# if ...\n",
    "if (age>10) and (height<=120):\n",
    "    print('Approved')\n",
    "else:\n",
    "    print('No, Its now illegal')"
   ]
  },
  {
   "cell_type": "markdown",
   "id": "3f6a15df-db2d-4c14-9b82-5b72efbb1800",
   "metadata": {},
   "source": [
    "## 練習5\n",
    "\n",
    "Python while"
   ]
  },
  {
   "cell_type": "code",
   "execution_count": null,
   "id": "66e7efaa-a983-4952-bd1c-39580dca3743",
   "metadata": {},
   "outputs": [],
   "source": [
    "# Try this \n",
    "i = input('Give me a number: ')\n",
    "print(i)"
   ]
  },
  {
   "cell_type": "code",
   "execution_count": null,
   "id": "56e6fada-0141-4332-afa6-cae18d9edd52",
   "metadata": {},
   "outputs": [],
   "source": [
    "type(i)"
   ]
  },
  {
   "cell_type": "code",
   "execution_count": null,
   "id": "71014b4d-7409-41c8-b249-f37d18874f52",
   "metadata": {},
   "outputs": [],
   "source": [
    "int_i = int(i)\n",
    "type(int_i)"
   ]
  },
  {
   "cell_type": "code",
   "execution_count": null,
   "id": "718fe4cf-bd40-46c7-be6a-be92c1c1bccf",
   "metadata": {},
   "outputs": [],
   "source": [
    "# Practice 5: Create a while loop, where while 'i' is smaller than 10, print i^2 value; if not, leave the while loop and print 'END'\n",
    "\n",
    "# i = 0\n",
    "# while ...\n",
    "\n",
    "i = 0\n",
    "while i < 10:\n",
    "    i = input(\"Give me a number:\")\n",
    "    i = int(i)\n",
    "    print(f'{i}^2 is {i**2}')\n",
    "print('END')"
   ]
  },
  {
   "cell_type": "code",
   "execution_count": null,
   "id": "eee88351-74db-4847-8172-3b6bd9d0bc00",
   "metadata": {},
   "outputs": [],
   "source": [
    "# You can also do\n",
    "while True:\n",
    "    i = input(\"Give me a number:\")\n",
    "    i = int(i)\n",
    "    print(f'{i}^2 is {i**2}')\n",
    "    if i >= 10:\n",
    "        print('END')\n",
    "        break\n",
    "        "
   ]
  },
  {
   "cell_type": "code",
   "execution_count": null,
   "id": "52a3b1a3-e478-4cd3-ab37-353fa4d5d1b6",
   "metadata": {},
   "outputs": [],
   "source": [
    "# LEGACY\n",
    "# 練習5: while と len (Python listパートを参考) を使って感染症の数casesを計算し、毎日までの感染症数をプリントしましょう\n",
    "# Format: f'{index}日目までの感染症数: {total}'\n",
    "\n",
    "# Practice 5: Use \"while\" \"len\" (Look at Python list part in lecture notes) to calculate the ACCUMULATED infected case per day. Overwrite \"total\" \"index\" with your results and display the result using f-String.\n",
    "# Format: Cumulative infection: {total} at {index} days'\n",
    "\n",
    "cases = [100, 125, 110, 135, 93, 95, 93]\n",
    "total = 0\n",
    "index = 0\n",
    "\n",
    "# while ...\n",
    "while index < len(cases):\n",
    "    total = total + cases[index]\n",
    "    index = index + 1\n",
    "    print(f'Cumulative infection: {total} at day {index}')"
   ]
  },
  {
   "cell_type": "markdown",
   "id": "1b890e07-00d1-423f-bc43-a65f19a69c4d",
   "metadata": {},
   "source": [
    "Expected Output:\n",
    "```\n",
    "Cumulative infection: 100 at day 1\r\n",
    "Cumulative infection: 225 at day 2\r\n",
    "Cumulative infection: 335 at day3\r\n",
    "\n",
    "...\n",
    "```"
   ]
  },
  {
   "cell_type": "markdown",
   "id": "c465d607-5aa3-4ad8-b842-bf40448aa42d",
   "metadata": {},
   "source": [
    "## 練習6\n",
    "\n",
    "Python for loop"
   ]
  },
  {
   "cell_type": "code",
   "execution_count": null,
   "id": "ce69b0a0-bdef-4aba-bf63-2f9faf25a07a",
   "metadata": {},
   "outputs": [],
   "source": [
    "# 練習6: for と　if　を使って、以下のリスト内の threshold　より小さい数値をprintして, targetに入れてください\n",
    "# Practice 6: Use \"for\" and \"if\" to print and append the element of the array \"values\" to the array \"target\" if the array element is below the number specified by the \"threshold\".\n",
    "# Print target at the end.\n",
    "\n",
    "values = [1,5,8,3,5,9,2,5,1,2,8,9]\n",
    "target = []\n",
    "threshold = 6\n",
    "\n",
    "# for ...\n",
    "for i in values:\n",
    "    if i < threshold:\n",
    "        print(i)\n",
    "        target.append(i)\n",
    "print(f'Target: {target}')"
   ]
  },
  {
   "cell_type": "markdown",
   "id": "69dca108-1abf-4716-8abd-0e73abe70951",
   "metadata": {},
   "source": [
    "Expected Output:\n",
    "\n",
    "```\n",
    "1\n",
    "5\n",
    "3\n",
    "5\n",
    "...\n",
    "```"
   ]
  },
  {
   "cell_type": "markdown",
   "id": "a6dfb406-c8f2-41c9-bee7-f4705fab867f",
   "metadata": {},
   "source": [
    "## 練習7\n",
    "\n",
    "Python function"
   ]
  },
  {
   "cell_type": "code",
   "execution_count": null,
   "id": "7defff08-d2f8-456f-b5a8-97f8dd146fda",
   "metadata": {},
   "outputs": [],
   "source": [
    "# 練習7 print, %, if などを使って数字が奇数(odd number)か偶数(even number)を判断するfunctionを作ってください\n",
    "# Practice 7: Use \"print\", \"%\", \"if\" (and anything else) to construct a function to determine if \n",
    "# the argument is even number or odd number\n",
    "\n",
    "# i.e.:\n",
    "#  odd_or_even(2)\n",
    "# Output: '2 is an even number'\n",
    "#  odd_or_even(7)\n",
    "# Output: '7 is an odd number'\n",
    "\n",
    "# def ...\n",
    "def odd_or_even(num):\n",
    "    if num%2 == 0:\n",
    "        print(f'{num} is an even number')\n",
    "    else:\n",
    "        print(f'{num} is an odd number')\n",
    "\n",
    "odd_or_even(2)\n",
    "odd_or_even(7)"
   ]
  },
  {
   "cell_type": "markdown",
   "id": "754ff066-5e56-48e6-999f-b366f37dafa6",
   "metadata": {},
   "source": [
    "## 練習8\n",
    "\n",
    "Python numpy"
   ]
  },
  {
   "cell_type": "code",
   "execution_count": null,
   "id": "2cb37b29-196e-4d99-b809-0bd860213cc7",
   "metadata": {},
   "outputs": [],
   "source": [
    "#　練習8.1\n",
    "# numpy.random.randint を使ってランダムにサイズ100の1から10が含まれてるarrayを作りましょう\n",
    "\n",
    "# Practice 8.1:\n",
    "# Use \"numpy.random.randint\" to generate an array of size 100 that contains random numbers between 1 and 10\n",
    "\n",
    "# sample_array = ...\n",
    "import numpy as np\n",
    "sample_array = np.random.randint(1,10,100)"
   ]
  },
  {
   "cell_type": "code",
   "execution_count": null,
   "id": "7df2c4d8-55f1-4166-8530-3cb9bbe75aae",
   "metadata": {},
   "outputs": [],
   "source": [
    "#　練習8.2\n",
    "# np.unique　で前作った数列中のユニークelementを探しましょう\n",
    "\n",
    "# Practice 8.2:\n",
    "# Use \"np.unique\" to find out unique elements of the random numbers array from the last exercise. The \"unique\" is like a dictionary of the input array elements.\n",
    "\n",
    "\n",
    "# unique_element = ...\n",
    "unique_element = np.unique(sample_array)\n",
    "print(f'Unique elements: {unique_element}')"
   ]
  },
  {
   "cell_type": "code",
   "execution_count": null,
   "id": "de64c02d-4971-4f87-b473-3de0485db133",
   "metadata": {},
   "outputs": [],
   "source": [
    "#　練習8.3\n",
    "# 各unique elementの数を数えて、結果をprintしましょう\n",
    "# Hint: use 'for ... in ...', 'sum()'\n",
    "\n",
    "# Practice 8.3:\n",
    "# Use 'for ... in ...', 'sum()' to print how many times each unique elements appears in the original array in 8.1.\n",
    "\n",
    "for i in unique_element:\n",
    "    count = sum(sample_array == i)\n",
    "    print(f'Number of {i} : {count}')"
   ]
  },
  {
   "cell_type": "code",
   "execution_count": null,
   "id": "6eb2e797-0c40-4d90-af39-2665e08f826c",
   "metadata": {},
   "outputs": [],
   "source": []
  }
 ],
 "metadata": {
  "kernelspec": {
   "display_name": "Python 3 (ipykernel)",
   "language": "python",
   "name": "python3"
  },
  "language_info": {
   "codemirror_mode": {
    "name": "ipython",
    "version": 3
   },
   "file_extension": ".py",
   "mimetype": "text/x-python",
   "name": "python",
   "nbconvert_exporter": "python",
   "pygments_lexer": "ipython3",
   "version": "3.8.18"
  }
 },
 "nbformat": 4,
 "nbformat_minor": 5
}
