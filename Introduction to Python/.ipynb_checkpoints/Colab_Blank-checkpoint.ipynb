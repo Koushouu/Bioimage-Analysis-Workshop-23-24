{
 "cells": [
  {
   "cell_type": "code",
   "execution_count": null,
   "id": "df1be147-19c1-403c-99c0-396e808320e7",
   "metadata": {},
   "outputs": [],
   "source": [
    "# Blank notebook for colab users\n",
    "\n",
    "# For installation of sample image for the later part of the notebook\n",
    "#!wget -O blobs.tif https://www.dropbox.com/scl/fi/t1g9bxigxjy5kk3okg4dn/blobs.tif?rlkey=j40nein101pg2grf7xqnh82m0&dl=0"
   ]
  }
 ],
 "metadata": {
  "kernelspec": {
   "display_name": "Python 3 (ipykernel)",
   "language": "python",
   "name": "python3"
  },
  "language_info": {
   "codemirror_mode": {
    "name": "ipython",
    "version": 3
   },
   "file_extension": ".py",
   "mimetype": "text/x-python",
   "name": "python",
   "nbconvert_exporter": "python",
   "pygments_lexer": "ipython3",
   "version": "3.8.18"
  }
 },
 "nbformat": 4,
 "nbformat_minor": 5
}
