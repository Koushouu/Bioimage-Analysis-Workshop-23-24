{
 "cells": [
  {
   "cell_type": "markdown",
   "id": "66ad1afc-ba6b-4ba9-99f1-efba54402fe1",
   "metadata": {},
   "source": [
    "ではさっそく、Pythonのコーディングに移っていきたいと思います。\n",
    "\n",
    "Jupyterのノートブックを広げてください。\n",
    "\n",
    "最初に、コードブロック・セルを作り、Hello World を書いてみましょう"
   ]
  },
  {
   "cell_type": "code",
   "execution_count": null,
   "id": "1806bee0-4824-4bb4-b84e-ddd986205285",
   "metadata": {},
   "outputs": [],
   "source": [
    "print('Hello world')"
   ]
  },
  {
   "cell_type": "markdown",
   "id": "07b647db-24fd-497b-98f0-8802efb8a066",
   "metadata": {},
   "source": [
    "コードの実行は、上のバーの▶印をクリックするか、```Shift```＋```Enter```で、できます\n",
    "\n",
    "簡単に```print```で```Hello World```がアウトプットされました\n",
    "\n",
    "ショートカットはこれ以外いくつもあります。よく使われるショートカット:\n",
    "- ダブル　'd' で Delete\n",
    "- 'a' で下にセルを、'b'で上にセルを\n",
    "- ダブル 'm' でMarkdown, ダブル 'y' で pYthon Code"
   ]
  },
  {
   "cell_type": "markdown",
   "id": "903f97f8-ee78-40ff-bb48-fd46809e7a6b",
   "metadata": {},
   "source": [
    "さっき言ったように、Jupyterでは、コードと説明のドキュメンテーション、二つとも書ける仕組みになっています\n",
    "\n",
    "これは、セルで二回'm'をタップするか、上のバーの'Markdown'を選ぶにより、できます\n",
    "\n",
    "MarkdownはJupyterドキュメンテーションのコーディング言語のようなものです"
   ]
  },
  {
   "cell_type": "markdown",
   "id": "c52e0f52-caea-420a-86e2-8c36d34afda8",
   "metadata": {},
   "source": [
    "## Python の基礎\n",
    "\n",
    "### Markdownの練習\n",
    "\n",
    "- Point 1\n",
    "- Point 2\n",
    "    - Point 2.2"
   ]
  },
  {
   "cell_type": "markdown",
   "id": "b0934b1b-bf6e-486f-be45-164f04b3447f",
   "metadata": {},
   "source": [
    "上のように、#により、タイトル、サブタイトルなどが作れます\n",
    "\n",
    "これによって、目次のようなものが作れます(目次アクセス:左バー)\n",
    "\n",
    "'-'で、リストが作れます。\n",
    "\n",
    "このセクションにタイトルをつけましょう\n",
    "\n",
    "では、次にPythonで、かんたんな数学計算をしてみましょう. "
   ]
  },
  {
   "cell_type": "markdown",
   "id": "ca10d541-939a-4792-9915-a9423939f6ed",
   "metadata": {},
   "source": [
    "# Pythonでの数学計算\n",
    "\n",
    "地味な内容ですが、数字を使った計算は誰でもやり方を知っていますから、実際にPythonを動かしてPythonの機能を理解するには、とても便利なのです。\n",
    "\n",
    "ここでは、単純な算数を通じて、変数 や 関数 などの、プログラミングでもっとも基礎的で重要な知識を学びます。\n",
    "\n",
    "ですので、ここのサンプルを実際に入力して、結果を確認してください"
   ]
  },
  {
   "cell_type": "code",
   "execution_count": null,
   "id": "6de611e6-a99f-49ba-aee9-b63b4216e6f9",
   "metadata": {},
   "outputs": [],
   "source": [
    "1+2"
   ]
  },
  {
   "cell_type": "code",
   "execution_count": null,
   "id": "8cd309cd-2ef1-4713-aa0f-bdab08a2d90e",
   "metadata": {},
   "outputs": [],
   "source": [
    "# 変数の作成\n",
    "a = 1\n",
    "b = 2\n",
    "# 変数での計算\n",
    "c = a + b"
   ]
  },
  {
   "cell_type": "code",
   "execution_count": null,
   "id": "72dcc912-d6be-43b6-aad5-f3d78673d470",
   "metadata": {},
   "outputs": [],
   "source": [
    "c"
   ]
  },
  {
   "cell_type": "code",
   "execution_count": null,
   "id": "3d3b82ee-ae2d-4576-a4f0-03b042558f5c",
   "metadata": {},
   "outputs": [],
   "source": [
    "# ここでStringの紹介\n",
    "print(\"The area is\", a)\n",
    "# それか\n",
    "print(a ,\"plus\", b ,\"is\", c)\n",
    "# 少しバラバラになりますので f-String も使えます\n",
    "print(f\"{a} plus {b} is {c}\")"
   ]
  },
  {
   "cell_type": "code",
   "execution_count": null,
   "id": "9348b488-d89c-45a5-b6f5-91963093896d",
   "metadata": {},
   "outputs": [],
   "source": [
    "# その他の算数\n",
    "d = 6\n",
    "e = 7\n",
    "f = a * d\n",
    "g = f / e\n",
    "h = 1 + g"
   ]
  },
  {
   "cell_type": "code",
   "execution_count": null,
   "id": "5df7450b-183f-47dc-ae4f-2787d4eba4bc",
   "metadata": {},
   "outputs": [],
   "source": [
    "h"
   ]
  },
  {
   "cell_type": "code",
   "execution_count": null,
   "id": "e71e14a8-371c-4cb5-8cc1-94c64886f952",
   "metadata": {},
   "outputs": [],
   "source": [
    "# Power (JP: 乗, TW: 次方)\n",
    "print(\"3 to the power 2 is\", 3**2)\n",
    "\n",
    "# Absolute value (絶対値)\n",
    "print(\"Absolute value of -8 is\", abs(-8))\n",
    "\n",
    "# Round 切り捨て (Try with 4.5, 4.55! Its not entirely 四捨五入 here)\n",
    "n = 4.3\n",
    "print(f\"round ({n}) = {round(n)}\")"
   ]
  },
  {
   "cell_type": "markdown",
   "id": "6d6b08b0-d770-4ea2-886d-e976eddb8480",
   "metadata": {},
   "source": [
    "ここまでのコードは短くて簡単でしたが、コードが長くなると説明のコメントを書きたくなります。\n",
    "\n",
    "それはコードで```#```で達成できます　(上)\n",
    "\n",
    "プログラミングの世界には、「明日の自分は他人」という格言があります。プログラムを書いたときにはよくわかっていることでも、その翌日にはすっかり忘れてしまっているというのはよくあることです。自分のためにも、しっかりとコメントを書いておくようにしましょう。\n",
    "\n",
    "平方根の計算は```**(1/2)```でもできますが、Pythonの```math```libraryの```sqrt```を使うと便利です。\n",
    "\n",
    "ここでは、Python libraryの呼び方、 ```import```を習います。"
   ]
  },
  {
   "cell_type": "markdown",
   "id": "11360518-7415-466e-8b3b-8e3c89193d83",
   "metadata": {},
   "source": [
    "# Import について\n",
    "\n",
    "Pythonはとても多機能なプログラミング言語で、いろいろな機能をもった 関数 を、簡単につかえるように用意してくれています。その機能の数はあまりにも多いので、使いやすいように目的や種類ごとに分類して提供されます。こういった、Pythonが機能を分類する単位を、モジュール といいます。\n",
    "\n",
    "たとえば後で習うモジュール \n",
    "- numpy: 数列の計算、簡単な統計解析\n",
    "- skimage: 画像の読み取り、処理\n",
    "- pandas: csv file の読み取り、処理\n",
    "- matplotlib: 図の作成\n",
    "\n",
    "では、ここでは mathという名前のモジュールを使って平方根を計算してみましょう"
   ]
  },
  {
   "cell_type": "code",
   "execution_count": null,
   "id": "74c333ab-ec42-49a2-9608-9a02818bc0b5",
   "metadata": {},
   "outputs": [],
   "source": [
    "import math\n",
    "\n",
    "# モジュールをインポートしたら、モジュール名.関数名() の形式で、そのモジュールの関数を使えるようになります\n",
    "math.sqrt(9)\n",
    "\n",
    "from math import sqrt\n",
    "sqrt(9)\n",
    "\n",
    "import math as mathematics\n",
    "mathematics.sqrt(9)\n",
    "\n",
    "from math import sqrt as square_root\n",
    "square_root(9)"
   ]
  },
  {
   "cell_type": "code",
   "execution_count": null,
   "id": "7af1b0f9-599c-40a4-830c-465dfd6d2a01",
   "metadata": {},
   "outputs": [],
   "source": [
    "# 練習：(x1, y1), (x2, y2)の距離を計算しましょう\n",
    "\n",
    "x1 = 5\n",
    "y1 = 3\n",
    "\n",
    "x2 = 8\n",
    "y2 = 11\n",
    "\n",
    "# dist = ...\n",
    "dist = math.sqrt((x1 - x2)**2 + (y1 - y2)**2)\n",
    "print(dist)"
   ]
  },
  {
   "cell_type": "code",
   "execution_count": null,
   "id": "983910e9-cb9f-4314-8f06-e96344b199e5",
   "metadata": {},
   "outputs": [],
   "source": [
    "# 他の例\n",
    "math.cos(3.14)"
   ]
  },
  {
   "cell_type": "markdown",
   "id": "169ba949-793c-4edb-a9ca-abd9c3f9952d",
   "metadata": {},
   "source": [
    "Pythonには大変たくさんのモジュールがあるため、普段は使う分だけ覚えれば大丈夫です。僕なら、いつも使うときだけ説明書を見るか、Googleします。\n",
    "\n",
    "例えば、python math: https://docs.python.org/3/library/math.html"
   ]
  },
  {
   "cell_type": "markdown",
   "id": "9ed824c1-a119-4e28-99ff-c190da2d67a6",
   "metadata": {},
   "source": [
    "続いて、注意してほしいJupyterの'落とし穴'について話しましょう"
   ]
  },
  {
   "cell_type": "markdown",
   "id": "51c9f37a-42be-4fbb-aa66-5534f953e66e",
   "metadata": {},
   "source": [
    "# Jupyterの'落とし穴'"
   ]
  },
  {
   "cell_type": "code",
   "execution_count": null,
   "id": "dc3e16a2-5544-4972-8d77-a14cb629bb10",
   "metadata": {},
   "outputs": [],
   "source": [
    "a = 5\n",
    "b = 5"
   ]
  },
  {
   "cell_type": "code",
   "execution_count": null,
   "id": "0a307dd8-8eb6-4185-8488-0bcc5a583bd3",
   "metadata": {},
   "outputs": [],
   "source": [
    "a = a + 1"
   ]
  },
  {
   "cell_type": "code",
   "execution_count": null,
   "id": "8f245a06-6362-4a36-ab07-a51b714764e0",
   "metadata": {},
   "outputs": [],
   "source": [
    "a + b"
   ]
  },
  {
   "cell_type": "markdown",
   "id": "33a9cd24-1960-4d47-ae36-8db3a0ccf865",
   "metadata": {},
   "source": [
    "コードの実行の順番によって、違う結果が出てくる可能性があります。\n",
    "\n",
    "これを防ぐために、Jupyterベックグランド(Kernel)のクリンアップを常に行いましょう。\n",
    "\n",
    "(Kernal > Restart Kernel)"
   ]
  },
  {
   "cell_type": "code",
   "execution_count": null,
   "id": "074a8ead-36c4-4cdf-83d9-a4b5fef9f508",
   "metadata": {},
   "outputs": [],
   "source": [
    "d = 5"
   ]
  },
  {
   "cell_type": "code",
   "execution_count": null,
   "id": "d6522ed6-1f39-48e4-b49d-e8585936bbd1",
   "metadata": {},
   "outputs": [],
   "source": [
    "d = 10"
   ]
  },
  {
   "cell_type": "code",
   "execution_count": null,
   "id": "485e3913-660d-4343-a3bb-8b9900a4d840",
   "metadata": {},
   "outputs": [],
   "source": [
    "d"
   ]
  },
  {
   "cell_type": "markdown",
   "id": "a8759bce-7aa5-4722-a84f-f9504f9e0748",
   "metadata": {},
   "source": [
    "次にPythonのデータタイプについて話しましょう"
   ]
  },
  {
   "cell_type": "markdown",
   "id": "aed94b01-3456-4784-8daf-d13b6ac3cee2",
   "metadata": {},
   "source": [
    "# Pythonのデータタイプ"
   ]
  },
  {
   "cell_type": "code",
   "execution_count": null,
   "id": "7d57863a-f16a-4add-8a40-8f4a1325546f",
   "metadata": {},
   "outputs": [],
   "source": [
    "# int: integer (整数)\n",
    "a = 5\n",
    "type(a)"
   ]
  },
  {
   "cell_type": "markdown",
   "id": "8e95d92c-2fb3-41a0-b655-d5e3cdc112f6",
   "metadata": {},
   "source": [
    "Pythonでは、実数は 浮動小数点数(ふどうしょうすうてんすう, floating point number) という形式で、 float型 と呼ばれます。"
   ]
  },
  {
   "cell_type": "code",
   "execution_count": null,
   "id": "90de97b7-55b4-4b23-be0b-fbc334913c1d",
   "metadata": {},
   "outputs": [],
   "source": [
    "# float\n",
    "b = 3.5\n",
    "type(b)"
   ]
  },
  {
   "cell_type": "code",
   "execution_count": null,
   "id": "0b4ef465-c1e3-4d59-a47d-5135a4ca2754",
   "metadata": {},
   "outputs": [],
   "source": [
    "d = a + b\n",
    "type(d)"
   ]
  },
  {
   "cell_type": "code",
   "execution_count": null,
   "id": "9266ee4a-7663-40ce-8e66-5b76630c7765",
   "metadata": {},
   "outputs": [],
   "source": [
    "# str: string (文字列)\n",
    "c = \"Kyoto\"\n",
    "type(c)"
   ]
  },
  {
   "cell_type": "code",
   "execution_count": null,
   "id": "0858e718-ba15-4273-8137-4ae804953d89",
   "metadata": {},
   "outputs": [],
   "source": [
    "# String　同氏の計算 -> 追加\n",
    "name = \"Kou\"\n",
    "txt = \"my name is \" + name + \", nice to meet you!\"\n",
    "txt"
   ]
  },
  {
   "cell_type": "markdown",
   "id": "764794b6-f122-41bb-b624-e088f1ac4c37",
   "metadata": {},
   "source": [
    "## String と int/floatの計算\n"
   ]
  },
  {
   "cell_type": "code",
   "execution_count": null,
   "id": "4ee2bfbe-b089-47b5-b4ad-b093dca8ada2",
   "metadata": {},
   "outputs": [],
   "source": [
    "# int/ float と　str　を直接計算するとエラーが出ます\n",
    "e = a + c"
   ]
  },
  {
   "cell_type": "code",
   "execution_count": null,
   "id": "e1ab8a24-ede8-400c-be86-da1947b58995",
   "metadata": {},
   "outputs": [],
   "source": [
    "# int/ float を str() で string に変えられましたら、'+'で追加ができます\n",
    "e = str(a) + c\n",
    "e"
   ]
  },
  {
   "cell_type": "markdown",
   "id": "e11357db-79a0-4210-a9a3-5047e56fe0e6",
   "metadata": {},
   "source": [
    "## f-String"
   ]
  },
  {
   "cell_type": "code",
   "execution_count": null,
   "id": "fcccc3c0-1ac6-4666-a857-c33b93f268a9",
   "metadata": {},
   "outputs": [],
   "source": [
    "# 便利なStringの使い方です\n",
    "name = \"Kou\"\n",
    "txt = f\"my name is {name}, nice to meet you!\"\n",
    "txt"
   ]
  },
  {
   "cell_type": "code",
   "execution_count": null,
   "id": "76750a3b-4861-4d18-ade2-63704bdfc5fc",
   "metadata": {},
   "outputs": [],
   "source": [
    "r = 5\n",
    "print(f\"{r} square is {r**2}\")"
   ]
  },
  {
   "cell_type": "code",
   "execution_count": null,
   "id": "ecf0fbf5-c3cc-4d46-9f1e-f19691953e74",
   "metadata": {},
   "outputs": [],
   "source": [
    "# 練習: 以下の変数で　\"徳川家康 は 1543年1月31日に生まれました\"とプリントできますか？\n",
    "first_name = \"家康\"\n",
    "last_name = \"徳川\"\n",
    "\n",
    "birthday_day = 31\n",
    "birthday_month = 1\n",
    "birthday_year = 1543\n",
    "\n",
    "# msg = f'..."
   ]
  },
  {
   "cell_type": "markdown",
   "id": "f62de972-0153-419b-ba69-a075316f9ed1",
   "metadata": {},
   "source": [
    "PythonではStringはListでもあります。次にPython listについて話しましょう"
   ]
  },
  {
   "cell_type": "markdown",
   "id": "950cd7e4-dc9c-45a7-bc87-d4e7f835b4b6",
   "metadata": {},
   "source": [
    "# Python list"
   ]
  },
  {
   "cell_type": "code",
   "execution_count": null,
   "id": "48b68183-43a2-43e7-8bb7-4f5c6c71ce45",
   "metadata": {
    "tags": []
   },
   "outputs": [],
   "source": [
    "word = 'Kyoto'\n",
    "# Python listのインデックスは　0　から始まります\n",
    "word[0]"
   ]
  },
  {
   "cell_type": "code",
   "execution_count": null,
   "id": "08d560b5-1a3a-4305-b9f2-adf49ee64ac9",
   "metadata": {},
   "outputs": [],
   "source": [
    "word[2]"
   ]
  },
  {
   "cell_type": "code",
   "execution_count": null,
   "id": "8bd7c8b7-4809-4692-a538-7f171d59f364",
   "metadata": {},
   "outputs": [],
   "source": [
    "word[5]"
   ]
  },
  {
   "cell_type": "markdown",
   "id": "d435ec46-081b-4370-aaba-cf7238c775cb",
   "metadata": {},
   "source": [
    "## 数字のlist"
   ]
  },
  {
   "cell_type": "code",
   "execution_count": null,
   "id": "d3f8db51-1eed-4f90-929d-9ff98e7a40a0",
   "metadata": {},
   "outputs": [],
   "source": [
    "measurements = [5.5, 6.3, 7.2, 8.0, 8.8]\n",
    "measurements[0]"
   ]
  },
  {
   "cell_type": "code",
   "execution_count": null,
   "id": "180a1cd1-3cc9-46a7-a5b8-59dd6f89613e",
   "metadata": {},
   "outputs": [],
   "source": [
    "measurements[1]"
   ]
  },
  {
   "cell_type": "code",
   "execution_count": null,
   "id": "5cd43e7a-da4e-4aab-9ab8-ed9a8a7a3d9f",
   "metadata": {},
   "outputs": [],
   "source": [
    "measurements.append(10.2)\n",
    "measurements"
   ]
  },
  {
   "cell_type": "code",
   "execution_count": null,
   "id": "a4adc35c-c5a3-45c0-9cc4-327f973005ee",
   "metadata": {},
   "outputs": [],
   "source": [
    "more_measurements = [12.3, 14.5, 28.3]\n",
    "measurements + more_measurements"
   ]
  },
  {
   "cell_type": "code",
   "execution_count": null,
   "id": "47249a5e-aedb-4741-b5ff-c332391dba0f",
   "metadata": {},
   "outputs": [],
   "source": [
    "min(measurements)"
   ]
  },
  {
   "cell_type": "code",
   "execution_count": null,
   "id": "95a4d6e3-e8a8-4ed1-af36-27f97b6aa4c4",
   "metadata": {},
   "outputs": [],
   "source": [
    "max(measurements)"
   ]
  },
  {
   "cell_type": "code",
   "execution_count": null,
   "id": "8ffcbe92-66b6-4c6d-9514-38a272ac3ee2",
   "metadata": {},
   "outputs": [],
   "source": [
    "len(measurements)"
   ]
  },
  {
   "cell_type": "code",
   "execution_count": null,
   "id": "38044f88-534a-42b6-9f2c-a5d4593c7f45",
   "metadata": {},
   "outputs": [],
   "source": [
    "# 練習: 以下のリストの平均とサイズを計算して、結果をf-Stringで示しましょう\n",
    "measurements_monday = [2.3, 3.1, 5.6]\n",
    "measurements_tuesday = [1.8, 7.0]\n",
    "measurements_wednesday = [4.5, 1.5, 6.4, 3.2]\n",
    "measurements_thursday = [1.9, 2.0]\n",
    "measurements_friday = [4.4]\n",
    "\n",
    "# measurements = ..."
   ]
  },
  {
   "cell_type": "markdown",
   "id": "3eeffc18-e878-434c-84ca-47daf14aed93",
   "metadata": {},
   "source": [
    "## リストのトリミング"
   ]
  },
  {
   "cell_type": "code",
   "execution_count": null,
   "id": "e5bf1756-191f-4ded-b311-0856b1e5d90e",
   "metadata": {},
   "outputs": [],
   "source": [
    "measurements = [5.5, 6.3, 7.2, 8.0, 8.8]\n",
    "measurements[0:3]"
   ]
  },
  {
   "cell_type": "code",
   "execution_count": null,
   "id": "6c778769-5f46-4ef4-b4f2-c0e77c7471e6",
   "metadata": {},
   "outputs": [],
   "source": [
    "measurements[3:]"
   ]
  },
  {
   "cell_type": "code",
   "execution_count": null,
   "id": "a3b4e6d1-f183-47bc-87bf-c6f1e23f2e9c",
   "metadata": {},
   "outputs": [],
   "source": [
    "measurements[2:4]"
   ]
  },
  {
   "cell_type": "markdown",
   "id": "b144dd7c-6660-4cc7-b5ad-90a0501c4336",
   "metadata": {},
   "source": [
    "# 条件式と分岐\n",
    "\n",
    "コンピュータのプログラムは、どんなに複雑そうにみえるプログラムでも、細かく分解すれば次の3つの単純な構造の組み合わせで構成されています。\n",
    "\n",
    "1. 処理を上から順番に一つずつ実行する 順次処理\n",
    "2. 条件によって処理を選択する 分岐処理\n",
    "3. 条件が満たされている間、処理を繰り返す 反復(ループ)処理\n",
    "\n",
    "ここまでは、1. の 順次 に相当する、上から下まで無条件に実行される単純な計算などを体験してもらいました。\n",
    "\n",
    "この章では、データを検査し、いろいろな条件に従って適切な処理を行う 2. 分岐 を学びます。"
   ]
  },
  {
   "cell_type": "markdown",
   "id": "32fd588e-fba4-46e4-b892-3bc5b8a84433",
   "metadata": {},
   "source": [
    "## 比較演算, Boolean variable (ブール型)　について"
   ]
  },
  {
   "cell_type": "code",
   "execution_count": null,
   "id": "c4bfeaef-5361-4df5-b50d-78f3165bb315",
   "metadata": {},
   "outputs": [],
   "source": [
    "# Boolean variable (ブール型) このほかの演算子: ==, <=, >=, !=\n",
    "a = 100 < 10\n",
    "a"
   ]
  },
  {
   "cell_type": "code",
   "execution_count": null,
   "id": "a1dea446-be6f-4d54-836f-6e838e9fea77",
   "metadata": {},
   "outputs": [],
   "source": [
    "type(a)"
   ]
  },
  {
   "cell_type": "markdown",
   "id": "1d6966f4-ee71-4917-a522-2a3c247d2e31",
   "metadata": {},
   "source": [
    "## if 文\n",
    "\n",
    "条件による処理の分岐は、if 文 で行います\n",
    "\n",
    "条件式 の結果が True になったとき、処理が行われます　　(\\tab を忘れずに)"
   ]
  },
  {
   "cell_type": "code",
   "execution_count": null,
   "id": "81a47a02-361e-41f9-92eb-c766490cc8bf",
   "metadata": {},
   "outputs": [],
   "source": [
    "a = 100 # 変数a に 100を設定する\n",
    "\n",
    "if a == 100:  # a が 100 と等しければ、print()関数を実行する\n",
    "    print(\"100点満点!\")"
   ]
  },
  {
   "cell_type": "code",
   "execution_count": null,
   "id": "7db8c738-6148-4757-8638-bbbfe05af191",
   "metadata": {},
   "outputs": [],
   "source": [
    "a = 90 # 変数aに 100 を設定する\n",
    "\n",
    "if a == 100:  # a が 100 と等しければ、print()関数を実行する\n",
    "    print(\"100点満点!\")\n",
    "else:\n",
    "    print(\"失格!\")"
   ]
  },
  {
   "cell_type": "code",
   "execution_count": null,
   "id": "a874eb65-5bf7-483b-a357-80e4ca8468bf",
   "metadata": {},
   "outputs": [],
   "source": [
    "a = 90 # 変数aに 100 を設定する\n",
    "\n",
    "if a == 100:  # a が 100 と等しければ、print()関数を実行する\n",
    "    print(\"100点満点!\")\n",
    "elif a > 60:\n",
    "    print(\"よくできました！\")\n",
    "else:\n",
    "    print(\"失格!\")"
   ]
  },
  {
   "cell_type": "markdown",
   "id": "cfea2da0-c953-480a-b501-9bfecc604e9d",
   "metadata": {
    "tags": []
   },
   "source": [
    "## 論理演算子: True/ Falseの計算\n",
    "\n",
    "and or not"
   ]
  },
  {
   "cell_type": "code",
   "execution_count": null,
   "id": "843d9795-4f63-4193-a1e1-0c73a6d6ca99",
   "metadata": {},
   "outputs": [],
   "source": [
    "# and\n",
    "k = 90\n",
    "q = (k < 100) and (k > 20)\n",
    "print(q)"
   ]
  },
  {
   "cell_type": "code",
   "execution_count": null,
   "id": "cbe715ab-b6a0-4b55-bf9d-d141a8e37889",
   "metadata": {},
   "outputs": [],
   "source": [
    "# or\n",
    "k = 100\n",
    "q = (k > 100) or (k < 20)\n",
    "print(q)"
   ]
  },
  {
   "cell_type": "code",
   "execution_count": null,
   "id": "5757f893-2697-4308-9471-a9c079d9a515",
   "metadata": {},
   "outputs": [],
   "source": [
    "# not\n",
    "k = 90\n",
    "q = not (k<100)\n",
    "print(q)"
   ]
  },
  {
   "cell_type": "code",
   "execution_count": null,
   "id": "95cde657-587a-41b0-ad2d-3d5d8b7782a1",
   "metadata": {},
   "outputs": [],
   "source": [
    "# 練習: ageが10以上で、heightが120以下なら'お乗りいただけます'、でなければ'ご遠慮ください'をプリントする if ... else 式を書いてください\n",
    "age = 11   # 例として、11歳 身長130cmとする\n",
    "height = 130\n",
    "\n",
    "# if ...\n",
    "if (age>10) and (height<=120):\n",
    "    print('お乗りいただけます')\n",
    "else:\n",
    "    print('ご遠慮ください')"
   ]
  },
  {
   "cell_type": "markdown",
   "id": "dca3e10c-e7c0-4abd-b20c-5d08f5e9675d",
   "metadata": {},
   "source": [
    "# 反復(ループ)処理"
   ]
  },
  {
   "cell_type": "markdown",
   "id": "e1a1bf01-37a8-4752-b4ef-93ab3732a0e6",
   "metadata": {},
   "source": [
    "## while statement\n",
    "\n",
    "```python\n",
    "while 条件式:\n",
    "    処理1\n",
    "    処理2\n",
    "    ...\n",
    "```"
   ]
  },
  {
   "cell_type": "code",
   "execution_count": null,
   "id": "a365d341-0882-482a-850a-99332e7d5709",
   "metadata": {},
   "outputs": [],
   "source": [
    "counter = 0 # 現在、何回目かを記録する変数\n",
    "\n",
    "while counter < 5: # counterの値が5以下なら繰り返す\n",
    "    \n",
    "    counter = counter + 1 # counter の値に 1 を加算する\n",
    "    \n",
    "    print(counter)\n",
    "    \n",
    "print(\"終了しました\")"
   ]
  },
  {
   "cell_type": "markdown",
   "id": "5a68b30f-1372-4375-9093-ad42c182edf4",
   "metadata": {},
   "source": [
    "### break: ループ途中での脱出"
   ]
  },
  {
   "cell_type": "code",
   "execution_count": null,
   "id": "507c17c6-92f3-46de-b2ad-7bab7ef1715f",
   "metadata": {},
   "outputs": [],
   "source": [
    "counter = 1 # 現在、何回目かを記録する変数\n",
    "\n",
    "while counter <= 5:  # counterの値が5以下なら繰り返す\n",
    "    text = input(\"数字を入力してください\")\n",
    "\n",
    "    # 入力された文字が '999' なら\n",
    "    if text == '999':\n",
    "        # ループを中断する\n",
    "        print(\"中断します\")\n",
    "        break\n",
    "\n",
    "    number = int(text) # 入力した文字列を数値に変換する\n",
    "    print(counter, \"回目:\", number * number) # 入力した数値の2乗を表示する\n",
    "    counter = counter + 1  # counter の値に 1 を加算する\n",
    "\n",
    "print(\"終了しました\")"
   ]
  },
  {
   "cell_type": "code",
   "execution_count": null,
   "id": "a3fa33a5-23de-4c25-9fe3-e851d364ecfa",
   "metadata": {},
   "outputs": [],
   "source": [
    "# 練習: while と len (Python listパートを参考) を使って感染症の数casesを計算し、毎日までの感染症数をプリントしましょう\n",
    "# Format: f'{index}日目までの感染症数: {total}'\n",
    "\n",
    "cases = [100, 125, 110, 135, 93, 95, 93]\n",
    "total = 0\n",
    "index = 0\n",
    "\n",
    "# while ...\n",
    "\n",
    "while index < len(cases):\n",
    "    total = total + cases[index]\n",
    "    index = index + 1\n",
    "    print(f'{index}日目までの感染症数: {total}')"
   ]
  },
  {
   "cell_type": "markdown",
   "id": "eda5b6a7-092c-40a9-a5f4-9a130e501572",
   "metadata": {},
   "source": [
    "## for statement (for ... in ...:)\n",
    "\n",
    "while文を使ったリストのループ処理 では、whileループを使ってリストの要素を参照し、すべての値を加算する方法を紹介しました。\n",
    "\n",
    "実は、こういったリストの要素を順番に参照する処理は非常によく行われるため、もっと簡単に書けるように、for 文 という、専用の文法が用意されています。\n",
    "\n",
    "```python\n",
    "for 変数名 in リストオブジェクト:\n",
    "    処理1\n",
    "    処理2\n",
    "    ...\n",
    "```"
   ]
  },
  {
   "cell_type": "code",
   "execution_count": null,
   "id": "22b374e0-dec7-4341-9874-790e75fef77c",
   "metadata": {},
   "outputs": [],
   "source": [
    "values = [1, 2, 3, 4]\n",
    "\n",
    "for value in values:\n",
    "    print(f'{value} の二乗は {value**2}')"
   ]
  },
  {
   "cell_type": "code",
   "execution_count": null,
   "id": "e4f55d1f-4d78-4f86-9392-26343132274e",
   "metadata": {},
   "outputs": [],
   "source": [
    "# range\n",
    "\n",
    "for i in range(10):\n",
    "    print(i)"
   ]
  },
  {
   "cell_type": "code",
   "execution_count": null,
   "id": "9b8e2cfd-9d6a-414c-b6a4-ca18bd614bf2",
   "metadata": {},
   "outputs": [],
   "source": [
    "# 練習: for と　if　を使って、以下のリスト内の threshold　より小さい数値をprintして, targetに入れてください\n",
    "\n",
    "values = [1,5,8,3,5,9,2,5,1,2,8,9]\n",
    "target = []\n",
    "threshold = 6\n",
    "\n",
    "# for ...\n",
    "\n",
    "for i in values:\n",
    "    if i < threshold:\n",
    "        print(i)\n",
    "        target.append(i)"
   ]
  },
  {
   "cell_type": "code",
   "execution_count": null,
   "id": "7455ad63-46ee-417c-9436-e9b65004a7ef",
   "metadata": {},
   "outputs": [],
   "source": []
  }
 ],
 "metadata": {
  "kernelspec": {
   "display_name": "Python 3 (ipykernel)",
   "language": "python",
   "name": "python3"
  },
  "language_info": {
   "codemirror_mode": {
    "name": "ipython",
    "version": 3
   },
   "file_extension": ".py",
   "mimetype": "text/x-python",
   "name": "python",
   "nbconvert_exporter": "python",
   "pygments_lexer": "ipython3",
   "version": "3.8.18"
  }
 },
 "nbformat": 4,
 "nbformat_minor": 5
}
