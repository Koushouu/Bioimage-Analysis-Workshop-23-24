{
 "cells": [
  {
   "cell_type": "markdown",
   "id": "3ae15903-aa1c-4724-bfd4-54e9a705ec7f",
   "metadata": {},
   "source": [
    "# 画像解析によく使われるモジュール\n",
    "\n",
    "ここでは画像解析/データーサイエンスによく使われるモジュール、関数などを紹介します"
   ]
  },
  {
   "cell_type": "markdown",
   "id": "bb979a0d-f74f-4d74-b4c7-dbd8139d0078",
   "metadata": {},
   "source": [
    "## Numpy: 数列の計算\n",
    "\n",
    "数列(array)、マトリックス計算によく使われます。\n",
    "\n",
    "画像は数字のマトリックスなので、よくnumpyで画像処理を行います。"
   ]
  },
  {
   "cell_type": "code",
   "execution_count": null,
   "id": "be8f59ff-b188-4548-ac6b-ee90c4073d4e",
   "metadata": {},
   "outputs": [],
   "source": [
    "import numpy as np\n",
    "\n",
    "k_list = [1, 2, 3, 4]\n",
    "k_np_list = np.array(k_list)\n",
    "\n",
    "# 普通のlistとnumpyのlist(array)の差別\n",
    "print(k_list*2)\n",
    "print(k_np_list*2)"
   ]
  },
  {
   "cell_type": "code",
   "execution_count": null,
   "id": "ad11b95d-56fd-479d-818f-c3ca3fdc19e8",
   "metadata": {},
   "outputs": [],
   "source": [
    "q_list = [5, 6, 7, 8]\n",
    "q_np_list = np.array(q_list)\n",
    "\n",
    "# 普通のlistとnumpyのlist(array)の差別\n",
    "print(k_list + q_list)\n",
    "print(k_np_list + q_np_list)"
   ]
  },
  {
   "cell_type": "markdown",
   "id": "5494ba24-5576-4fc0-9ae7-d0863e17e29d",
   "metadata": {},
   "source": [
    "### numpy maskの作成\n"
   ]
  },
  {
   "cell_type": "code",
   "execution_count": null,
   "id": "b492f16a-d565-4fbf-85bb-fbd15e7f88fd",
   "metadata": {},
   "outputs": [],
   "source": [
    "j = np.random.rand(10)\n",
    "j"
   ]
  },
  {
   "cell_type": "code",
   "execution_count": null,
   "id": "98f4d302-60a3-4d58-8fc3-3486ae87af88",
   "metadata": {},
   "outputs": [],
   "source": [
    "j_large = j > 0.5\n",
    "j_large"
   ]
  },
  {
   "cell_type": "code",
   "execution_count": null,
   "id": "98843650-2eae-4fcc-9493-e34986e6498c",
   "metadata": {},
   "outputs": [],
   "source": [
    "sum(j_large)"
   ]
  },
  {
   "cell_type": "code",
   "execution_count": null,
   "id": "e691a23d-fee4-4c6c-9fce-d43f752b4266",
   "metadata": {},
   "outputs": [],
   "source": [
    "j[j_large]"
   ]
  },
  {
   "cell_type": "markdown",
   "id": "13afc109-e5c8-41d4-8797-11de8c8365cb",
   "metadata": {},
   "source": [
    "### unique elementの捜索"
   ]
  },
  {
   "cell_type": "code",
   "execution_count": null,
   "id": "e907f323-97e3-4fe7-8489-6c25024b3ec2",
   "metadata": {},
   "outputs": [],
   "source": [
    "#　練習7.1\n",
    "# numpy.random.randint を使ってランダムにサイズ100の1から10が含まれてるarrayを作りましょう\n"
   ]
  },
  {
   "cell_type": "code",
   "execution_count": null,
   "id": "1438eb00-da90-48ab-a3a8-30f17bf0be6c",
   "metadata": {},
   "outputs": [],
   "source": [
    "#　練習7.2\n",
    "# np.unique　で前作った数列中のユニークelementを探しましょう\n"
   ]
  },
  {
   "cell_type": "code",
   "execution_count": null,
   "id": "9f3b0dfd-a5ee-4a6d-bd38-d774a4f76164",
   "metadata": {},
   "outputs": [],
   "source": [
    "#　練習7.3\n",
    "# 各unique elementの数を数えて、結果をprintしましょう\n",
    "# Hint: use 'for ... in ...', 'sum()'\n"
   ]
  },
  {
   "cell_type": "markdown",
   "id": "b9854aaf-f211-4081-8595-b95776ee3a0a",
   "metadata": {},
   "source": [
    "## skimage: 画像の読み取り、保存"
   ]
  },
  {
   "cell_type": "code",
   "execution_count": null,
   "id": "ab8e1d95-55eb-4bb8-98ed-733925b11018",
   "metadata": {},
   "outputs": [],
   "source": [
    "#前と同じように'skimage.io'から'imread'と'imshow'をimportしましょう\n",
    "from skimage.io import imread, imshow"
   ]
  },
  {
   "cell_type": "code",
   "execution_count": null,
   "id": "0542b164-dc11-473d-b7f7-456eebab2de6",
   "metadata": {},
   "outputs": [],
   "source": [
    "img = imread(\"blobs.tif\")"
   ]
  },
  {
   "cell_type": "code",
   "execution_count": null,
   "id": "4e356e2a-a104-497d-95e4-3f6b4bb2c2fb",
   "metadata": {},
   "outputs": [],
   "source": [
    "img.dtype"
   ]
  },
  {
   "cell_type": "code",
   "execution_count": null,
   "id": "08326ec2-411a-4b63-b3fc-8c3fb4156ab4",
   "metadata": {},
   "outputs": [],
   "source": [
    "img.shape"
   ]
  },
  {
   "cell_type": "code",
   "execution_count": null,
   "id": "214d410d-b6c6-4e23-8abd-1bbf7cba8a51",
   "metadata": {},
   "outputs": [],
   "source": [
    "imshow(img)"
   ]
  },
  {
   "cell_type": "code",
   "execution_count": null,
   "id": "4c72dd40-1528-4b77-84b7-25ca26f41da2",
   "metadata": {},
   "outputs": [],
   "source": [
    "#トリミング\n",
    "cropped_img = img[0:128, 0:128]\n",
    "\n",
    "imshow(cropped_img)"
   ]
  },
  {
   "cell_type": "code",
   "execution_count": null,
   "id": "5360b87f-510e-424d-812e-b1b5bf661871",
   "metadata": {},
   "outputs": [],
   "source": [
    "#簡単なしきい値計算: さっきのnumpy mask計算と同じコンセプトです\n",
    "imshow(img>100)"
   ]
  },
  {
   "cell_type": "markdown",
   "id": "fd2b6895-9798-457f-9db1-e275c1c3625a",
   "metadata": {},
   "source": [
    "## matplotlib: 図の作成"
   ]
  },
  {
   "cell_type": "code",
   "execution_count": null,
   "id": "8ee74528-d3dc-40d4-bee9-e183010eaa74",
   "metadata": {},
   "outputs": [],
   "source": [
    "import matplotlib.pyplot as plt"
   ]
  },
  {
   "cell_type": "code",
   "execution_count": null,
   "id": "5fbf7fb5-9853-40a7-b3a4-e45ebd73df20",
   "metadata": {},
   "outputs": [],
   "source": [
    "plt.plot(np.random.randint(1,20,100))"
   ]
  },
  {
   "cell_type": "code",
   "execution_count": null,
   "id": "8a7f0cea-5a20-48e9-a496-35f95a40d655",
   "metadata": {},
   "outputs": [],
   "source": [
    "plt.imshow(img, cmap='gray')"
   ]
  },
  {
   "cell_type": "markdown",
   "id": "7c644622-14bc-4729-9b4b-6afa8ef9db16",
   "metadata": {},
   "source": [
    "## Dictionary (辞書オブジェクト) と pandas\n",
    "\n",
    "測定の結果をdictionary変数でテーブルフォーマットで操作できます"
   ]
  },
  {
   "cell_type": "code",
   "execution_count": null,
   "id": "9e05340f-2daf-4be2-951d-f4298ba901e5",
   "metadata": {},
   "outputs": [],
   "source": [
    "measurements_week = {\n",
    "    'Monday':   [2.3, 3.1, 5.6],\n",
    "    'Tuesday':  [1.8, 7.0, 4.3],\n",
    "    'Wednesday':[4.5, 1.5, 3.2],\n",
    "    'Thursday': [1.9, 2.0, 6.4],\n",
    "    'Friday':   [4.4, 2.3, 5.4]\n",
    "}"
   ]
  },
  {
   "cell_type": "markdown",
   "id": "21a26b6d-bc94-40a5-88c5-66b2004796e2",
   "metadata": {},
   "source": [
    "変数テーブルの作成後、pandasで便利なデーターマネージメントができます"
   ]
  },
  {
   "cell_type": "code",
   "execution_count": null,
   "id": "7c8e63b4-f17f-46f9-bb99-9585dff17253",
   "metadata": {},
   "outputs": [],
   "source": [
    "import pandas as pd\n",
    "\n",
    "m = pd.DataFrame(measurements_week)"
   ]
  },
  {
   "cell_type": "code",
   "execution_count": null,
   "id": "230d01a9-f746-448b-ba3e-01d8050210f9",
   "metadata": {},
   "outputs": [],
   "source": [
    "m"
   ]
  },
  {
   "cell_type": "code",
   "execution_count": null,
   "id": "83e2a23c-569a-4ccd-98df-5952f68662ab",
   "metadata": {},
   "outputs": [],
   "source": [
    "m.describe()"
   ]
  },
  {
   "cell_type": "code",
   "execution_count": null,
   "id": "f335332f-846a-4403-9b67-082c22025aaf",
   "metadata": {},
   "outputs": [],
   "source": []
  }
 ],
 "metadata": {
  "kernelspec": {
   "display_name": "Python 3 (ipykernel)",
   "language": "python",
   "name": "python3"
  },
  "language_info": {
   "codemirror_mode": {
    "name": "ipython",
    "version": 3
   },
   "file_extension": ".py",
   "mimetype": "text/x-python",
   "name": "python",
   "nbconvert_exporter": "python",
   "pygments_lexer": "ipython3",
   "version": "3.8.18"
  }
 },
 "nbformat": 4,
 "nbformat_minor": 5
}
