{
 "cells": [
  {
   "cell_type": "markdown",
   "id": "1d0b9ab6-dae2-458a-968e-9eab29c19518",
   "metadata": {},
   "source": [
    "## 練習1 \n",
    "\n",
    "Pythonでの数学とimport"
   ]
  },
  {
   "cell_type": "code",
   "execution_count": null,
   "id": "7fc49965-a966-493b-9cc6-bb2828a01018",
   "metadata": {},
   "outputs": [],
   "source": [
    "# 練習1：(x1, y1), (x2, y2)の距離を計算しましょう\n",
    "\n",
    "x1 = 5\n",
    "y1 = 3\n",
    "\n",
    "x2 = 8\n",
    "y2 = 11\n",
    "\n",
    "# dist = ..."
   ]
  },
  {
   "cell_type": "markdown",
   "id": "a883d33a-1f5a-48d8-8c34-cf0738c34f87",
   "metadata": {},
   "source": [
    "## 練習2\n",
    "\n",
    "Python datatypeと f-String"
   ]
  },
  {
   "cell_type": "code",
   "execution_count": null,
   "id": "c93bbe12-01e0-4876-93ea-647a5a80ba8f",
   "metadata": {},
   "outputs": [],
   "source": [
    "# 練習2: 以下の変数で　\"徳川家康 は 1543年1月31日に生まれました\"とプリントできますか？\n",
    "first_name = \"家康\"\n",
    "last_name = \"徳川\"\n",
    "\n",
    "birthday_day = 31\n",
    "birthday_month = 1\n",
    "birthday_year = 1543\n",
    "\n",
    "# msg = f'..."
   ]
  },
  {
   "cell_type": "markdown",
   "id": "08494bcd-34ff-4652-a1c8-61aaf45b0f3a",
   "metadata": {},
   "source": [
    "## 練習3\n",
    "\n",
    "Python list"
   ]
  },
  {
   "cell_type": "code",
   "execution_count": null,
   "id": "0283e654-0451-46fa-aa23-b1bdf1197572",
   "metadata": {},
   "outputs": [],
   "source": [
    "# 練習3: 以下のリストの平均とサイズを計算して、結果をf-Stringで示しましょう\n",
    "measurements_monday = [2.3, 3.1, 5.6]\n",
    "measurements_tuesday = [1.8, 7.0]\n",
    "measurements_wednesday = [4.5, 1.5, 6.4, 3.2]\n",
    "measurements_thursday = [1.9, 2.0]\n",
    "measurements_friday = [4.4]\n",
    "\n",
    "# measurements = ..."
   ]
  },
  {
   "cell_type": "markdown",
   "id": "dbacf129-6d66-4c25-926a-06f1c7b5f4d6",
   "metadata": {},
   "source": [
    "## 練習4\n",
    "\n",
    "Python if ... else ...　と　論理演算子 (True False and or not)"
   ]
  },
  {
   "cell_type": "code",
   "execution_count": null,
   "id": "a8234592-c96c-4759-ac5e-2e84b63e5f0b",
   "metadata": {},
   "outputs": [],
   "source": [
    "# 練習4: ageが10以上で、heightが120以下なら'お乗りいただけます'、でなければ'ご遠慮ください'をプリントする if ... else 式を書いてください\n",
    "age = 11   # 例として、11歳 身長130cmとする\n",
    "height = 130\n",
    "\n",
    "# if ..."
   ]
  },
  {
   "cell_type": "markdown",
   "id": "3f6a15df-db2d-4c14-9b82-5b72efbb1800",
   "metadata": {},
   "source": [
    "## 練習5\n",
    "\n",
    "Python while"
   ]
  },
  {
   "cell_type": "code",
   "execution_count": null,
   "id": "52a3b1a3-e478-4cd3-ab37-353fa4d5d1b6",
   "metadata": {},
   "outputs": [],
   "source": [
    "# 練習5: while と len (Python listパートを参考) を使って感染症の数casesを計算し、毎日までの感染症数をプリントしましょう\n",
    "# Format: f'{index}日目までの感染症数: {total}'\n",
    "\n",
    "cases = [100, 125, 110, 135, 93, 95, 93]\n",
    "total = 0\n",
    "index = 0\n",
    "\n",
    "# while ..."
   ]
  },
  {
   "cell_type": "markdown",
   "id": "c465d607-5aa3-4ad8-b842-bf40448aa42d",
   "metadata": {},
   "source": [
    "## 練習6\n",
    "\n",
    "Python for loop"
   ]
  },
  {
   "cell_type": "code",
   "execution_count": null,
   "id": "ce69b0a0-bdef-4aba-bf63-2f9faf25a07a",
   "metadata": {},
   "outputs": [],
   "source": [
    "# 練習6: for と　if　を使って、以下のリスト内の threshold　より小さい数値をprintして, targetに入れてください\n",
    "\n",
    "values = [1,5,8,3,5,9,2,5,1,2,8,9]\n",
    "target = []\n",
    "threshold = 6\n",
    "\n",
    "# for ..."
   ]
  },
  {
   "cell_type": "markdown",
   "id": "a6dfb406-c8f2-41c9-bee7-f4705fab867f",
   "metadata": {},
   "source": [
    "## 練習7\n",
    "\n",
    "Python function"
   ]
  },
  {
   "cell_type": "code",
   "execution_count": null,
   "id": "7defff08-d2f8-456f-b5a8-97f8dd146fda",
   "metadata": {},
   "outputs": [],
   "source": [
    "# 練習7 print, %, if などを使って数字が奇数か偶数を判断するfunctionを作ってください\n",
    "# i.e.:\n",
    "#  odd_or_even(2)\n",
    "# >>> 偶数です\n",
    "#  odd_or_even(7)\n",
    "# >>> 奇数です\n",
    "\n",
    "# def ..."
   ]
  },
  {
   "cell_type": "markdown",
   "id": "754ff066-5e56-48e6-999f-b366f37dafa6",
   "metadata": {},
   "source": [
    "## 練習8\n",
    "\n",
    "Python numpy"
   ]
  },
  {
   "cell_type": "code",
   "execution_count": null,
   "id": "2cb37b29-196e-4d99-b809-0bd860213cc7",
   "metadata": {},
   "outputs": [],
   "source": [
    "#　練習8.1\n",
    "# numpy.random.randint を使ってランダムにサイズ100の1から10が含まれてるarrayを作りましょう\n",
    "\n",
    "# sample_array = ..."
   ]
  },
  {
   "cell_type": "code",
   "execution_count": null,
   "id": "7df2c4d8-55f1-4166-8530-3cb9bbe75aae",
   "metadata": {},
   "outputs": [],
   "source": [
    "#　練習8.2\n",
    "# np.unique　で前作った数列中のユニークelementを探しましょう\n",
    "\n",
    "# unique_element = ..."
   ]
  },
  {
   "cell_type": "code",
   "execution_count": null,
   "id": "de64c02d-4971-4f87-b473-3de0485db133",
   "metadata": {},
   "outputs": [],
   "source": [
    "#　練習8.3\n",
    "# 各unique elementの数を数えて、結果をprintしましょう\n",
    "# Hint: use 'for ... in ...', 'sum()'\n"
   ]
  }
 ],
 "metadata": {
  "kernelspec": {
   "display_name": "Python 3 (ipykernel)",
   "language": "python",
   "name": "python3"
  },
  "language_info": {
   "codemirror_mode": {
    "name": "ipython",
    "version": 3
   },
   "file_extension": ".py",
   "mimetype": "text/x-python",
   "name": "python",
   "nbconvert_exporter": "python",
   "pygments_lexer": "ipython3",
   "version": "3.8.18"
  }
 },
 "nbformat": 4,
 "nbformat_minor": 5
}
